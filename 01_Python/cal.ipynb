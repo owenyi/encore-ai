{
 "cells": [
  {
   "cell_type": "markdown",
   "id": "f5c3948e",
   "metadata": {},
   "source": [
    "#### 모듈 만들기\n",
    "    모듈이란?\n",
    "    변수와 기능을 갖고 있는 하나의 프레임 단위"
   ]
  },
  {
   "cell_type": "markdown",
   "id": "8698f1c2",
   "metadata": {},
   "source": [
    "    2개의 함수와 하나의 전역변수를 갖는 모듈을 만들었다.\n",
    "    모듈은 확장자가 py로 끝나야 import할 수 있다.\n",
    "    1) 주피터 노트북 File<Download as<Python...해서 직접 추가\n",
    "    2) %%writefile cal.py 매직명령어 사용\n",
    "       참고로 %%매직명령어는 파일 맨 위에 와야한다."
   ]
  },
  {
   "cell_type": "code",
   "execution_count": 1,
   "id": "0c01ba59",
   "metadata": {},
   "outputs": [
    {
     "name": "stdout",
     "output_type": "stream",
     "text": [
      "Writing cal.py\n"
     ]
    }
   ],
   "source": [
    "%%writefile cal.py\n",
    "\n",
    "def plus(a, b):\n",
    "    return a + b\n",
    "\n",
    "def minus(a, b):\n",
    "    return a - b\n",
    "\n",
    "modulename = \"CUSTOM_MODULE\""
   ]
  }
 ],
 "metadata": {
  "kernelspec": {
   "display_name": "Python 3",
   "language": "python",
   "name": "python3"
  },
  "language_info": {
   "codemirror_mode": {
    "name": "ipython",
    "version": 3
   },
   "file_extension": ".py",
   "mimetype": "text/x-python",
   "name": "python",
   "nbconvert_exporter": "python",
   "pygments_lexer": "ipython3",
   "version": "3.8.5"
  }
 },
 "nbformat": 4,
 "nbformat_minor": 5
}
