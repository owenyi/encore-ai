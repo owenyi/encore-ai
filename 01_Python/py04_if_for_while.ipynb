{
 "cells": [
  {
   "cell_type": "code",
   "execution_count": 9,
   "id": "6d50c552",
   "metadata": {},
   "outputs": [],
   "source": [
    "from IPython.core.interactiveshell import InteractiveShell\n",
    "InteractiveShell.ast_node_interactivity = \"all\""
   ]
  },
  {
   "cell_type": "markdown",
   "id": "0d398a78",
   "metadata": {},
   "source": [
    "### 조건문"
   ]
  },
  {
   "cell_type": "code",
   "execution_count": 1,
   "id": "dd129935",
   "metadata": {},
   "outputs": [
    {
     "name": "stdout",
     "output_type": "stream",
     "text": [
      "성적입력>>>76\n",
      "C grade\n"
     ]
    }
   ],
   "source": [
    "grade = int(input(\"성적입력>>>\"))\n",
    "\n",
    "if grade >= 90:\n",
    "    print(\"A grade\")\n",
    "elif grade >= 80:\n",
    "    print(\"B grade\")\n",
    "elif grade >= 70:\n",
    "    print(\"C grade\")\n",
    "else:\n",
    "    print(\"Nuts\")"
   ]
  },
  {
   "cell_type": "markdown",
   "id": "e1c793ac",
   "metadata": {},
   "source": [
    "### 반복문"
   ]
  },
  {
   "cell_type": "code",
   "execution_count": 4,
   "id": "f3fd4e73",
   "metadata": {},
   "outputs": [
    {
     "name": "stdout",
     "output_type": "stream",
     "text": [
      "미나리\n",
      "조커\n",
      "경계선\n",
      "스타워즈\n",
      "****************************************\n",
      "미나리\n",
      "조커\n",
      "경계선\n",
      "스타워즈\n",
      "****************************************\n",
      "미나리\n",
      "조커\n",
      "경계선\n",
      "스타워즈\n"
     ]
    }
   ],
   "source": [
    "movie_list = [\"미나리\", \"조커\", \"경계선\", \"스타워즈\"]\n",
    "\n",
    "i = 0\n",
    "while i < len(movie_list):\n",
    "    print(movie_list[i])\n",
    "    i += 1\n",
    "    \n",
    "print('*' * 40)\n",
    "\n",
    "for i in range(len(movie_list)):\n",
    "    print(movie_list[i])\n",
    "\n",
    "print('*' * 40)\n",
    "\n",
    "for movie in movie_list:\n",
    "    print(movie)"
   ]
  },
  {
   "cell_type": "code",
   "execution_count": 7,
   "id": "77344816",
   "metadata": {},
   "outputs": [
    {
     "name": "stdout",
     "output_type": "stream",
     "text": [
      "키보드로 정수 값을 입력하세요3,4,5,6\n",
      "총합 : 18\n",
      "****************************************\n",
      "총합 : 18\n"
     ]
    }
   ],
   "source": [
    "# 입력 값(3,4,5,6)의 합 구하기\n",
    "data = input(\"키보드로 정수 값을 입력하세요\").split(',')\n",
    "\n",
    "total = 0\n",
    "for x in data:\n",
    "    total += int(x)\n",
    "print(\"총합 :\", total)\n",
    "\n",
    "print('*' * 40)\n",
    "    \n",
    "total = 0\n",
    "for i in range(len(data)):\n",
    "    total += int(data[i])\n",
    "print(\"총합 :\", total)"
   ]
  },
  {
   "cell_type": "code",
   "execution_count": 12,
   "id": "a5581501",
   "metadata": {},
   "outputs": [
    {
     "data": {
      "text/plain": [
       "['3', '4', '5', '6']"
      ]
     },
     "execution_count": 12,
     "metadata": {},
     "output_type": "execute_result"
    },
    {
     "data": {
      "text/plain": [
       "[3, 4, 5, 6]"
      ]
     },
     "execution_count": 12,
     "metadata": {},
     "output_type": "execute_result"
    },
    {
     "name": "stdout",
     "output_type": "stream",
     "text": [
      "총합 : 18\n"
     ]
    }
   ],
   "source": [
    "data\n",
    "\n",
    "intData = [int(x) for x in data]\n",
    "intData\n",
    "\n",
    "print(\"총합 :\", sum(intData))"
   ]
  },
  {
   "cell_type": "code",
   "execution_count": 13,
   "id": "dd2155b6",
   "metadata": {},
   "outputs": [
    {
     "data": {
      "text/plain": [
       "['홀', '짝', '홀', '홀', '짝', '짝']"
      ]
     },
     "execution_count": 13,
     "metadata": {},
     "output_type": "execute_result"
    }
   ],
   "source": [
    "numList = [5, 10, 11, 3, 2, 100]\n",
    "resultList = ['짝' if x % 2 == 0 else '홀' for x in numList]\n",
    "resultList"
   ]
  },
  {
   "cell_type": "markdown",
   "id": "d3607972",
   "metadata": {},
   "source": [
    "#### 이차원 배열에 for 사용하기, 이중 for문"
   ]
  },
  {
   "cell_type": "code",
   "execution_count": 14,
   "id": "883811ec",
   "metadata": {},
   "outputs": [
    {
     "name": "stdout",
     "output_type": "stream",
     "text": [
      "0\t1\t2\t3\t4\t"
     ]
    }
   ],
   "source": [
    "for i in range(5):\n",
    "    print(i, end='\\t')"
   ]
  },
  {
   "cell_type": "code",
   "execution_count": 15,
   "id": "32fd367c",
   "metadata": {},
   "outputs": [
    {
     "data": {
      "text/plain": [
       "3"
      ]
     },
     "execution_count": 15,
     "metadata": {},
     "output_type": "execute_result"
    },
    {
     "data": {
      "text/plain": [
       "[[1, 2, 3], [4, 5, 6], [7, 8, 9]]"
      ]
     },
     "execution_count": 15,
     "metadata": {},
     "output_type": "execute_result"
    }
   ],
   "source": [
    "matrix = [[1, 2, 3], [4, 5, 6], [7, 8, 9]]\n",
    "len(matrix)\n",
    "matrix"
   ]
  },
  {
   "cell_type": "code",
   "execution_count": 17,
   "id": "65cdcbff",
   "metadata": {},
   "outputs": [
    {
     "name": "stdout",
     "output_type": "stream",
     "text": [
      "[1, 2, 3]\n",
      "[4, 5, 6]\n",
      "[7, 8, 9]\n",
      "****************************************\n",
      "1\t2\t3\t\n",
      "4\t5\t6\t\n",
      "7\t8\t9\t\n"
     ]
    }
   ],
   "source": [
    "for x in matrix:\n",
    "    print(x)\n",
    "    \n",
    "print('*' * 40)\n",
    "    \n",
    "for x in matrix:\n",
    "    for y in x:\n",
    "        print(y, end='\\t')\n",
    "    print()"
   ]
  },
  {
   "cell_type": "markdown",
   "id": "9640da2a",
   "metadata": {},
   "source": [
    "#### while True"
   ]
  },
  {
   "cell_type": "code",
   "execution_count": 20,
   "id": "d93b5753",
   "metadata": {},
   "outputs": [
    {
     "name": "stdout",
     "output_type": "stream",
     "text": [
      "1부터 100까지 합 : 5050\n",
      "1부터 100까지 합 : 5050\n"
     ]
    }
   ],
   "source": [
    "# 1부터 100까지 합 구하기\n",
    "total = 0\n",
    "i = 1\n",
    "while i <= 100:\n",
    "    total += i\n",
    "    i += 1\n",
    "print(\"1부터 100까지 합 :\", total)\n",
    "    \n",
    "total = 0\n",
    "i = 1\n",
    "while True:\n",
    "    if i == 101: break\n",
    "    total += i\n",
    "    i += 1\n",
    "print(\"1부터 100까지 합 :\", total)"
   ]
  },
  {
   "cell_type": "markdown",
   "id": "610360f6",
   "metadata": {},
   "source": [
    "#### continue, break, pass"
   ]
  },
  {
   "cell_type": "code",
   "execution_count": 22,
   "id": "ffc14ada",
   "metadata": {},
   "outputs": [
    {
     "name": "stdout",
     "output_type": "stream",
     "text": [
      "0\n",
      "1\n",
      "continue...loop\n",
      "3\n",
      "pass...loop\n",
      "4\n",
      "5\n",
      "break...loop\n"
     ]
    }
   ],
   "source": [
    "for i in range(10):\n",
    "    if i == 2:\n",
    "        print(\"continue...loop\")\n",
    "        continue\n",
    "    if i == 6:\n",
    "        print(\"break...loop\")\n",
    "        break\n",
    "    if i == 4:\n",
    "        print(\"pass...loop\")\n",
    "        pass\n",
    "    print(i)"
   ]
  },
  {
   "cell_type": "code",
   "execution_count": 23,
   "id": "339ed07e",
   "metadata": {},
   "outputs": [
    {
     "data": {
      "text/plain": [
       "3"
      ]
     },
     "execution_count": 23,
     "metadata": {},
     "output_type": "execute_result"
    }
   ],
   "source": [
    "import random\n",
    "com = random.randrange(1, 101) # 1~100까지 숫자 중에서 임의의 정수 하나를 리턴\n",
    "com"
   ]
  }
 ],
 "metadata": {
  "kernelspec": {
   "display_name": "Python 3",
   "language": "python",
   "name": "python3"
  },
  "language_info": {
   "codemirror_mode": {
    "name": "ipython",
    "version": 3
   },
   "file_extension": ".py",
   "mimetype": "text/x-python",
   "name": "python",
   "nbconvert_exporter": "python",
   "pygments_lexer": "ipython3",
   "version": "3.8.5"
  }
 },
 "nbformat": 4,
 "nbformat_minor": 5
}
