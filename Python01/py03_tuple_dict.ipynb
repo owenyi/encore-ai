{
 "cells": [
  {
   "cell_type": "code",
   "execution_count": 1,
   "id": "7d70972d",
   "metadata": {},
   "outputs": [],
   "source": [
    "from IPython.core.interactiveshell import InteractiveShell\n",
    "InteractiveShell.ast_node_interactivity = \"all\""
   ]
  },
  {
   "cell_type": "markdown",
   "id": "6f249335",
   "metadata": {},
   "source": [
    "## tuple - immutable\n",
    "    튜플은 몇 가지 점을 제외하고 거의 리스트와 비슷하다.\n",
    "    다른 점은\n",
    "    - 리스트는 []로 값을 둘러싸지만 튜플은 ()를 사용한다.\n",
    "    - 리스트는 값을 추가, 삭제, 수정...즉 변경이 가능(mutable)하지만\n",
    "      튜플은 한 번 생성된 값을 변경 불가능(immutable)하다.\n",
    "    - 만약에 튜플로 만들어진 값을 조작하고 싶다면 리스트로 형변환시켜 변경한다."
   ]
  },
  {
   "cell_type": "markdown",
   "id": "7f629a77",
   "metadata": {},
   "source": [
    "#### 1. 튜플 생성하기"
   ]
  },
  {
   "cell_type": "code",
   "execution_count": 2,
   "id": "af7fb980",
   "metadata": {},
   "outputs": [
    {
     "data": {
      "text/plain": [
       "(1, 2, 3, 4)"
      ]
     },
     "execution_count": 2,
     "metadata": {},
     "output_type": "execute_result"
    },
    {
     "data": {
      "text/plain": [
       "(4, 5, 6)"
      ]
     },
     "execution_count": 2,
     "metadata": {},
     "output_type": "execute_result"
    },
    {
     "data": {
      "text/plain": [
       "1"
      ]
     },
     "execution_count": 2,
     "metadata": {},
     "output_type": "execute_result"
    },
    {
     "data": {
      "text/plain": [
       "int"
      ]
     },
     "execution_count": 2,
     "metadata": {},
     "output_type": "execute_result"
    },
    {
     "data": {
      "text/plain": [
       "(1,)"
      ]
     },
     "execution_count": 2,
     "metadata": {},
     "output_type": "execute_result"
    },
    {
     "data": {
      "text/plain": [
       "tuple"
      ]
     },
     "execution_count": 2,
     "metadata": {},
     "output_type": "execute_result"
    }
   ],
   "source": [
    "t1 = (1, 2, 3, 4)\n",
    "t2 = (4, 5, 6)\n",
    "t1\n",
    "t2\n",
    "\n",
    "# 중요\n",
    "t3 = (1) # 값이 한 개일 때\n",
    "t3\n",
    "type(t3)\n",
    "# 반드시 뒤에 컴마를 찍어줘야한다.\n",
    "t4 = (1,)\n",
    "t4\n",
    "type(t4)"
   ]
  },
  {
   "cell_type": "markdown",
   "id": "805cde8f",
   "metadata": {},
   "source": [
    "##### 튜플을 사용하는 경우\n",
    "    프로그램이 실행되는 동안 그 값이 항상 변경되지 않기를 바란다면 튜플을 사용\n",
    "    반대로 수시로 그 값을 변경시켜야 하는 경우라면 리스트를 사용"
   ]
  },
  {
   "cell_type": "code",
   "execution_count": 3,
   "id": "4e24df3c",
   "metadata": {},
   "outputs": [
    {
     "data": {
      "text/plain": [
       "3"
      ]
     },
     "execution_count": 3,
     "metadata": {},
     "output_type": "execute_result"
    },
    {
     "data": {
      "text/plain": [
       "int"
      ]
     },
     "execution_count": 3,
     "metadata": {},
     "output_type": "execute_result"
    },
    {
     "data": {
      "text/plain": [
       "(3, 4, 5)"
      ]
     },
     "execution_count": 3,
     "metadata": {},
     "output_type": "execute_result"
    },
    {
     "data": {
      "text/plain": [
       "tuple"
      ]
     },
     "execution_count": 3,
     "metadata": {},
     "output_type": "execute_result"
    }
   ],
   "source": [
    "a, b, c = 3, 4, 5\n",
    "a\n",
    "type(a)\n",
    "\n",
    "a = 3, 4, 5 # 괄호 없이 써도 튜플\n",
    "a\n",
    "type(a)"
   ]
  },
  {
   "cell_type": "code",
   "execution_count": 4,
   "id": "ebc74681",
   "metadata": {},
   "outputs": [
    {
     "data": {
      "text/plain": [
       "[1, 2, 3, 4, 5, 6, 7, 8, 9, 0, 100]"
      ]
     },
     "execution_count": 4,
     "metadata": {},
     "output_type": "execute_result"
    }
   ],
   "source": [
    "t = (1, 2, 3, 4, 5, 6, 7, 8, 9, 0, 100)\n",
    "\n",
    "tList = list(t)\n",
    "tList"
   ]
  },
  {
   "cell_type": "code",
   "execution_count": 5,
   "id": "ccb4f2a6",
   "metadata": {},
   "outputs": [
    {
     "data": {
      "text/plain": [
       "11"
      ]
     },
     "execution_count": 5,
     "metadata": {},
     "output_type": "execute_result"
    },
    {
     "data": {
      "text/plain": [
       "11"
      ]
     },
     "execution_count": 5,
     "metadata": {},
     "output_type": "execute_result"
    },
    {
     "data": {
      "text/plain": [
       "128"
      ]
     },
     "execution_count": 5,
     "metadata": {},
     "output_type": "execute_result"
    },
    {
     "data": {
      "text/plain": [
       "144"
      ]
     },
     "execution_count": 5,
     "metadata": {},
     "output_type": "execute_result"
    }
   ],
   "source": [
    "# 값을 수정할 필요가 없다면, 리스트보다는 튜플을 사용하는 게 효율적이다.\n",
    "# len() : *컨테이너에 포함된 데이터 항목의 개수를 리턴\n",
    "# sys.getsizeof() : 객체의 메모리 사이즈를 바이트 단위로 반환\n",
    "# *컨테이너 : 튜플, 딕셔너리, 리스트, 셋\n",
    "\n",
    "import sys\n",
    "\n",
    "len(t)\n",
    "len(tList)\n",
    "\n",
    "sys.getsizeof(t)\n",
    "sys.getsizeof(tList)"
   ]
  },
  {
   "cell_type": "markdown",
   "id": "78a20c20",
   "metadata": {},
   "source": [
    "#### 2. 튜플 삭제 및 변경하기"
   ]
  },
  {
   "cell_type": "code",
   "execution_count": 6,
   "id": "f6bba9c4",
   "metadata": {},
   "outputs": [
    {
     "ename": "TypeError",
     "evalue": "'tuple' object doesn't support item deletion",
     "output_type": "error",
     "traceback": [
      "\u001b[1;31m---------------------------------------------------------------------------\u001b[0m",
      "\u001b[1;31mTypeError\u001b[0m                                 Traceback (most recent call last)",
      "\u001b[1;32m<ipython-input-6-434d9c9c1ddd>\u001b[0m in \u001b[0;36m<module>\u001b[1;34m\u001b[0m\n\u001b[0;32m      1\u001b[0m \u001b[0mt\u001b[0m \u001b[1;33m=\u001b[0m \u001b[1;33m(\u001b[0m\u001b[1;36m1\u001b[0m\u001b[1;33m,\u001b[0m \u001b[1;36m2\u001b[0m\u001b[1;33m,\u001b[0m \u001b[1;36m3\u001b[0m\u001b[1;33m)\u001b[0m\u001b[1;33m\u001b[0m\u001b[1;33m\u001b[0m\u001b[0m\n\u001b[1;32m----> 2\u001b[1;33m \u001b[1;32mdel\u001b[0m \u001b[0mt\u001b[0m\u001b[1;33m[\u001b[0m\u001b[1;36m2\u001b[0m\u001b[1;33m]\u001b[0m\u001b[1;33m\u001b[0m\u001b[1;33m\u001b[0m\u001b[0m\n\u001b[0m",
      "\u001b[1;31mTypeError\u001b[0m: 'tuple' object doesn't support item deletion"
     ]
    }
   ],
   "source": [
    "t = (1, 2, 3)\n",
    "del t[2]"
   ]
  },
  {
   "cell_type": "code",
   "execution_count": 7,
   "id": "4286556b",
   "metadata": {},
   "outputs": [
    {
     "ename": "TypeError",
     "evalue": "'tuple' object does not support item assignment",
     "output_type": "error",
     "traceback": [
      "\u001b[1;31m---------------------------------------------------------------------------\u001b[0m",
      "\u001b[1;31mTypeError\u001b[0m                                 Traceback (most recent call last)",
      "\u001b[1;32m<ipython-input-7-72b9620161eb>\u001b[0m in \u001b[0;36m<module>\u001b[1;34m\u001b[0m\n\u001b[0;32m      1\u001b[0m \u001b[0mt\u001b[0m \u001b[1;33m=\u001b[0m \u001b[1;33m(\u001b[0m\u001b[1;36m1\u001b[0m\u001b[1;33m,\u001b[0m \u001b[1;36m0\u001b[0m\u001b[1;33m,\u001b[0m \u001b[1;36m3\u001b[0m\u001b[1;33m)\u001b[0m\u001b[1;33m\u001b[0m\u001b[1;33m\u001b[0m\u001b[0m\n\u001b[1;32m----> 2\u001b[1;33m \u001b[0mt\u001b[0m\u001b[1;33m[\u001b[0m\u001b[1;36m1\u001b[0m\u001b[1;33m]\u001b[0m \u001b[1;33m=\u001b[0m \u001b[1;36m2\u001b[0m\u001b[1;33m\u001b[0m\u001b[1;33m\u001b[0m\u001b[0m\n\u001b[0m",
      "\u001b[1;31mTypeError\u001b[0m: 'tuple' object does not support item assignment"
     ]
    }
   ],
   "source": [
    "t = (1, 0, 3)\n",
    "t[1] = 2"
   ]
  },
  {
   "cell_type": "markdown",
   "id": "d04982a7",
   "metadata": {},
   "source": [
    "## dict"
   ]
  },
  {
   "cell_type": "markdown",
   "id": "f1b42cde",
   "metadata": {},
   "source": [
    "#### 1. 딕셔너리 생성하기"
   ]
  },
  {
   "cell_type": "code",
   "execution_count": 8,
   "id": "0fcbafc5",
   "metadata": {},
   "outputs": [
    {
     "data": {
      "text/plain": [
       "{'name': 'DRAM', 'capa': '23g', 'maker': 'SK', 'price': 320000}"
      ]
     },
     "execution_count": 8,
     "metadata": {},
     "output_type": "execute_result"
    }
   ],
   "source": [
    "pro_dic = {\"name\": \"DRAM\", \"capa\": \"23g\", \"maker\": \"SK\", \"price\": 320000}\n",
    "pro_dic"
   ]
  },
  {
   "cell_type": "markdown",
   "id": "bc035d3c",
   "metadata": {},
   "source": [
    "#### 2. 딕셔너리 데이터 조회하기\n",
    "    1) dict[key]\n",
    "    2) dict.get(key)"
   ]
  },
  {
   "cell_type": "code",
   "execution_count": 9,
   "id": "c64e57cc",
   "metadata": {},
   "outputs": [
    {
     "ename": "KeyError",
     "evalue": "0",
     "output_type": "error",
     "traceback": [
      "\u001b[1;31m---------------------------------------------------------------------------\u001b[0m",
      "\u001b[1;31mKeyError\u001b[0m                                  Traceback (most recent call last)",
      "\u001b[1;32m<ipython-input-9-ab68db6f6c89>\u001b[0m in \u001b[0;36m<module>\u001b[1;34m\u001b[0m\n\u001b[0;32m      1\u001b[0m \u001b[1;31m# 딕셔너리 데이터를 조회할 때는 인덱싱과 슬라이싱 불가능하다...순서가 없기 때문\u001b[0m\u001b[1;33m\u001b[0m\u001b[1;33m\u001b[0m\u001b[1;33m\u001b[0m\u001b[0m\n\u001b[1;32m----> 2\u001b[1;33m \u001b[0mpro_dic\u001b[0m\u001b[1;33m[\u001b[0m\u001b[1;36m0\u001b[0m\u001b[1;33m]\u001b[0m\u001b[1;33m\u001b[0m\u001b[1;33m\u001b[0m\u001b[0m\n\u001b[0m",
      "\u001b[1;31mKeyError\u001b[0m: 0"
     ]
    }
   ],
   "source": [
    "# 딕셔너리 데이터를 조회할 때는 인덱싱과 슬라이싱 불가능하다...순서가 없기 때문\n",
    "pro_dic[0]"
   ]
  },
  {
   "cell_type": "code",
   "execution_count": 10,
   "id": "07597d8b",
   "metadata": {},
   "outputs": [
    {
     "data": {
      "text/plain": [
       "'DRAM'"
      ]
     },
     "execution_count": 10,
     "metadata": {},
     "output_type": "execute_result"
    },
    {
     "data": {
      "text/plain": [
       "'DRAM'"
      ]
     },
     "execution_count": 10,
     "metadata": {},
     "output_type": "execute_result"
    }
   ],
   "source": [
    "# 딕셔너리는 key를 통해서만 조회가 가능하다.\n",
    "pro_dic[\"name\"]\n",
    "pro_dic.get(\"name\")"
   ]
  },
  {
   "cell_type": "code",
   "execution_count": 11,
   "id": "d440a39f",
   "metadata": {},
   "outputs": [
    {
     "ename": "KeyError",
     "evalue": "'없는키'",
     "output_type": "error",
     "traceback": [
      "\u001b[1;31m---------------------------------------------------------------------------\u001b[0m",
      "\u001b[1;31mKeyError\u001b[0m                                  Traceback (most recent call last)",
      "\u001b[1;32m<ipython-input-11-463da703c376>\u001b[0m in \u001b[0;36m<module>\u001b[1;34m\u001b[0m\n\u001b[1;32m----> 1\u001b[1;33m \u001b[0mprint\u001b[0m\u001b[1;33m(\u001b[0m\u001b[0mpro_dic\u001b[0m\u001b[1;33m[\u001b[0m\u001b[1;34m\"없는키\"\u001b[0m\u001b[1;33m]\u001b[0m\u001b[1;33m)\u001b[0m \u001b[1;31m# 에러남\u001b[0m\u001b[1;33m\u001b[0m\u001b[1;33m\u001b[0m\u001b[0m\n\u001b[0m",
      "\u001b[1;31mKeyError\u001b[0m: '없는키'"
     ]
    }
   ],
   "source": [
    "print(pro_dic[\"없는키\"]) # 에러남"
   ]
  },
  {
   "cell_type": "code",
   "execution_count": 12,
   "id": "b76e99f7",
   "metadata": {},
   "outputs": [
    {
     "name": "stdout",
     "output_type": "stream",
     "text": [
      "None\n"
     ]
    }
   ],
   "source": [
    "print(pro_dic.get(\"없는키\"))"
   ]
  },
  {
   "cell_type": "markdown",
   "id": "b148329f",
   "metadata": {},
   "source": [
    "#### 3. 데이터 수정하기"
   ]
  },
  {
   "cell_type": "code",
   "execution_count": 13,
   "id": "1cb85fae",
   "metadata": {},
   "outputs": [
    {
     "data": {
      "text/plain": [
       "{'name': 'DRAM', 'capa': '23g', 'maker': 'SK', 'price': 230000}"
      ]
     },
     "execution_count": 13,
     "metadata": {},
     "output_type": "execute_result"
    }
   ],
   "source": [
    "pro_dic[\"price\"] = 230000\n",
    "pro_dic"
   ]
  },
  {
   "cell_type": "code",
   "execution_count": 14,
   "id": "a1d6eb2d",
   "metadata": {},
   "outputs": [
    {
     "data": {
      "text/plain": [
       "{'name': 'DRAM',\n",
       " 'capa': '23g',\n",
       " 'maker': 'SK',\n",
       " 'price': 230000,\n",
       " 'info': '이천',\n",
       " 'pop': 33}"
      ]
     },
     "execution_count": 14,
     "metadata": {},
     "output_type": "execute_result"
    }
   ],
   "source": [
    "# 데이터 추가하기\n",
    "addInfo = {\"info\": \"이천\", \"pop\": 33}\n",
    "pro_dic.update(addInfo)\n",
    "pro_dic"
   ]
  },
  {
   "cell_type": "markdown",
   "id": "b8f0b348",
   "metadata": {},
   "source": [
    "#### 4. 데이터 삭제하기\n",
    "    del dict[key]"
   ]
  },
  {
   "cell_type": "code",
   "execution_count": 15,
   "id": "5156a633",
   "metadata": {},
   "outputs": [
    {
     "ename": "KeyError",
     "evalue": "-1",
     "output_type": "error",
     "traceback": [
      "\u001b[1;31m---------------------------------------------------------------------------\u001b[0m",
      "\u001b[1;31mKeyError\u001b[0m                                  Traceback (most recent call last)",
      "\u001b[1;32m<ipython-input-15-0d2591bd6525>\u001b[0m in \u001b[0;36m<module>\u001b[1;34m\u001b[0m\n\u001b[0;32m      1\u001b[0m \u001b[1;31m# 다시 한 번 인덱스 접근 안 된다.\u001b[0m\u001b[1;33m\u001b[0m\u001b[1;33m\u001b[0m\u001b[1;33m\u001b[0m\u001b[0m\n\u001b[1;32m----> 2\u001b[1;33m \u001b[1;32mdel\u001b[0m \u001b[0mpro_dic\u001b[0m\u001b[1;33m[\u001b[0m\u001b[1;33m-\u001b[0m\u001b[1;36m1\u001b[0m\u001b[1;33m]\u001b[0m\u001b[1;33m\u001b[0m\u001b[1;33m\u001b[0m\u001b[0m\n\u001b[0m",
      "\u001b[1;31mKeyError\u001b[0m: -1"
     ]
    }
   ],
   "source": [
    "# 다시 한 번 인덱스 접근 안 된다.\n",
    "del pro_dic[-1]"
   ]
  },
  {
   "cell_type": "code",
   "execution_count": 16,
   "id": "766fddac",
   "metadata": {},
   "outputs": [
    {
     "data": {
      "text/plain": [
       "{'name': 'DRAM', 'capa': '23g', 'maker': 'SK', 'price': 230000, 'info': '이천'}"
      ]
     },
     "execution_count": 16,
     "metadata": {},
     "output_type": "execute_result"
    }
   ],
   "source": [
    "del pro_dic[\"pop\"]\n",
    "pro_dic"
   ]
  },
  {
   "cell_type": "markdown",
   "id": "aaf66548",
   "metadata": {},
   "source": [
    "#### 딕셔너리를 다룰 때 주의할 사항\n",
    "    1) 키 값은 중복될 수 없다. 만약 키가 중복되면 마지막 값으로 덮어쓴다.\n",
    "    2) 키 값으로는 리스트 사용 불가, 튜풀은 사용 가능 - dict의 key는 immutable\n",
    "    3) 없는 key를 입력했을 때 dict[key]와 dict.get(key)의 차이\n",
    "       - dict[key] : 존재하지 않는 키를 입력하면 에러 발생\n",
    "       - dict.get(key) : 존재하지 않는 키를 입력하면 None 리턴"
   ]
  },
  {
   "cell_type": "code",
   "execution_count": 17,
   "id": "b708c396",
   "metadata": {},
   "outputs": [
    {
     "data": {
      "text/plain": [
       "{'x': 100, 'y': 2}"
      ]
     },
     "execution_count": 17,
     "metadata": {},
     "output_type": "execute_result"
    }
   ],
   "source": [
    "a = {\"x\": 1, \"y\": 2}\n",
    "a[\"x\"] = 100\n",
    "a"
   ]
  },
  {
   "cell_type": "code",
   "execution_count": 18,
   "id": "9751fcd9",
   "metadata": {},
   "outputs": [
    {
     "ename": "TypeError",
     "evalue": "unhashable type: 'list'",
     "output_type": "error",
     "traceback": [
      "\u001b[1;31m---------------------------------------------------------------------------\u001b[0m",
      "\u001b[1;31mTypeError\u001b[0m                                 Traceback (most recent call last)",
      "\u001b[1;32m<ipython-input-18-18e243479ab8>\u001b[0m in \u001b[0;36m<module>\u001b[1;34m\u001b[0m\n\u001b[1;32m----> 1\u001b[1;33m \u001b[0ma\u001b[0m \u001b[1;33m=\u001b[0m \u001b[1;33m{\u001b[0m\u001b[1;33m[\u001b[0m\u001b[1;36m1\u001b[0m\u001b[1;33m,\u001b[0m \u001b[1;36m2\u001b[0m\u001b[1;33m,\u001b[0m \u001b[1;36m3\u001b[0m\u001b[1;33m]\u001b[0m\u001b[1;33m:\u001b[0m \u001b[1;34m\"hi\"\u001b[0m\u001b[1;33m}\u001b[0m\u001b[1;33m\u001b[0m\u001b[1;33m\u001b[0m\u001b[0m\n\u001b[0m\u001b[0;32m      2\u001b[0m \u001b[0ma\u001b[0m\u001b[1;33m\u001b[0m\u001b[1;33m\u001b[0m\u001b[0m\n",
      "\u001b[1;31mTypeError\u001b[0m: unhashable type: 'list'"
     ]
    }
   ],
   "source": [
    "a = {[1, 2, 3]: \"hi\"}\n",
    "a"
   ]
  },
  {
   "cell_type": "code",
   "execution_count": 19,
   "id": "748937df",
   "metadata": {},
   "outputs": [
    {
     "data": {
      "text/plain": [
       "{(1, 2, 3): 'hi'}"
      ]
     },
     "execution_count": 19,
     "metadata": {},
     "output_type": "execute_result"
    }
   ],
   "source": [
    "a = {(1, 2, 3): \"hi\"}\n",
    "a"
   ]
  },
  {
   "cell_type": "markdown",
   "id": "fb6ac88c",
   "metadata": {},
   "source": [
    "#### 딕셔너리 함수 사용하기\n",
    "    keys()\n",
    "    values()\n",
    "    items()"
   ]
  },
  {
   "cell_type": "code",
   "execution_count": 20,
   "id": "f2a05a6a",
   "metadata": {},
   "outputs": [
    {
     "data": {
      "text/plain": [
       "{'name': 'PETER', 'age': 34, 'address': 'Texas', 'phone': '010-1234-5678'}"
      ]
     },
     "execution_count": 20,
     "metadata": {},
     "output_type": "execute_result"
    }
   ],
   "source": [
    "dic = {\"name\": \"PETER\", \"age\": 34, \"address\": \"Texas\", \"phone\": \"010-1234-5678\"}\n",
    "dic"
   ]
  },
  {
   "cell_type": "code",
   "execution_count": 21,
   "id": "b4c02b3d",
   "metadata": {},
   "outputs": [
    {
     "data": {
      "text/plain": [
       "dict_keys(['name', 'age', 'address', 'phone'])"
      ]
     },
     "execution_count": 21,
     "metadata": {},
     "output_type": "execute_result"
    },
    {
     "data": {
      "text/plain": [
       "dict_keys"
      ]
     },
     "execution_count": 21,
     "metadata": {},
     "output_type": "execute_result"
    }
   ],
   "source": [
    "keys = dic.keys()\n",
    "keys\n",
    "type(keys)"
   ]
  },
  {
   "cell_type": "code",
   "execution_count": 22,
   "id": "e911d875",
   "metadata": {},
   "outputs": [
    {
     "data": {
      "text/plain": [
       "'name'"
      ]
     },
     "execution_count": 22,
     "metadata": {},
     "output_type": "execute_result"
    },
    {
     "data": {
      "text/plain": [
       "'age'"
      ]
     },
     "execution_count": 22,
     "metadata": {},
     "output_type": "execute_result"
    },
    {
     "data": {
      "text/plain": [
       "'address'"
      ]
     },
     "execution_count": 22,
     "metadata": {},
     "output_type": "execute_result"
    },
    {
     "data": {
      "text/plain": [
       "'phone'"
      ]
     },
     "execution_count": 22,
     "metadata": {},
     "output_type": "execute_result"
    }
   ],
   "source": [
    "# for...in으로 하나씩 출력 가능\n",
    "for x in keys:\n",
    "    x"
   ]
  },
  {
   "cell_type": "code",
   "execution_count": 23,
   "id": "26e29c9e",
   "metadata": {},
   "outputs": [
    {
     "ename": "TypeError",
     "evalue": "'dict_keys' object is not subscriptable",
     "output_type": "error",
     "traceback": [
      "\u001b[1;31m---------------------------------------------------------------------------\u001b[0m",
      "\u001b[1;31mTypeError\u001b[0m                                 Traceback (most recent call last)",
      "\u001b[1;32m<ipython-input-23-4cbd630bd960>\u001b[0m in \u001b[0;36m<module>\u001b[1;34m\u001b[0m\n\u001b[0;32m      1\u001b[0m \u001b[1;31m# 하지만 인덱싱이 안 된다.\u001b[0m\u001b[1;33m\u001b[0m\u001b[1;33m\u001b[0m\u001b[1;33m\u001b[0m\u001b[0m\n\u001b[1;32m----> 2\u001b[1;33m \u001b[0mkeys\u001b[0m\u001b[1;33m[\u001b[0m\u001b[1;36m0\u001b[0m\u001b[1;33m]\u001b[0m\u001b[1;33m\u001b[0m\u001b[1;33m\u001b[0m\u001b[0m\n\u001b[0m",
      "\u001b[1;31mTypeError\u001b[0m: 'dict_keys' object is not subscriptable"
     ]
    }
   ],
   "source": [
    "# 하지만 인덱싱이 안 된다.\n",
    "keys[0]"
   ]
  },
  {
   "cell_type": "code",
   "execution_count": 24,
   "id": "9adb58f8",
   "metadata": {},
   "outputs": [
    {
     "data": {
      "text/plain": [
       "['name', 'age', 'address', 'phone']"
      ]
     },
     "execution_count": 24,
     "metadata": {},
     "output_type": "execute_result"
    }
   ],
   "source": [
    "# 뿐만 아니라 리스트의 기능을 사용하려면 list로 바꿔야한다.\n",
    "keyList = list(keys)\n",
    "keyList"
   ]
  },
  {
   "cell_type": "code",
   "execution_count": 25,
   "id": "be7a2c6d",
   "metadata": {},
   "outputs": [
    {
     "data": {
      "text/plain": [
       "dict_values(['PETER', 34, 'Texas', '010-1234-5678'])"
      ]
     },
     "execution_count": 25,
     "metadata": {},
     "output_type": "execute_result"
    },
    {
     "data": {
      "text/plain": [
       "dict_values"
      ]
     },
     "execution_count": 25,
     "metadata": {},
     "output_type": "execute_result"
    }
   ],
   "source": [
    "values = dic.values()\n",
    "values\n",
    "type(values)"
   ]
  },
  {
   "cell_type": "code",
   "execution_count": 29,
   "id": "36720ebe",
   "metadata": {},
   "outputs": [
    {
     "data": {
      "text/plain": [
       "dict_items([('name', 'PETER'), ('age', 34), ('address', 'Texas'), ('phone', '010-1234-5678')])"
      ]
     },
     "execution_count": 29,
     "metadata": {},
     "output_type": "execute_result"
    },
    {
     "data": {
      "text/plain": [
       "dict_items"
      ]
     },
     "execution_count": 29,
     "metadata": {},
     "output_type": "execute_result"
    }
   ],
   "source": [
    "items = dic.items()\n",
    "items\n",
    "type(items)"
   ]
  },
  {
   "cell_type": "code",
   "execution_count": 31,
   "id": "feeafe61",
   "metadata": {},
   "outputs": [
    {
     "data": {
      "text/plain": [
       "{'name': 'PETER', 'age': 34, 'address': 'Texas', 'phone': '010-1234-5678'}"
      ]
     },
     "execution_count": 31,
     "metadata": {},
     "output_type": "execute_result"
    },
    {
     "data": {
      "text/plain": [
       "True"
      ]
     },
     "execution_count": 31,
     "metadata": {},
     "output_type": "execute_result"
    },
    {
     "data": {
      "text/plain": [
       "False"
      ]
     },
     "execution_count": 31,
     "metadata": {},
     "output_type": "execute_result"
    }
   ],
   "source": [
    "# cf) in\n",
    "dic\n",
    "\"name\" in dic\n",
    "\"PETER\" in dic"
   ]
  }
 ],
 "metadata": {
  "kernelspec": {
   "display_name": "Python 3",
   "language": "python",
   "name": "python3"
  },
  "language_info": {
   "codemirror_mode": {
    "name": "ipython",
    "version": 3
   },
   "file_extension": ".py",
   "mimetype": "text/x-python",
   "name": "python",
   "nbconvert_exporter": "python",
   "pygments_lexer": "ipython3",
   "version": "3.8.5"
  }
 },
 "nbformat": 4,
 "nbformat_minor": 5
}
