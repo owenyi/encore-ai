{
 "cells": [
  {
   "cell_type": "markdown",
   "id": "58605349",
   "metadata": {},
   "source": [
    "### 4개의 함수를 갖는 모듈\n",
    "    getSum(data)\n",
    "    getMean(data)\n",
    "    getMax(data)\n",
    "    getMin(data)\n",
    "    getTwoSum(a, b)"
   ]
  },
  {
   "cell_type": "code",
   "execution_count": 1,
   "id": "69ac25e6",
   "metadata": {},
   "outputs": [
    {
     "name": "stdout",
     "output_type": "stream",
     "text": [
      "Overwriting MyScoreMod.py\n"
     ]
    }
   ],
   "source": [
    "%%writefile MyScoreMod.py\n",
    "\n",
    "def getSum(data):\n",
    "    total = 0\n",
    "    for x in data:\n",
    "        total += x \n",
    "    return total\n",
    "\n",
    "def getMean(data):\n",
    "    return getSum(data) / len(data)\n",
    "\n",
    "def getMax(data):\n",
    "    _max = data[0]\n",
    "    for x in data[1:]:\n",
    "        if x > _max: _max = x\n",
    "    return _max\n",
    "\n",
    "def getMin(data):\n",
    "    _min = data[0]\n",
    "    for x in data[1:]:\n",
    "        if x < _min: _min = x\n",
    "    return _min\n",
    "\n",
    "def getTwoSum(num2, num1): # 두 수 사이의 합\n",
    "    total = 0\n",
    "    if num1 > num2: num1, num2 = num2, num1\n",
    "    for i in range(num1, num2 + 1):\n",
    "        total += i\n",
    "    return total"
   ]
  }
 ],
 "metadata": {
  "kernelspec": {
   "display_name": "Python 3",
   "language": "python",
   "name": "python3"
  },
  "language_info": {
   "codemirror_mode": {
    "name": "ipython",
    "version": 3
   },
   "file_extension": ".py",
   "mimetype": "text/x-python",
   "name": "python",
   "nbconvert_exporter": "python",
   "pygments_lexer": "ipython3",
   "version": "3.8.5"
  }
 },
 "nbformat": 4,
 "nbformat_minor": 5
}
