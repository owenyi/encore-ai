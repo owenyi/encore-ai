{
 "cells": [
  {
   "cell_type": "markdown",
   "id": "fa5f34ab",
   "metadata": {},
   "source": [
    "### 머신러닝 플로우\n",
    "    머신러닝 단계는 크게\n",
    "    데이터 분석(데이터 로더, Feature 추출, 데이터 전처리)\n",
    "    ---> 모델 생성\n",
    "    ---> 모델 학습\n",
    "    ---> 예측\n",
    "    ---> 평가(Accuracy측정)\n",
    "    이렇게 크게 프로세스가 나뉜다.\n",
    "    \n",
    "    이 중 성능평가 단계에서 정확도 측정/오차 행렬을 살펴본다."
   ]
  },
  {
   "cell_type": "markdown",
   "id": "9883e07a",
   "metadata": {},
   "source": [
    "### Bagging 기법\n",
    "    RF는 앙상블 알고리즘 중 다양한 영역에서 높은 성능을 보인다.\n",
    "    RF는 Bagging 알고리즘이 적용된 모델이다.\n",
    "    여러 개의 결정트리가 전체 데이터 셋에서 Bagging방식으로 각자의 데이터 셋을 샘플링해 개별적으로 학습을 수행한 뒤\n",
    "    최종적으로 투표 방식(다수결의 원칙)을 통해 가장 보편적인 예측 결정을 하게 된다.\n",
    "    \n",
    "    Scikit-Learn은 RandomForestClassifier 클래스를 통해 랜덤포레스트 기반의 분류를 지원한다."
   ]
  },
  {
   "cell_type": "markdown",
   "id": "cc17a255",
   "metadata": {},
   "source": [
    "### sklearn IRIS DataSet Loader"
   ]
  },
  {
   "cell_type": "code",
   "execution_count": 1,
   "id": "1c4992db",
   "metadata": {},
   "outputs": [],
   "source": [
    "import numpy as np\n",
    "import pandas as pd\n",
    "import matplotlib.pyplot as plt\n",
    "import seaborn as sns\n",
    "\n",
    "from sklearn import datasets\n",
    "from sklearn.model_selection import train_test_split\n",
    "\n",
    "iris = datasets.load_iris()\n",
    "# iris"
   ]
  },
  {
   "cell_type": "code",
   "execution_count": 2,
   "id": "5390ea63",
   "metadata": {},
   "outputs": [
    {
     "data": {
      "text/plain": [
       "['sepal length (cm)',\n",
       " 'sepal width (cm)',\n",
       " 'petal length (cm)',\n",
       " 'petal width (cm)']"
      ]
     },
     "execution_count": 2,
     "metadata": {},
     "output_type": "execute_result"
    }
   ],
   "source": [
    "iris.feature_names"
   ]
  },
  {
   "cell_type": "code",
   "execution_count": 3,
   "id": "871b9d34",
   "metadata": {},
   "outputs": [
    {
     "data": {
      "text/plain": [
       "array(['setosa', 'versicolor', 'virginica'], dtype='<U10')"
      ]
     },
     "execution_count": 3,
     "metadata": {},
     "output_type": "execute_result"
    }
   ],
   "source": [
    "iris.target_names"
   ]
  },
  {
   "cell_type": "code",
   "execution_count": 4,
   "id": "dd0f54b5",
   "metadata": {},
   "outputs": [
    {
     "data": {
      "text/plain": [
       "(150, 4)"
      ]
     },
     "execution_count": 4,
     "metadata": {},
     "output_type": "execute_result"
    }
   ],
   "source": [
    "iris.data.shape"
   ]
  },
  {
   "cell_type": "code",
   "execution_count": 5,
   "id": "c9fe926e",
   "metadata": {},
   "outputs": [
    {
     "data": {
      "text/plain": [
       "(150,)"
      ]
     },
     "execution_count": 5,
     "metadata": {},
     "output_type": "execute_result"
    }
   ],
   "source": [
    "iris.target.shape"
   ]
  },
  {
   "cell_type": "code",
   "execution_count": 6,
   "id": "c7707a25",
   "metadata": {},
   "outputs": [],
   "source": [
    "X_train, X_test, y_train, y_test = train_test_split(iris.data, \n",
    "                                                    iris.target, \n",
    "                                                    random_state=42,\n",
    "                                                    stratify=iris.target)"
   ]
  },
  {
   "cell_type": "markdown",
   "id": "08aaf2b5",
   "metadata": {},
   "source": [
    "### RF Model 생성"
   ]
  },
  {
   "cell_type": "code",
   "execution_count": 7,
   "id": "6058a04d",
   "metadata": {},
   "outputs": [],
   "source": [
    "from sklearn.ensemble import RandomForestClassifier"
   ]
  },
  {
   "cell_type": "code",
   "execution_count": 8,
   "id": "3c8ed4d1",
   "metadata": {},
   "outputs": [
    {
     "data": {
      "text/plain": [
       "RandomForestClassifier(n_jobs=-1, random_state=42)"
      ]
     },
     "execution_count": 8,
     "metadata": {},
     "output_type": "execute_result"
    }
   ],
   "source": [
    "forest = RandomForestClassifier(n_estimators=100, # Decision Tree의 개수\n",
    "                                n_jobs=-1,        # 사용할 CPU 코어 개수\n",
    "                                random_state=42)\n",
    "forest.fit(X_train, y_train)"
   ]
  },
  {
   "cell_type": "markdown",
   "id": "5a794e4e",
   "metadata": {},
   "source": [
    "### Model Accuracy 측정하기\n",
    "    1) 직접 일일이 확인\n",
    "    2) 사용자 함수 정의해서 확인\n",
    "    3) score(), accuracy_score() 라이브러리 함수 사용해서 확인"
   ]
  },
  {
   "cell_type": "code",
   "execution_count": 9,
   "id": "f79c73a0",
   "metadata": {},
   "outputs": [
    {
     "name": "stdout",
     "output_type": "stream",
     "text": [
      "[0 1 1 1 0 1 1 2 2 2 1 2 1 1 0 0 0 1 0 1 2 1 2 1 2 1 0 2 0 2 2 2 0 0 0 0 2\n",
      " 1]\n",
      "[0 1 1 1 0 1 2 2 2 2 2 2 1 1 0 0 0 1 0 1 2 1 2 1 2 1 0 2 0 1 2 2 0 0 0 0 2\n",
      " 1]\n"
     ]
    }
   ],
   "source": [
    "# 1)\n",
    "y_pred = forest.predict(X_test)\n",
    "print(y_pred)\n",
    "print(y_test)"
   ]
  },
  {
   "cell_type": "code",
   "execution_count": 10,
   "id": "5f554d81",
   "metadata": {},
   "outputs": [
    {
     "name": "stdout",
     "output_type": "stream",
     "text": [
      "unmatched : (1, 2)\n",
      "unmatched : (1, 2)\n",
      "unmatched : (2, 1)\n"
     ]
    }
   ],
   "source": [
    "# 2)\n",
    "y_tuple = zip(y_pred, y_test) # zip type\n",
    "\n",
    "for a, b in y_tuple:\n",
    "    if a != b: print(f\"unmatched : {a, b}\")"
   ]
  },
  {
   "cell_type": "code",
   "execution_count": 11,
   "id": "bacb9065",
   "metadata": {},
   "outputs": [
    {
     "data": {
      "text/plain": [
       "0.9210526315789473"
      ]
     },
     "execution_count": 11,
     "metadata": {},
     "output_type": "execute_result"
    }
   ],
   "source": [
    "# 3)\n",
    "forest.score(X_test, y_test)"
   ]
  },
  {
   "cell_type": "code",
   "execution_count": 12,
   "id": "731fc0a5",
   "metadata": {},
   "outputs": [
    {
     "data": {
      "text/plain": [
       "0.9210526315789473"
      ]
     },
     "execution_count": 12,
     "metadata": {},
     "output_type": "execute_result"
    }
   ],
   "source": [
    "# 3-1)\n",
    "from sklearn.metrics import accuracy_score\n",
    "accuracy_score(y_test, y_pred)"
   ]
  },
  {
   "cell_type": "markdown",
   "id": "cf8b38b3",
   "metadata": {},
   "source": [
    "### Confusion Matrix"
   ]
  },
  {
   "cell_type": "code",
   "execution_count": 13,
   "id": "bab17dac",
   "metadata": {},
   "outputs": [
    {
     "data": {
      "text/html": [
       "<div>\n",
       "<style scoped>\n",
       "    .dataframe tbody tr th:only-of-type {\n",
       "        vertical-align: middle;\n",
       "    }\n",
       "\n",
       "    .dataframe tbody tr th {\n",
       "        vertical-align: top;\n",
       "    }\n",
       "\n",
       "    .dataframe thead th {\n",
       "        text-align: right;\n",
       "    }\n",
       "</style>\n",
       "<table border=\"1\" class=\"dataframe\">\n",
       "  <thead>\n",
       "    <tr style=\"text-align: right;\">\n",
       "      <th></th>\n",
       "      <th>0</th>\n",
       "      <th>1</th>\n",
       "      <th>2</th>\n",
       "    </tr>\n",
       "  </thead>\n",
       "  <tbody>\n",
       "    <tr>\n",
       "      <th>0</th>\n",
       "      <td>2</td>\n",
       "      <td>0</td>\n",
       "      <td>0</td>\n",
       "    </tr>\n",
       "    <tr>\n",
       "      <th>1</th>\n",
       "      <td>0</td>\n",
       "      <td>0</td>\n",
       "      <td>1</td>\n",
       "    </tr>\n",
       "    <tr>\n",
       "      <th>2</th>\n",
       "      <td>1</td>\n",
       "      <td>0</td>\n",
       "      <td>2</td>\n",
       "    </tr>\n",
       "  </tbody>\n",
       "</table>\n",
       "</div>"
      ],
      "text/plain": [
       "   0  1  2\n",
       "0  2  0  0\n",
       "1  0  0  1\n",
       "2  1  0  2"
      ]
     },
     "execution_count": 13,
     "metadata": {},
     "output_type": "execute_result"
    }
   ],
   "source": [
    "from sklearn.metrics import confusion_matrix\n",
    "label = [2, 0, 2, 2, 0, 1]\n",
    "predict = [0, 0, 2, 2, 0, 2]\n",
    "confusion_matrix(label, predict)\n",
    "\n",
    "cm = pd.DataFrame(confusion_matrix(label, predict))\n",
    "cm"
   ]
  },
  {
   "cell_type": "code",
   "execution_count": 14,
   "id": "96034bad",
   "metadata": {},
   "outputs": [
    {
     "data": {
      "text/plain": [
       "<AxesSubplot:>"
      ]
     },
     "execution_count": 14,
     "metadata": {},
     "output_type": "execute_result"
    },
    {
     "data": {
      "image/png": "[encoded data removed]",
      "text/plain": [
       "<Figure size 432x288 with 2 Axes>"
      ]
     },
     "metadata": {
      "needs_background": "light"
     },
     "output_type": "display_data"
    }
   ],
   "source": [
    "# Confusion Matrix는\n",
    "sns.heatmap(cm, annot=True, cmap=plt.cm.Blues)"
   ]
  }
 ],
 "metadata": {
  "kernelspec": {
   "display_name": "Python 3",
   "language": "python",
   "name": "python3"
  },
  "language_info": {
   "codemirror_mode": {
    "name": "ipython",
    "version": 3
   },
   "file_extension": ".py",
   "mimetype": "text/x-python",
   "name": "python",
   "nbconvert_exporter": "python",
   "pygments_lexer": "ipython3",
   "version": "3.8.5"
  }
 },
 "nbformat": 4,
 "nbformat_minor": 5
}
