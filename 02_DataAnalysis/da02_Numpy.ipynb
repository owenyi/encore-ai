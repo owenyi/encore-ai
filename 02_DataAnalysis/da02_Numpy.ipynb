{
 "cells": [
  {
   "cell_type": "code",
   "execution_count": 1,
   "id": "e4fa4f5f",
   "metadata": {},
   "outputs": [],
   "source": [
    "from IPython.core.interactiveshell import InteractiveShell\n",
    "InteractiveShell.ast_node_interactivity = \"all\""
   ]
  },
  {
   "cell_type": "markdown",
   "id": "6a43a3c3",
   "metadata": {},
   "source": [
    "### 랜덤 함수와 seed 값 설정\n",
    "    시드 값은 한 번만 설정해주면 계속 적용된다.\n",
    "    시드는 보통 현재 시각 등을 이용해서 자동으로 정해지지만\n",
    "    우리가 수동으로도 설정할 수 있다.\n",
    "    특정한 시드 값이 사용되면 그 다음에 만들어지는 난수들을 예측할 수 있다."
   ]
  },
  {
   "cell_type": "code",
   "execution_count": 2,
   "id": "4cf827a9",
   "metadata": {},
   "outputs": [],
   "source": [
    "import numpy as np"
   ]
  },
  {
   "cell_type": "code",
   "execution_count": 3,
   "id": "dd9c9246",
   "metadata": {},
   "outputs": [
    {
     "data": {
      "text/plain": [
       "array([[ 1.76405235,  0.40015721,  0.97873798,  2.2408932 ],\n",
       "       [ 1.86755799, -0.97727788,  0.95008842, -0.15135721],\n",
       "       [-0.10321885,  0.4105985 ,  0.14404357,  1.45427351],\n",
       "       [ 0.76103773,  0.12167502,  0.44386323,  0.33367433]])"
      ]
     },
     "execution_count": 3,
     "metadata": {},
     "output_type": "execute_result"
    }
   ],
   "source": [
    "np.random.seed(0)\n",
    "\n",
    "arr1 = np.random.randn(4, 4)\n",
    "arr1"
   ]
  },
  {
   "cell_type": "code",
   "execution_count": 4,
   "id": "66b4f8a1",
   "metadata": {},
   "outputs": [
    {
     "data": {
      "text/plain": [
       "array([1, 2, 3, 4, 5, 6, 7, 8, 9])"
      ]
     },
     "execution_count": 4,
     "metadata": {},
     "output_type": "execute_result"
    },
    {
     "data": {
      "text/plain": [
       "array([[1, 2, 3],\n",
       "       [4, 5, 6],\n",
       "       [7, 8, 9]])"
      ]
     },
     "execution_count": 4,
     "metadata": {},
     "output_type": "execute_result"
    }
   ],
   "source": [
    "arr2 = np.arange(1, 10)\n",
    "arr2\n",
    "\n",
    "arr3 = arr2.reshape(3, 3)\n",
    "arr3"
   ]
  },
  {
   "cell_type": "markdown",
   "id": "61a3088d",
   "metadata": {},
   "source": [
    "#### 인덱싱, 슬라이싱"
   ]
  },
  {
   "cell_type": "code",
   "execution_count": 5,
   "id": "35d04c57",
   "metadata": {},
   "outputs": [
    {
     "data": {
      "text/plain": [
       "array([0, 1, 2, 3, 4])"
      ]
     },
     "execution_count": 5,
     "metadata": {},
     "output_type": "execute_result"
    }
   ],
   "source": [
    "narray = np.arange(5)\n",
    "narray"
   ]
  },
  {
   "cell_type": "code",
   "execution_count": 6,
   "id": "4df10577",
   "metadata": {},
   "outputs": [
    {
     "data": {
      "text/plain": [
       "(1, 4)"
      ]
     },
     "execution_count": 6,
     "metadata": {},
     "output_type": "execute_result"
    },
    {
     "data": {
      "text/plain": [
       "array([1, 2, 3, 4])"
      ]
     },
     "execution_count": 6,
     "metadata": {},
     "output_type": "execute_result"
    },
    {
     "data": {
      "text/plain": [
       "array([0, 1, 2, 3, 4])"
      ]
     },
     "execution_count": 6,
     "metadata": {},
     "output_type": "execute_result"
    },
    {
     "data": {
      "text/plain": [
       "array([2, 3])"
      ]
     },
     "execution_count": 6,
     "metadata": {},
     "output_type": "execute_result"
    }
   ],
   "source": [
    "narray[1], narray[-1]\n",
    "narray[1:]\n",
    "narray[:]\n",
    "narray[2:4]"
   ]
  },
  {
   "cell_type": "code",
   "execution_count": 7,
   "id": "db8852ef",
   "metadata": {},
   "outputs": [
    {
     "data": {
      "text/plain": [
       "array([[12, 13, 18, 11],\n",
       "       [13, 13, 13, 17],\n",
       "       [10, 11, 19, 19],\n",
       "       [10, 14, 17, 13]])"
      ]
     },
     "execution_count": 7,
     "metadata": {},
     "output_type": "execute_result"
    }
   ],
   "source": [
    "narray2 = np.random.randint(10, 20, 16).reshape(4, 4)\n",
    "narray2"
   ]
  },
  {
   "cell_type": "code",
   "execution_count": 8,
   "id": "bc7324a7",
   "metadata": {},
   "outputs": [
    {
     "data": {
      "text/plain": [
       "18"
      ]
     },
     "execution_count": 8,
     "metadata": {},
     "output_type": "execute_result"
    },
    {
     "data": {
      "text/plain": [
       "18"
      ]
     },
     "execution_count": 8,
     "metadata": {},
     "output_type": "execute_result"
    },
    {
     "data": {
      "text/plain": [
       "'**************************************************'"
      ]
     },
     "execution_count": 8,
     "metadata": {},
     "output_type": "execute_result"
    },
    {
     "data": {
      "text/plain": [
       "array([13, 13, 13, 17])"
      ]
     },
     "execution_count": 8,
     "metadata": {},
     "output_type": "execute_result"
    },
    {
     "data": {
      "text/plain": [
       "array([13, 13, 13, 17])"
      ]
     },
     "execution_count": 8,
     "metadata": {},
     "output_type": "execute_result"
    },
    {
     "data": {
      "text/plain": [
       "array([13, 13, 13, 17])"
      ]
     },
     "execution_count": 8,
     "metadata": {},
     "output_type": "execute_result"
    },
    {
     "data": {
      "text/plain": [
       "array([[13, 13, 13, 17]])"
      ]
     },
     "execution_count": 8,
     "metadata": {},
     "output_type": "execute_result"
    },
    {
     "data": {
      "text/plain": [
       "'**************************************************'"
      ]
     },
     "execution_count": 8,
     "metadata": {},
     "output_type": "execute_result"
    },
    {
     "data": {
      "text/plain": [
       "array([11, 17, 19, 13])"
      ]
     },
     "execution_count": 8,
     "metadata": {},
     "output_type": "execute_result"
    },
    {
     "data": {
      "text/plain": [
       "array([[11],\n",
       "       [17],\n",
       "       [19],\n",
       "       [13]])"
      ]
     },
     "execution_count": 8,
     "metadata": {},
     "output_type": "execute_result"
    },
    {
     "data": {
      "text/plain": [
       "'**************************************************'"
      ]
     },
     "execution_count": 8,
     "metadata": {},
     "output_type": "execute_result"
    },
    {
     "data": {
      "text/plain": [
       "array([[13, 18],\n",
       "       [13, 13],\n",
       "       [11, 19],\n",
       "       [14, 17]])"
      ]
     },
     "execution_count": 8,
     "metadata": {},
     "output_type": "execute_result"
    }
   ],
   "source": [
    "narray2[0][2]\n",
    "narray2[0, 2]\n",
    "\n",
    "'*' * 50\n",
    "\n",
    "narray2[1]\n",
    "narray2[1, ]\n",
    "narray2[1, :]\n",
    "narray2[1:2, :] # 차원이 다르다\n",
    "\n",
    "'*' * 50\n",
    "\n",
    "narray2[:, 3]\n",
    "narray2[:, 3:]\n",
    "\n",
    "'*' * 50\n",
    "\n",
    "narray2[:, 1:3]"
   ]
  },
  {
   "cell_type": "markdown",
   "id": "5252c1db",
   "metadata": {},
   "source": [
    "#### 인덱싱과 조건 슬라이싱"
   ]
  },
  {
   "cell_type": "code",
   "execution_count": 9,
   "id": "0aa3295f",
   "metadata": {},
   "outputs": [
    {
     "data": {
      "text/plain": [
       "array([[ 1.76405235,  0.40015721,  0.97873798,  2.2408932 ],\n",
       "       [ 1.86755799, -0.97727788,  0.95008842, -0.15135721],\n",
       "       [-0.10321885,  0.4105985 ,  0.14404357,  1.45427351],\n",
       "       [ 0.76103773,  0.12167502,  0.44386323,  0.33367433]])"
      ]
     },
     "execution_count": 9,
     "metadata": {},
     "output_type": "execute_result"
    }
   ],
   "source": [
    "arr1"
   ]
  },
  {
   "cell_type": "code",
   "execution_count": 10,
   "id": "2ec2b626",
   "metadata": {},
   "outputs": [
    {
     "data": {
      "text/plain": [
       "array([[ True,  True,  True,  True],\n",
       "       [ True, False,  True, False],\n",
       "       [False,  True,  True,  True],\n",
       "       [ True,  True,  True,  True]])"
      ]
     },
     "execution_count": 10,
     "metadata": {},
     "output_type": "execute_result"
    },
    {
     "data": {
      "text/plain": [
       "array([1.76405235, 0.40015721, 0.97873798, 2.2408932 , 1.86755799,\n",
       "       0.95008842, 0.4105985 , 0.14404357, 1.45427351, 0.76103773,\n",
       "       0.12167502, 0.44386323, 0.33367433])"
      ]
     },
     "execution_count": 10,
     "metadata": {},
     "output_type": "execute_result"
    },
    {
     "data": {
      "text/plain": [
       "array([-0.97727788, -0.15135721, -0.10321885])"
      ]
     },
     "execution_count": 10,
     "metadata": {},
     "output_type": "execute_result"
    },
    {
     "data": {
      "text/plain": [
       "'**************************************************'"
      ]
     },
     "execution_count": 10,
     "metadata": {},
     "output_type": "execute_result"
    },
    {
     "data": {
      "text/plain": [
       "array([[1.76405235, 0.40015721, 0.97873798, 2.2408932 ],\n",
       "       [1.86755799, 0.        , 0.95008842, 0.        ],\n",
       "       [0.        , 0.4105985 , 0.14404357, 1.45427351],\n",
       "       [0.76103773, 0.12167502, 0.44386323, 0.33367433]])"
      ]
     },
     "execution_count": 10,
     "metadata": {},
     "output_type": "execute_result"
    }
   ],
   "source": [
    "arr1 > 0\n",
    "arr1[arr1 > 0]\n",
    "arr1[arr1 < 0]\n",
    "\n",
    "'*' * 50\n",
    "\n",
    "arr1[arr1 < 0] = 0\n",
    "arr1"
   ]
  },
  {
   "cell_type": "code",
   "execution_count": 11,
   "id": "8ccffac6",
   "metadata": {},
   "outputs": [
    {
     "data": {
      "text/plain": [
       "array([[ 1.76405235,  0.40015721,  0.97873798,  2.2408932 ],\n",
       "       [ 1.86755799, -1.        ,  0.95008842, -1.        ],\n",
       "       [-1.        ,  0.4105985 ,  0.14404357,  1.45427351],\n",
       "       [ 0.76103773,  0.12167502,  0.44386323,  0.33367433]])"
      ]
     },
     "execution_count": 11,
     "metadata": {},
     "output_type": "execute_result"
    }
   ],
   "source": [
    "# where 함수\n",
    "arr1_1 = np.where(arr1 > 0, arr1, -1) # 삼항 연산자와 비슷\n",
    "arr1_1"
   ]
  },
  {
   "cell_type": "code",
   "execution_count": 12,
   "id": "e6b89968",
   "metadata": {},
   "outputs": [
    {
     "data": {
      "text/plain": [
       "array([[1, 2],\n",
       "       [3, 4],\n",
       "       [5, 6]])"
      ]
     },
     "execution_count": 12,
     "metadata": {},
     "output_type": "execute_result"
    },
    {
     "data": {
      "text/plain": [
       "array([[False, False],\n",
       "       [ True,  True],\n",
       "       [ True,  True]])"
      ]
     },
     "execution_count": 12,
     "metadata": {},
     "output_type": "execute_result"
    },
    {
     "data": {
      "text/plain": [
       "array([3, 4, 5, 6])"
      ]
     },
     "execution_count": 12,
     "metadata": {},
     "output_type": "execute_result"
    }
   ],
   "source": [
    "arr2 = np.array([[1, 2], [3, 4], [5, 6]])\n",
    "arr2\n",
    "\n",
    "bool_idx = arr2 > 2\n",
    "bool_idx\n",
    "arr2[bool_idx]"
   ]
  },
  {
   "cell_type": "markdown",
   "id": "0a9680f7",
   "metadata": {},
   "source": [
    "#### 통계 함수\n",
    "    sum, mean, min, max, argmin, argmax, cumsum(누적합)"
   ]
  },
  {
   "cell_type": "code",
   "execution_count": 13,
   "id": "f87150a6",
   "metadata": {},
   "outputs": [
    {
     "data": {
      "text/plain": [
       "array([[12, 13, 18, 11],\n",
       "       [13, 13, 13, 17],\n",
       "       [10, 11, 19, 19],\n",
       "       [10, 14, 17, 13]])"
      ]
     },
     "execution_count": 13,
     "metadata": {},
     "output_type": "execute_result"
    }
   ],
   "source": [
    "narray2"
   ]
  },
  {
   "cell_type": "code",
   "execution_count": 14,
   "id": "385148e3",
   "metadata": {},
   "outputs": [
    {
     "data": {
      "text/plain": [
       "223"
      ]
     },
     "execution_count": 14,
     "metadata": {},
     "output_type": "execute_result"
    },
    {
     "data": {
      "text/plain": [
       "223"
      ]
     },
     "execution_count": 14,
     "metadata": {},
     "output_type": "execute_result"
    },
    {
     "data": {
      "text/plain": [
       "array([54, 56, 59, 54])"
      ]
     },
     "execution_count": 14,
     "metadata": {},
     "output_type": "execute_result"
    },
    {
     "data": {
      "text/plain": [
       "array([54, 56, 59, 54])"
      ]
     },
     "execution_count": 14,
     "metadata": {},
     "output_type": "execute_result"
    },
    {
     "data": {
      "text/plain": [
       "array([45, 51, 67, 60])"
      ]
     },
     "execution_count": 14,
     "metadata": {},
     "output_type": "execute_result"
    },
    {
     "data": {
      "text/plain": [
       "array([45, 51, 67, 60])"
      ]
     },
     "execution_count": 14,
     "metadata": {},
     "output_type": "execute_result"
    }
   ],
   "source": [
    "np.sum(narray2)\n",
    "narray2.sum()\n",
    "\n",
    "np.sum(narray2, axis=1) # axis=1 : 열...행마다의 합이 열로 나온다\n",
    "narray2.sum(axis=1)\n",
    "\n",
    "np.sum(narray2, axis=0)\n",
    "narray2.sum(axis=0)"
   ]
  }
 ],
 "metadata": {
  "kernelspec": {
   "display_name": "Python 3",
   "language": "python",
   "name": "python3"
  },
  "language_info": {
   "codemirror_mode": {
    "name": "ipython",
    "version": 3
   },
   "file_extension": ".py",
   "mimetype": "text/x-python",
   "name": "python",
   "nbconvert_exporter": "python",
   "pygments_lexer": "ipython3",
   "version": "3.8.5"
  }
 },
 "nbformat": 4,
 "nbformat_minor": 5
}
