{
 "cells": [
  {
   "cell_type": "markdown",
   "id": "94ddcf6e",
   "metadata": {},
   "source": [
    "## 함수\n",
    "#### 머신, 딥러닝 코드를 다루다 보면 함수 정의 부분이 중요하다\n",
    "    1. 함수 정의 기본 문법\n",
    "       def 함수이름(매개변수):\n",
    "           수행할 문장1\n",
    "           수행할 문장2\n",
    "    2. 함수를 만드는 방법 4가지\n",
    "        1)위치매개변수\n",
    "        2)기본매개변수\n",
    "        3)키워드매개변수\n",
    "        4)가변매개변수"
   ]
  },
  {
   "cell_type": "code",
   "execution_count": 1,
   "id": "7bf5ab56",
   "metadata": {},
   "outputs": [
    {
     "name": "stdout",
     "output_type": "stream",
     "text": [
      "8\n"
     ]
    }
   ],
   "source": [
    "# 1. 위치매개변수\n",
    "# 가장 기본적인 인자값 전달방식. 함수에서 정의한 위치대로 인자값이 할당됨\n",
    "def calc(num1, num2):\n",
    "    '''\n",
    "    인자값으로 받은 num1, num2\n",
    "    2개의 값을 더해서 result  로컬변수에 할당\n",
    "    그 값을 리턴하는 기능을 구현\n",
    "    '''\n",
    "    \n",
    "    result = num1 + num2\n",
    "    return result\n",
    "\n",
    "print(calc(3, 5))"
   ]
  },
  {
   "cell_type": "code",
   "execution_count": 2,
   "id": "50808c1c",
   "metadata": {},
   "outputs": [
    {
     "name": "stdout",
     "output_type": "stream",
     "text": [
      "3와 4의 합은 7입니다.\n",
      "None\n"
     ]
    }
   ],
   "source": [
    "# 리턴값이 없는 경우\n",
    "def add(a,b):\n",
    "    print('%d와 %d의 합은 %d입니다.' %(a,b,(a+b)))\n",
    "    '''\n",
    "    return문 자체가 없으면 함수는 None객체를 리턴한다.\n",
    "    '''\n",
    "\n",
    "print(add(3,4))"
   ]
  },
  {
   "cell_type": "code",
   "execution_count": 3,
   "id": "ce55cf5c",
   "metadata": {},
   "outputs": [
    {
     "name": "stdout",
     "output_type": "stream",
     "text": [
      "10\n",
      "10\n"
     ]
    }
   ],
   "source": [
    "# 2. 기본매개변수\n",
    "# 변수값을 입력하지 않으면 기본값이 활성화됨.\n",
    "# 기본매개변수는 반드시 일반매개변수 뒤에 나와야 한다.\n",
    "\n",
    "def calc1(end, start=0):\n",
    "# def calc1(start = 0,end):\n",
    "    total = 0\n",
    "    for i in range(start, end):\n",
    "        total += i\n",
    "    return total\n",
    "\n",
    "print(calc1(5, 1))\n",
    "print(calc1(5)) #에러나지 않는다...기본값이 활성화되어져서 돌아간다"
   ]
  },
  {
   "cell_type": "code",
   "execution_count": 4,
   "id": "2ef235d8",
   "metadata": {},
   "outputs": [],
   "source": [
    "# 실제로 기본매개변수 사용이 많이 있다.\n",
    "import pandas as pd\n",
    "from pandas import DataFrame\n",
    "\n",
    "pd.read_csv?"
   ]
  },
  {
   "cell_type": "code",
   "execution_count": 5,
   "id": "1ef0d709",
   "metadata": {},
   "outputs": [
    {
     "name": "stdout",
     "output_type": "stream",
     "text": [
      "나의 이름은  홍길동 이고 나이는  19 입니다.\n",
      "나의 이름은  30 이고 나이는  홍길동 입니다.\n",
      "나의 이름은  홍길동 이고 나이는  30 입니다.\n"
     ]
    }
   ],
   "source": [
    "# 3. 키워드매개변수 : 순서에 상관없이 직접 매개변수를 지정해서 전달한다\n",
    "# 주의할 점은 함수 호출시에 매개변수명을 정확히 알아야 한다.\n",
    "def calc2(name, age):\n",
    "    print('나의 이름은 ',name,'이고 나이는 ',age,'입니다.')\n",
    "calc2('홍길동',19) #위치매개변수\n",
    "\n",
    "calc2(30,'홍길동') # 에러는 안나고 단기 잘못된 값이 전달된다.\n",
    "calc2(age=30, name='홍길동') #키워드 매개변수"
   ]
  },
  {
   "cell_type": "code",
   "execution_count": 6,
   "id": "0b187d25",
   "metadata": {},
   "outputs": [
    {
     "data": {
      "text/html": [
       "<div>\n",
       "<style scoped>\n",
       "    .dataframe tbody tr th:only-of-type {\n",
       "        vertical-align: middle;\n",
       "    }\n",
       "\n",
       "    .dataframe tbody tr th {\n",
       "        vertical-align: top;\n",
       "    }\n",
       "\n",
       "    .dataframe thead th {\n",
       "        text-align: right;\n",
       "    }\n",
       "</style>\n",
       "<table border=\"1\" class=\"dataframe\">\n",
       "  <thead>\n",
       "    <tr style=\"text-align: right;\">\n",
       "      <th></th>\n",
       "      <th>e</th>\n",
       "      <th>f</th>\n",
       "      <th>g</th>\n",
       "      <th>h</th>\n",
       "    </tr>\n",
       "  </thead>\n",
       "  <tbody>\n",
       "    <tr>\n",
       "      <th>a</th>\n",
       "      <td>-0.233607</td>\n",
       "      <td>-0.460379</td>\n",
       "      <td>1.137894</td>\n",
       "      <td>1.814517</td>\n",
       "    </tr>\n",
       "    <tr>\n",
       "      <th>b</th>\n",
       "      <td>0.189004</td>\n",
       "      <td>-1.202474</td>\n",
       "      <td>-0.245191</td>\n",
       "      <td>0.800367</td>\n",
       "    </tr>\n",
       "    <tr>\n",
       "      <th>c</th>\n",
       "      <td>-0.688382</td>\n",
       "      <td>-0.404849</td>\n",
       "      <td>-1.911426</td>\n",
       "      <td>-2.622643</td>\n",
       "    </tr>\n",
       "    <tr>\n",
       "      <th>d</th>\n",
       "      <td>-1.864081</td>\n",
       "      <td>0.213671</td>\n",
       "      <td>0.399415</td>\n",
       "      <td>-0.386413</td>\n",
       "    </tr>\n",
       "  </tbody>\n",
       "</table>\n",
       "</div>"
      ],
      "text/plain": [
       "          e         f         g         h\n",
       "a -0.233607 -0.460379  1.137894  1.814517\n",
       "b  0.189004 -1.202474 -0.245191  0.800367\n",
       "c -0.688382 -0.404849 -1.911426 -2.622643\n",
       "d -1.864081  0.213671  0.399415 -0.386413"
      ]
     },
     "execution_count": 6,
     "metadata": {},
     "output_type": "execute_result"
    }
   ],
   "source": [
    "# 키워드매개변수 사용 예\n",
    "import numpy as np\n",
    "import pandas as pd\n",
    "from pandas import DataFrame\n",
    "df1=DataFrame(\n",
    "    np.random.randn(4,4),\n",
    "    columns = list('efgh'),\n",
    "    index = list('abcd')\n",
    ")\n",
    "df1"
   ]
  },
  {
   "cell_type": "code",
   "execution_count": 7,
   "id": "e59b7509",
   "metadata": {},
   "outputs": [
    {
     "name": "stdout",
     "output_type": "stream",
     "text": [
      "(3,)\n",
      "(3, 4, 5, 6)\n"
     ]
    }
   ],
   "source": [
    "# 4. 가변매개변수 : 인자 값이 몇 개인지 모르는 상황에서 사용\n",
    "# 파이썬에서 print() 함수가 대표적이다.\n",
    "# 일반매개변수와 다르게 변수명 앞에 *을 붙임\n",
    "# 역시 가변매개변수 뒤에 일반(위치)매개변수가 올 수 없다.\n",
    "# 가변매개변수는 하나만 사용해야 한다.\n",
    "\n",
    "def calc3(*args):\n",
    "    print(args)\n",
    "calc3(3)\n",
    "calc3(3, 4, 5, 6) # 출력은 튜플 타입으로 된다."
   ]
  },
  {
   "cell_type": "code",
   "execution_count": 8,
   "id": "66bef64e",
   "metadata": {},
   "outputs": [
    {
     "name": "stdout",
     "output_type": "stream",
     "text": [
      "{'name': 'James', 'age': 44, 'address': 'NY'}\n"
     ]
    }
   ],
   "source": [
    "# 5.\n",
    "def calc4(**args):\n",
    "    print(args)\n",
    "    \n",
    "# calc4(1, 2) # 에러남\n",
    "# **args에는 딕셔너리를 인자로 넣어야한다.\n",
    "\n",
    "calc4(name=\"James\", age=44, address=\"NY\")"
   ]
  },
  {
   "cell_type": "code",
   "execution_count": 9,
   "id": "43c5f799",
   "metadata": {},
   "outputs": [
    {
     "name": "stdout",
     "output_type": "stream",
     "text": [
      "james : (3, 4, 5)\n"
     ]
    }
   ],
   "source": [
    "#일반 매개변수와 가변매개변수를 함께 사용하는 경우\n",
    "def calc5(name, *args):\n",
    "    print(name, ':', args)\n",
    "calc5('james', 3,4,5)"
   ]
  },
  {
   "cell_type": "code",
   "execution_count": 10,
   "id": "27711ff9",
   "metadata": {},
   "outputs": [
    {
     "name": "stdout",
     "output_type": "stream",
     "text": [
      "3\n",
      "6\n",
      "9\n",
      "12\n",
      "15\n"
     ]
    }
   ],
   "source": [
    "def value_times(times, *values):\n",
    "    for value in values:\n",
    "        print(times * value)\n",
    "        \n",
    "value_times(3, 1,2,3,4,5)"
   ]
  },
  {
   "cell_type": "markdown",
   "id": "13b6266b",
   "metadata": {},
   "source": [
    "#### 모듈 사용하기\n",
    "    다른 곳에 정의된 모듈을 받아올 때는 import 사용한다."
   ]
  },
  {
   "cell_type": "code",
   "execution_count": 11,
   "id": "1d347f2c",
   "metadata": {},
   "outputs": [],
   "source": [
    "import cal"
   ]
  },
  {
   "cell_type": "code",
   "execution_count": 13,
   "id": "24085d37",
   "metadata": {},
   "outputs": [
    {
     "name": "stdout",
     "output_type": "stream",
     "text": [
      "CUSTOM_MODULE 7 5\n"
     ]
    }
   ],
   "source": [
    "var1 = cal.modulename\n",
    "var2 = cal.plus(3, 4)\n",
    "var3 = cal.minus(7, 2)\n",
    "\n",
    "print(var1, var2, var3)"
   ]
  },
  {
   "cell_type": "code",
   "execution_count": 14,
   "id": "dddf47c1",
   "metadata": {},
   "outputs": [
    {
     "name": "stdout",
     "output_type": "stream",
     "text": [
      "7 5\n"
     ]
    }
   ],
   "source": [
    "from cal import plus, minus\n",
    "\n",
    "var22 = plus(3, 4)\n",
    "var33 = minus(7, 2)\n",
    "\n",
    "print(var22, var33)"
   ]
  },
  {
   "cell_type": "code",
   "execution_count": 16,
   "id": "99b3f1e0",
   "metadata": {},
   "outputs": [
    {
     "data": {
      "text/plain": [
       "9"
      ]
     },
     "execution_count": 16,
     "metadata": {},
     "output_type": "execute_result"
    }
   ],
   "source": [
    "from random import randrange\n",
    "\n",
    "num = randrange(1, 10)\n",
    "num"
   ]
  }
 ],
 "metadata": {
  "kernelspec": {
   "display_name": "Python 3",
   "language": "python",
   "name": "python3"
  },
  "language_info": {
   "codemirror_mode": {
    "name": "ipython",
    "version": 3
   },
   "file_extension": ".py",
   "mimetype": "text/x-python",
   "name": "python",
   "nbconvert_exporter": "python",
   "pygments_lexer": "ipython3",
   "version": "3.8.5"
  }
 },
 "nbformat": 4,
 "nbformat_minor": 5
}
