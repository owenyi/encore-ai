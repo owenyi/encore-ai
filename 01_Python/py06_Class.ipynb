{
 "cells": [
  {
   "cell_type": "code",
   "execution_count": 1,
   "id": "17a37217",
   "metadata": {},
   "outputs": [],
   "source": [
    "from IPython.core.interactiveshell import InteractiveShell\n",
    "InteractiveShell.ast_node_interactivity = \"all\""
   ]
  },
  {
   "cell_type": "markdown",
   "id": "e520a7fe",
   "metadata": {},
   "source": [
    "### 1. 클래스 정의"
   ]
  },
  {
   "cell_type": "code",
   "execution_count": 2,
   "id": "a1da4ee1",
   "metadata": {},
   "outputs": [],
   "source": [
    "class Person:\n",
    "    def __init__(self, name, age, addr):\n",
    "        self.name = name\n",
    "        self.age = age\n",
    "        self.addr = addr\n",
    "    \n",
    "    def greeting(self):\n",
    "        print(\"안녕하세요\")\n",
    "        \n",
    "    def sing(self):\n",
    "        self.greeting()\n",
    "        print(\"랄랄랄루루루\")"
   ]
  },
  {
   "cell_type": "markdown",
   "id": "d4ebdd10",
   "metadata": {},
   "source": [
    "### 2. 클래스 객체 생성"
   ]
  },
  {
   "cell_type": "code",
   "execution_count": 3,
   "id": "c21dc333",
   "metadata": {},
   "outputs": [],
   "source": [
    "james = Person(\"James Corner\", 33, \"NY\")\n",
    "peter = Person(\"Peter\", 44, \"NY\")\n",
    "jane = Person(\"Jane\", 55, \"Texas\")"
   ]
  },
  {
   "cell_type": "markdown",
   "id": "44fd379b",
   "metadata": {},
   "source": [
    "### 3. 변수와 메소드"
   ]
  },
  {
   "cell_type": "code",
   "execution_count": 4,
   "id": "9cb259ff",
   "metadata": {},
   "outputs": [
    {
     "data": {
      "text/plain": [
       "'James Corner'"
      ]
     },
     "execution_count": 4,
     "metadata": {},
     "output_type": "execute_result"
    },
    {
     "data": {
      "text/plain": [
       "33"
      ]
     },
     "execution_count": 4,
     "metadata": {},
     "output_type": "execute_result"
    },
    {
     "name": "stdout",
     "output_type": "stream",
     "text": [
      "안녕하세요\n",
      "안녕하세요\n",
      "랄랄랄루루루\n"
     ]
    }
   ],
   "source": [
    "james.name\n",
    "james.age\n",
    "james.greeting()\n",
    "james.sing()"
   ]
  },
  {
   "cell_type": "markdown",
   "id": "5353507e",
   "metadata": {},
   "source": [
    "### 4. 상속"
   ]
  },
  {
   "cell_type": "code",
   "execution_count": 5,
   "id": "455d81da",
   "metadata": {},
   "outputs": [
    {
     "name": "stdout",
     "output_type": "stream",
     "text": [
      "자동차\n"
     ]
    }
   ],
   "source": [
    "class Car:\n",
    "    carType = \"자동차\"\n",
    "    \n",
    "class Hyundai(Car):\n",
    "    pass\n",
    "\n",
    "sonata = Hyundai()\n",
    "print(sonata.carType)"
   ]
  }
 ],
 "metadata": {
  "kernelspec": {
   "display_name": "Python 3",
   "language": "python",
   "name": "python3"
  },
  "language_info": {
   "codemirror_mode": {
    "name": "ipython",
    "version": 3
   },
   "file_extension": ".py",
   "mimetype": "text/x-python",
   "name": "python",
   "nbconvert_exporter": "python",
   "pygments_lexer": "ipython3",
   "version": "3.8.5"
  }
 },
 "nbformat": 4,
 "nbformat_minor": 5
}
