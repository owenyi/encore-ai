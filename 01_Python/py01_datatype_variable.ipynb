{
 "cells": [
  {
   "cell_type": "markdown",
   "id": "3510eac6",
   "metadata": {},
   "source": [
    "##  변수와 데이터 타입\n",
    "    파이썬에서의 데이터 타입들\n",
    "    \n",
    "    int - 정수\n",
    "    float - 실수\n",
    "    bool - False, True\n",
    "    str - 문자열\n",
    "    list - 리스트, 순서가 있는 값들의 집합 [ ], 가변; mutable\n",
    "    tuple - 튜플, 순서가 있는 값들의 집합 ( ), 불변; immutable\n",
    "    set - 순서 없고 중복 안 되는 값들의 집합 { }\n",
    "    dict - key-value 쌍의 집합 {'key': value}"
   ]
  },
  {
   "cell_type": "code",
   "execution_count": 4,
   "id": "44cf7ea0",
   "metadata": {},
   "outputs": [],
   "source": [
    "from IPython.core.interactiveshell import InteractiveShell\n",
    "InteractiveShell.ast_node_interactivity = \"all\""
   ]
  },
  {
   "cell_type": "code",
   "execution_count": 8,
   "id": "11546e82",
   "metadata": {},
   "outputs": [
    {
     "data": {
      "text/plain": [
       "(3, int)"
      ]
     },
     "execution_count": 8,
     "metadata": {},
     "output_type": "execute_result"
    },
    {
     "data": {
      "text/plain": [
       "(3.5, float)"
      ]
     },
     "execution_count": 8,
     "metadata": {},
     "output_type": "execute_result"
    },
    {
     "data": {
      "text/plain": [
       "('Hello', str)"
      ]
     },
     "execution_count": 8,
     "metadata": {},
     "output_type": "execute_result"
    },
    {
     "data": {
      "text/plain": [
       "('Hello', str)"
      ]
     },
     "execution_count": 8,
     "metadata": {},
     "output_type": "execute_result"
    }
   ],
   "source": [
    "a = 3\n",
    "b = 3.5\n",
    "c = 'Hello'\n",
    "d = \"Hello\"\n",
    "\n",
    "a, type(a)\n",
    "b, type(b)\n",
    "c, type(c)\n",
    "d, type(d)"
   ]
  },
  {
   "cell_type": "code",
   "execution_count": 9,
   "id": "b46d6ac2",
   "metadata": {},
   "outputs": [
    {
     "data": {
      "text/plain": [
       "'**'"
      ]
     },
     "execution_count": 9,
     "metadata": {},
     "output_type": "execute_result"
    },
    {
     "data": {
      "text/plain": [
       "'******************************'"
      ]
     },
     "execution_count": 9,
     "metadata": {},
     "output_type": "execute_result"
    }
   ],
   "source": [
    "# 문자열 연산\n",
    "'*' + '*' # 문자열 + : concatenation\n",
    "'*' * 30"
   ]
  },
  {
   "cell_type": "code",
   "execution_count": 17,
   "id": "29371312",
   "metadata": {},
   "outputs": [
    {
     "data": {
      "text/plain": [
       "True"
      ]
     },
     "execution_count": 17,
     "metadata": {},
     "output_type": "execute_result"
    },
    {
     "data": {
      "text/plain": [
       "False"
      ]
     },
     "execution_count": 17,
     "metadata": {},
     "output_type": "execute_result"
    }
   ],
   "source": [
    "e = 3\n",
    "f = 3.0\n",
    "\n",
    "e == f\n",
    "type(e) == type(f)"
   ]
  },
  {
   "cell_type": "markdown",
   "id": "bea363f9",
   "metadata": {},
   "source": [
    "### 실행시 값을 입력받는 함수 input()"
   ]
  },
  {
   "cell_type": "code",
   "execution_count": 22,
   "id": "a4214630",
   "metadata": {},
   "outputs": [
    {
     "name": "stdout",
     "output_type": "stream",
     "text": [
      "값 입력 : 12\n",
      "입력된 값 : 12\n"
     ]
    },
    {
     "data": {
      "text/plain": [
       "str"
      ]
     },
     "execution_count": 22,
     "metadata": {},
     "output_type": "execute_result"
    },
    {
     "data": {
      "text/plain": [
       "int"
      ]
     },
     "execution_count": 22,
     "metadata": {},
     "output_type": "execute_result"
    }
   ],
   "source": [
    "# input()으로 입력된 값은 타입이 무조건 str이다.\n",
    "data = input(\"값 입력 : \")\n",
    "print(\"입력된 값 :\", data)\n",
    "type(data)\n",
    "\n",
    "newdata = int(data)\n",
    "type(newdata)"
   ]
  },
  {
   "cell_type": "markdown",
   "id": "cf041e10",
   "metadata": {},
   "source": [
    "### 연산자와 포맷팅 "
   ]
  },
  {
   "cell_type": "code",
   "execution_count": 29,
   "id": "0411c6c8",
   "metadata": {
    "scrolled": true
   },
   "outputs": [
    {
     "data": {
      "text/plain": [
       "1.6666666666666667"
      ]
     },
     "execution_count": 29,
     "metadata": {},
     "output_type": "execute_result"
    },
    {
     "data": {
      "text/plain": [
       "1"
      ]
     },
     "execution_count": 29,
     "metadata": {},
     "output_type": "execute_result"
    },
    {
     "data": {
      "text/plain": [
       "2"
      ]
     },
     "execution_count": 29,
     "metadata": {},
     "output_type": "execute_result"
    },
    {
     "data": {
      "text/plain": [
       "['__abs__',\n",
       " '__add__',\n",
       " '__and__',\n",
       " '__bool__',\n",
       " '__ceil__',\n",
       " '__class__',\n",
       " '__delattr__',\n",
       " '__dir__',\n",
       " '__divmod__',\n",
       " '__doc__',\n",
       " '__eq__',\n",
       " '__float__',\n",
       " '__floor__',\n",
       " '__floordiv__',\n",
       " '__format__',\n",
       " '__ge__',\n",
       " '__getattribute__',\n",
       " '__getnewargs__',\n",
       " '__gt__',\n",
       " '__hash__',\n",
       " '__index__',\n",
       " '__init__',\n",
       " '__init_subclass__',\n",
       " '__int__',\n",
       " '__invert__',\n",
       " '__le__',\n",
       " '__lshift__',\n",
       " '__lt__',\n",
       " '__mod__',\n",
       " '__mul__',\n",
       " '__ne__',\n",
       " '__neg__',\n",
       " '__new__',\n",
       " '__or__',\n",
       " '__pos__',\n",
       " '__pow__',\n",
       " '__radd__',\n",
       " '__rand__',\n",
       " '__rdivmod__',\n",
       " '__reduce__',\n",
       " '__reduce_ex__',\n",
       " '__repr__',\n",
       " '__rfloordiv__',\n",
       " '__rlshift__',\n",
       " '__rmod__',\n",
       " '__rmul__',\n",
       " '__ror__',\n",
       " '__round__',\n",
       " '__rpow__',\n",
       " '__rrshift__',\n",
       " '__rshift__',\n",
       " '__rsub__',\n",
       " '__rtruediv__',\n",
       " '__rxor__',\n",
       " '__setattr__',\n",
       " '__sizeof__',\n",
       " '__str__',\n",
       " '__sub__',\n",
       " '__subclasshook__',\n",
       " '__truediv__',\n",
       " '__trunc__',\n",
       " '__xor__',\n",
       " 'as_integer_ratio',\n",
       " 'bit_length',\n",
       " 'conjugate',\n",
       " 'denominator',\n",
       " 'from_bytes',\n",
       " 'imag',\n",
       " 'numerator',\n",
       " 'real',\n",
       " 'to_bytes']"
      ]
     },
     "execution_count": 29,
     "metadata": {},
     "output_type": "execute_result"
    }
   ],
   "source": [
    "num1 = 5\n",
    "num2 = 3\n",
    "num1 / num2 # float\n",
    "num1 // num2 # 몫\n",
    "num1 % num2 # 나머지\n",
    "\n",
    "# 파이썬의 모든 변수는 객체로 취급된다.\n",
    "# 그렇기 때문에 당연히 메소드가 있다.\n",
    "dir(num1)"
   ]
  },
  {
   "cell_type": "code",
   "execution_count": 31,
   "id": "cd4b93c0",
   "metadata": {},
   "outputs": [
    {
     "data": {
      "text/plain": [
       "1"
      ]
     },
     "execution_count": 31,
     "metadata": {},
     "output_type": "execute_result"
    },
    {
     "data": {
      "text/plain": [
       "0"
      ]
     },
     "execution_count": 31,
     "metadata": {},
     "output_type": "execute_result"
    },
    {
     "data": {
      "text/plain": [
       "3"
      ]
     },
     "execution_count": 31,
     "metadata": {},
     "output_type": "execute_result"
    },
    {
     "data": {
      "text/plain": [
       "3.0"
      ]
     },
     "execution_count": 31,
     "metadata": {},
     "output_type": "execute_result"
    },
    {
     "data": {
      "text/plain": [
       "45"
      ]
     },
     "execution_count": 31,
     "metadata": {},
     "output_type": "execute_result"
    },
    {
     "data": {
      "text/plain": [
       "111"
      ]
     },
     "execution_count": 31,
     "metadata": {},
     "output_type": "execute_result"
    }
   ],
   "source": [
    "# 어떤 자료형이든 함수 사용 가능\n",
    "# 모든 변수가 객체로 취급되기 때문에\n",
    "int(True)\n",
    "int(False)\n",
    "int(e)\n",
    "float(a)\n",
    "round(44.78)\n",
    "int('111')"
   ]
  },
  {
   "cell_type": "code",
   "execution_count": 32,
   "id": "220496a9",
   "metadata": {},
   "outputs": [
    {
     "name": "stdout",
     "output_type": "stream",
     "text": [
      "James 의 나이는 40 세 입니다.\n"
     ]
    }
   ],
   "source": [
    "name = \"James\"\n",
    "age = 40\n",
    "print(name, \"의 나이는\", age, \"세 입니다.\")"
   ]
  },
  {
   "cell_type": "markdown",
   "id": "ac7418a7",
   "metadata": {},
   "source": [
    "### 문제1\n",
    "    키보드로 초를 입력받아서 다음과 같이 출력합니다.\n",
    "    \n",
    "    입력받는 초 --- ex 3700\n",
    "    출력 --- 3700초는 1시간 1분 40초 입니다.\n",
    "    \n",
    "    사용자는 연산자는? //, %"
   ]
  },
  {
   "cell_type": "code",
   "execution_count": 63,
   "id": "88a6eb49",
   "metadata": {},
   "outputs": [
    {
     "name": "stdout",
     "output_type": "stream",
     "text": [
      "3700\n",
      "3700초는 1시간 1분 40초 입니다.\n"
     ]
    }
   ],
   "source": [
    "time = int(input())\n",
    "hours = time // (60 * 60)\n",
    "minutes = time % (60 * 60) // (60)\n",
    "seconds = time % (60)\n",
    "\n",
    "# print(time, \"초는 \", hours, \"시간\", minutes, \"분 \", seconds, \"초 입니다.\")\n",
    "print(\"%d초는 %d시간 %d분 %d초 입니다.\"%(time, hours, minutes, seconds))"
   ]
  },
  {
   "cell_type": "code",
   "execution_count": 39,
   "id": "fc1900ca",
   "metadata": {},
   "outputs": [
    {
     "data": {
      "text/plain": [
       "['ArithmeticError',\n",
       " 'AssertionError',\n",
       " 'AttributeError',\n",
       " 'BaseException',\n",
       " 'BlockingIOError',\n",
       " 'BrokenPipeError',\n",
       " 'BufferError',\n",
       " 'BytesWarning',\n",
       " 'ChildProcessError',\n",
       " 'ConnectionAbortedError',\n",
       " 'ConnectionError',\n",
       " 'ConnectionRefusedError',\n",
       " 'ConnectionResetError',\n",
       " 'DeprecationWarning',\n",
       " 'EOFError',\n",
       " 'Ellipsis',\n",
       " 'EnvironmentError',\n",
       " 'Exception',\n",
       " 'False',\n",
       " 'FileExistsError',\n",
       " 'FileNotFoundError',\n",
       " 'FloatingPointError',\n",
       " 'FutureWarning',\n",
       " 'GeneratorExit',\n",
       " 'IOError',\n",
       " 'ImportError',\n",
       " 'ImportWarning',\n",
       " 'IndentationError',\n",
       " 'IndexError',\n",
       " 'InterruptedError',\n",
       " 'IsADirectoryError',\n",
       " 'KeyError',\n",
       " 'KeyboardInterrupt',\n",
       " 'LookupError',\n",
       " 'MemoryError',\n",
       " 'ModuleNotFoundError',\n",
       " 'NameError',\n",
       " 'None',\n",
       " 'NotADirectoryError',\n",
       " 'NotImplemented',\n",
       " 'NotImplementedError',\n",
       " 'OSError',\n",
       " 'OverflowError',\n",
       " 'PendingDeprecationWarning',\n",
       " 'PermissionError',\n",
       " 'ProcessLookupError',\n",
       " 'RecursionError',\n",
       " 'ReferenceError',\n",
       " 'ResourceWarning',\n",
       " 'RuntimeError',\n",
       " 'RuntimeWarning',\n",
       " 'StopAsyncIteration',\n",
       " 'StopIteration',\n",
       " 'SyntaxError',\n",
       " 'SyntaxWarning',\n",
       " 'SystemError',\n",
       " 'SystemExit',\n",
       " 'TabError',\n",
       " 'TimeoutError',\n",
       " 'True',\n",
       " 'TypeError',\n",
       " 'UnboundLocalError',\n",
       " 'UnicodeDecodeError',\n",
       " 'UnicodeEncodeError',\n",
       " 'UnicodeError',\n",
       " 'UnicodeTranslateError',\n",
       " 'UnicodeWarning',\n",
       " 'UserWarning',\n",
       " 'ValueError',\n",
       " 'Warning',\n",
       " 'WindowsError',\n",
       " 'ZeroDivisionError',\n",
       " '__IPYTHON__',\n",
       " '__build_class__',\n",
       " '__debug__',\n",
       " '__doc__',\n",
       " '__import__',\n",
       " '__loader__',\n",
       " '__name__',\n",
       " '__package__',\n",
       " '__spec__',\n",
       " 'abs',\n",
       " 'all',\n",
       " 'any',\n",
       " 'ascii',\n",
       " 'bin',\n",
       " 'bool',\n",
       " 'breakpoint',\n",
       " 'bytearray',\n",
       " 'bytes',\n",
       " 'callable',\n",
       " 'chr',\n",
       " 'classmethod',\n",
       " 'compile',\n",
       " 'complex',\n",
       " 'copyright',\n",
       " 'credits',\n",
       " 'delattr',\n",
       " 'dict',\n",
       " 'dir',\n",
       " 'display',\n",
       " 'divmod',\n",
       " 'enumerate',\n",
       " 'eval',\n",
       " 'exec',\n",
       " 'filter',\n",
       " 'float',\n",
       " 'format',\n",
       " 'frozenset',\n",
       " 'get_ipython',\n",
       " 'getattr',\n",
       " 'globals',\n",
       " 'hasattr',\n",
       " 'hash',\n",
       " 'help',\n",
       " 'hex',\n",
       " 'id',\n",
       " 'input',\n",
       " 'int',\n",
       " 'isinstance',\n",
       " 'issubclass',\n",
       " 'iter',\n",
       " 'len',\n",
       " 'license',\n",
       " 'list',\n",
       " 'locals',\n",
       " 'map',\n",
       " 'max',\n",
       " 'memoryview',\n",
       " 'min',\n",
       " 'next',\n",
       " 'object',\n",
       " 'oct',\n",
       " 'open',\n",
       " 'ord',\n",
       " 'pow',\n",
       " 'print',\n",
       " 'property',\n",
       " 'range',\n",
       " 'repr',\n",
       " 'reversed',\n",
       " 'round',\n",
       " 'set',\n",
       " 'setattr',\n",
       " 'slice',\n",
       " 'sorted',\n",
       " 'staticmethod',\n",
       " 'str',\n",
       " 'sum',\n",
       " 'super',\n",
       " 'tuple',\n",
       " 'type',\n",
       " 'vars',\n",
       " 'zip']"
      ]
     },
     "execution_count": 39,
     "metadata": {},
     "output_type": "execute_result"
    }
   ],
   "source": [
    "# 다음은 파이썬 파일을 만들면 무조건 메모리에 올라가는 녀석들\n",
    "# 내장함수 목록\n",
    "# list(), int(), input(), min(), max()가 대표적인 내장함수들이다.\n",
    "dir(__builtin__)"
   ]
  },
  {
   "cell_type": "code",
   "execution_count": 49,
   "id": "8f4b0740",
   "metadata": {},
   "outputs": [
    {
     "data": {
      "text/plain": [
       "True"
      ]
     },
     "execution_count": 49,
     "metadata": {},
     "output_type": "execute_result"
    },
    {
     "data": {
      "text/plain": [
       "False"
      ]
     },
     "execution_count": 49,
     "metadata": {},
     "output_type": "execute_result"
    }
   ],
   "source": [
    "a = 257\n",
    "b = 257\n",
    "a == b\n",
    "a is b # 같은 객체인지 확인"
   ]
  },
  {
   "cell_type": "code",
   "execution_count": 53,
   "id": "5889d6d7",
   "metadata": {},
   "outputs": [
    {
     "data": {
      "text/plain": [
       "True"
      ]
     },
     "execution_count": 53,
     "metadata": {},
     "output_type": "execute_result"
    },
    {
     "data": {
      "text/plain": [
       "True"
      ]
     },
     "execution_count": 53,
     "metadata": {},
     "output_type": "execute_result"
    }
   ],
   "source": [
    "# -5 ~ 256 사이의 값들은\n",
    "# 메모리를 효율적으로 사용하기 위해서\n",
    "# 한 번만 객체를 만들고 다시 만들지 않는다.\n",
    "a = 200\n",
    "b = 200\n",
    "\n",
    "a == b\n",
    "a is b"
   ]
  },
  {
   "cell_type": "code",
   "execution_count": 46,
   "id": "a06c7464",
   "metadata": {},
   "outputs": [
    {
     "data": {
      "text/plain": [
       "140734868956960"
      ]
     },
     "execution_count": 46,
     "metadata": {},
     "output_type": "execute_result"
    },
    {
     "data": {
      "text/plain": [
       "140734868956992"
      ]
     },
     "execution_count": 46,
     "metadata": {},
     "output_type": "execute_result"
    }
   ],
   "source": [
    "# 숫자(int, float), str, tuple 타입은 immutable객체이다.\n",
    "# 데이터가 변경되는 순간 새로운 객체가 생성된다.\n",
    "# 기존의 데이터를 변경하는 것은 불가능하다.\n",
    "a = 1\n",
    "id(a)\n",
    "a = 2\n",
    "id(a)"
   ]
  },
  {
   "cell_type": "code",
   "execution_count": 55,
   "id": "0756b9d3",
   "metadata": {},
   "outputs": [
    {
     "name": "stdout",
     "output_type": "stream",
     "text": [
      "hello\n",
      "hello\n",
      "\n",
      "This is\n",
      "mystr3 test\n",
      "hello...\n",
      "\n"
     ]
    }
   ],
   "source": [
    "mystr1 = \"hello\"\n",
    "mystr2 = \"hello\"\n",
    "mystr3 = '''\n",
    "This is\n",
    "mystr3 test\n",
    "hello...\n",
    "'''\n",
    "\n",
    "print(mystr1)\n",
    "print(mystr2)\n",
    "print(mystr3)"
   ]
  },
  {
   "cell_type": "code",
   "execution_count": 61,
   "id": "ee8bcb23",
   "metadata": {},
   "outputs": [
    {
     "name": "stdout",
     "output_type": "stream",
     "text": [
      "손흥민의 나이는 29, 이번경기 평점은 4.79\n",
      "현재 시간은 2021년 5월 10일 입니다.\n"
     ]
    }
   ],
   "source": [
    "name = \"손흥민\"\n",
    "age = 29\n",
    "grade = 4.789\n",
    "\n",
    "# 포맷팅1\n",
    "print(\"%s의 나이는 %d, 이번경기 평점은 %0.2f\"%(name, age, grade))\n",
    "\n",
    "# 포맷팅2\n",
    "import time\n",
    "now = time.localtime()\n",
    "\n",
    "print(\"현재 시간은 %d년 %d월 %d일 입니다.\"%(now.tm_year, now.tm_mon, now.tm_mday))"
   ]
  }
 ],
 "metadata": {
  "kernelspec": {
   "display_name": "Python 3",
   "language": "python",
   "name": "python3"
  },
  "language_info": {
   "codemirror_mode": {
    "name": "ipython",
    "version": 3
   },
   "file_extension": ".py",
   "mimetype": "text/x-python",
   "name": "python",
   "nbconvert_exporter": "python",
   "pygments_lexer": "ipython3",
   "version": "3.8.5"
  }
 },
 "nbformat": 4,
 "nbformat_minor": 5
}
