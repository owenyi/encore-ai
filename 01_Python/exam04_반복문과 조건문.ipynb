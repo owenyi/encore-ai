{
 "cells": [
  {
   "cell_type": "markdown",
   "metadata": {},
   "source": [
    "### 엔코아는 해당 사이트의 관리자 페이지 비밀번호를 어떻게 설정할지 고민하던중\n",
    "    요즘 많이 듣던 노래 윤하-비밀번호 486에서 영감을 받아 아래와 같이 비밀번호를 만들기로 했다.\n",
    "\n",
    "    4,6,8로 이루어진 숫자\n",
    "\n",
    "    숫자        문자열\n",
    "    -------------------\n",
    "     4            love\n",
    "    -------------------\n",
    "     8            smile\n",
    "    -------------------\n",
    "     6            kiss\n",
    "    -------------------\n",
    "    \n",
    "    예를 들어 48686 숫자가 입력으로 주어지면\n",
    "    lovesmilekisssmilekiss 비밀번호를 반환한다."
   ]
  },
  {
   "cell_type": "code",
   "execution_count": 1,
   "metadata": {},
   "outputs": [],
   "source": [
    "def token(pwd):\n",
    "    hash = {4: \"love\", 8: \"smile\", 6: \"kiss\"}\n",
    "    rstr = \"\"\n",
    "    while pwd:\n",
    "        rstr = hash[pwd % 10] + rstr\n",
    "        pwd //= 10\n",
    "    return rstr"
   ]
  },
  {
   "cell_type": "code",
   "execution_count": 3,
   "metadata": {},
   "outputs": [
    {
     "data": {
      "text/plain": [
       "'lovesmilekisssmilekiss'"
      ]
     },
     "execution_count": 3,
     "metadata": {},
     "output_type": "execute_result"
    }
   ],
   "source": [
    "token(48686)"
   ]
  }
 ],
 "metadata": {
  "kernelspec": {
   "display_name": "Python 3",
   "language": "python",
   "name": "python3"
  },
  "language_info": {
   "codemirror_mode": {
    "name": "ipython",
    "version": 3
   },
   "file_extension": ".py",
   "mimetype": "text/x-python",
   "name": "python",
   "nbconvert_exporter": "python",
   "pygments_lexer": "ipython3",
   "version": "3.8.5"
  }
 },
 "nbformat": 4,
 "nbformat_minor": 4
}
