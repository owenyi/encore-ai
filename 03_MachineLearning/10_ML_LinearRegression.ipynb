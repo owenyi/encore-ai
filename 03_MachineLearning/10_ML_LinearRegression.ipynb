{
 "cells": [
  {
   "cell_type": "markdown",
   "metadata": {},
   "source": [
    "## 선형회귀(Linear Regression) - 심화\n",
    "\n",
    "    선형회귀는 쉽게 접근하면 쉽고 어렵게 접근하면 매우 어려운 기술이다.\n",
    "    전제로 2가지가 정의되어 있어야 하는데\n",
    "    1) 기본적인 가설 - Hypothesis Function\n",
    "    2) Cost Function\n",
    "        Cost는 비용으로 적게 드는 것이 좋은것\n",
    "        Cost가 안드는 것이 가장 Best\n",
    "        머신러닝 , 딥러닝에서는 학습을 진행하면서 모델(머신)이 멈춰야 할 시점을\n",
    "        알아야 한다.\n",
    "        바로 Cost가 0이 되는 시점이 Running을 멈춰야 하는 시점이다.\n",
    "        \n",
    "        기본적으로 예측값과 실제값 사이의 오차가 적을수록 0에 수렴된다.\n",
    "     3) HyperParameter - learning_rate\n",
    "        Cost를 줄여나가는 학습을 하면서 주의할 부분은\n",
    "        학습이 진행됨에 따라서 학습의 속도를 줄이는 것이다.\n",
    "        경사를 내려가는 보폭을 줄이는 것과 같은 원리로 Cost가 0이 되는 지점을\n",
    "        통과하지 않기 위해서는 필수적으로 지정해야 하는 속성이다.\n",
    "        "
   ]
  },
  {
   "cell_type": "markdown",
   "metadata": {},
   "source": [
    "#### Linear Regression을 활용하여 섭씨온도(C, Celsius)를 화씨온도(F, Fahrenheit)로 변환해주는 공식을 만들수 있다. \n",
    "섭씨온도과 화씨온도의 관계는 앞에서 우리가 살펴보았던 선형회귀의 관계를 가지고 있다.\n",
    "#### <span style=\"color:red\"> H(x) = aX + b 에서처럼, F = C*1.8 +32  </span>\n",
    "이때, 1.8과 32라는 값을 모르고 있다고 가정하고, 머신러닝 알고리즘을 이용해서 주어진 섭씨 온도와 화씨온도 데이타 만으로 이 값들을 찾아내는 실습을 진행해보도록 하겠다.\n",
    "<u><span style=\"color:red\">[Chain Rule 증명](https://www.khanacademy.org/math/ap-calculus-ab/ab-differentiation-2-new/ab-3-1b/a/proving-the-chain-rule) </span></u>"
   ]
  },
  {
   "cell_type": "markdown",
   "metadata": {},
   "source": [
    "### Configuration (or prerequisite)"
   ]
  },
  {
   "cell_type": "code",
   "execution_count": 1,
   "metadata": {},
   "outputs": [],
   "source": [
    "%matplotlib inline\n",
    "import numpy as np\n",
    "import pandas as pd\n",
    "import matplotlib.pyplot as plt"
   ]
  },
  {
   "cell_type": "markdown",
   "metadata": {},
   "source": [
    "### Generate Dataset"
   ]
  },
  {
   "cell_type": "markdown",
   "metadata": {},
   "source": [
    "####  <span style=\"color:blue\">선형회귀 문제를 다루기 위한 학습용 데이타셋을 생성</span>\n",
    "0도에서 100도 사이의 값을 갖는 섭씨온도 데이타를 100개 만들어보자\n",
    "이 데이타가 해당 머신러닝 알고리즘에서 사실상 Feature가 될 것이다."
   ]
  },
  {
   "cell_type": "code",
   "execution_count": 2,
   "metadata": {},
   "outputs": [
    {
     "data": {
      "text/plain": [
       "array([81, 14, 80,  9, 71, 71, 57, 82, 32, 44,  2, 20, 70, 65, 24, 68, 70,\n",
       "       14, 60, 37, 89, 23, 93,  8, 41, 53, 91, 51, 64, 48, 33, 93, 90,  5,\n",
       "       32, 98, 80, 26, 50, 54, 17, 91, 70,  3, 83, 84, 90, 27, 51, 44, 11,\n",
       "       17, 91, 32, 56, 58,  6, 41, 40, 45, 74, 94, 77, 93, 60, 30, 68, 92,\n",
       "       26, 57, 56, 38, 52, 73, 99, 75, 99, 76, 55, 58, 48, 68, 72,  7, 88,\n",
       "       24, 39, 75, 21, 41, 57, 40, 86, 50, 69, 29, 36, 95, 99, 87])"
      ]
     },
     "execution_count": 2,
     "metadata": {},
     "output_type": "execute_result"
    }
   ],
   "source": [
    "# C = np.random.randint(0, 100)\n",
    "C = np.random.randint(0, 100, size=100)\n",
    "C"
   ]
  },
  {
   "cell_type": "code",
   "execution_count": 3,
   "metadata": {},
   "outputs": [
    {
     "data": {
      "text/plain": [
       "array([81, 14, 80,  9, 71, 71, 57, 82, 32, 44])"
      ]
     },
     "execution_count": 3,
     "metadata": {},
     "output_type": "execute_result"
    }
   ],
   "source": [
    "'''\n",
    "섭씨온도 데이터를 담고있는 C의 shape를 확인합니다. (100,)로 100개의 데이터가 있습니다.\n",
    "C의 첫 10개 값을 확인합니다. \n",
    "'''\n",
    "\n",
    "# C.shape\n",
    "C[:10]"
   ]
  },
  {
   "cell_type": "markdown",
   "metadata": {},
   "source": [
    "### 섭씨온도 데이타에 상응하는 화씨온도를 생성\n",
    "#### <span style=\"color:blue\">우리가 알고있던 기존의 섭씨-화씨변환 공식을 적용해서 위 섭씨온도 데이타에 대응하는 화씨온도 데이타를 생성.</span> \n",
    "이 데이타가 오늘 다룰 학습 모델 알고리즘의 Label이 될 것이다."
   ]
  },
  {
   "cell_type": "code",
   "execution_count": 4,
   "metadata": {},
   "outputs": [
    {
     "data": {
      "text/plain": [
       "array([177.8,  57.2, 176. ,  48.2, 159.8, 159.8, 134.6, 179.6,  89.6,\n",
       "       111.2,  35.6,  68. , 158. , 149. ,  75.2, 154.4, 158. ,  57.2,\n",
       "       140. ,  98.6, 192.2,  73.4, 199.4,  46.4, 105.8, 127.4, 195.8,\n",
       "       123.8, 147.2, 118.4,  91.4, 199.4, 194. ,  41. ,  89.6, 208.4,\n",
       "       176. ,  78.8, 122. , 129.2,  62.6, 195.8, 158. ,  37.4, 181.4,\n",
       "       183.2, 194. ,  80.6, 123.8, 111.2,  51.8,  62.6, 195.8,  89.6,\n",
       "       132.8, 136.4,  42.8, 105.8, 104. , 113. , 165.2, 201.2, 170.6,\n",
       "       199.4, 140. ,  86. , 154.4, 197.6,  78.8, 134.6, 132.8, 100.4,\n",
       "       125.6, 163.4, 210.2, 167. , 210.2, 168.8, 131. , 136.4, 118.4,\n",
       "       154.4, 161.6,  44.6, 190.4,  75.2, 102.2, 167. ,  69.8, 105.8,\n",
       "       134.6, 104. , 186.8, 122. , 156.2,  84.2,  96.8, 203. , 210.2,\n",
       "       188.6])"
      ]
     },
     "execution_count": 4,
     "metadata": {},
     "output_type": "execute_result"
    }
   ],
   "source": [
    "F = C * 1.8 + 32\n",
    "F"
   ]
  },
  {
   "cell_type": "code",
   "execution_count": 5,
   "metadata": {},
   "outputs": [
    {
     "data": {
      "text/plain": [
       "array([177.8,  57.2, 176. ,  48.2, 159.8, 159.8, 134.6, 179.6,  89.6,\n",
       "       111.2])"
      ]
     },
     "execution_count": 5,
     "metadata": {},
     "output_type": "execute_result"
    }
   ],
   "source": [
    "F[:10]"
   ]
  },
  {
   "cell_type": "markdown",
   "metadata": {},
   "source": [
    "### Visualization\n",
    "    위에서 우리가 만든 \n",
    "    Feature(Celsius Temperature)\n",
    "    Label(Fahrenheit Temperature)\n",
    "    직관적으로 확인할수 있도록 matplot을 이용해서 시각화해보자."
   ]
  },
  {
   "cell_type": "code",
   "execution_count": 6,
   "metadata": {},
   "outputs": [
    {
     "data": {
      "image/png": "[encoded data removed]",
      "text/plain": [
       "<Figure size 432x288 with 1 Axes>"
      ]
     },
     "metadata": {
      "needs_background": "light"
     },
     "output_type": "display_data"
    }
   ],
   "source": [
    "plt.scatter(C, F)\n",
    "plt.xlabel('Celsius Temperature')\n",
    "plt.ylabel('Fahrenheit Temperature')\n",
    "plt.show()"
   ]
  },
  {
   "cell_type": "markdown",
   "metadata": {},
   "source": [
    "### Bias (편향 찾기) -- Weight는 1.8"
   ]
  },
  {
   "cell_type": "markdown",
   "metadata": {},
   "source": [
    "####  <span style=\"color:blue\">Weight는 1.8로 주고 Bias를 직관적으로 한번 찾아보겠다.</span>"
   ]
  },
  {
   "cell_type": "code",
   "execution_count": 7,
   "metadata": {},
   "outputs": [],
   "source": [
    "# 먼저 앞에서 만들어 놓은 속성C, 라벨F를 각각 X, y에 다시 대입해보자\n",
    "X = C\n",
    "y = F"
   ]
  },
  {
   "cell_type": "code",
   "execution_count": 8,
   "metadata": {},
   "outputs": [
    {
     "data": {
      "text/plain": [
       "0.2644882674447069"
      ]
     },
     "execution_count": 8,
     "metadata": {},
     "output_type": "execute_result"
    }
   ],
   "source": [
    "w = 1.8 # 이건 알고 있는 거 그대로 대입\n",
    "b = np.random.uniform(low=-1.0, high=1.0)\n",
    "b"
   ]
  },
  {
   "cell_type": "code",
   "execution_count": 9,
   "metadata": {},
   "outputs": [
    {
     "data": {
      "text/plain": [
       "array([146.06448827,  25.46448827, 144.26448827,  16.46448827,\n",
       "       128.06448827, 128.06448827, 102.86448827, 147.86448827,\n",
       "        57.86448827,  79.46448827])"
      ]
     },
     "execution_count": 9,
     "metadata": {},
     "output_type": "execute_result"
    }
   ],
   "source": [
    "y_predict = w*X + b\n",
    "y_predict[:10]"
   ]
  },
  {
   "cell_type": "code",
   "execution_count": 10,
   "metadata": {},
   "outputs": [
    {
     "data": {
      "text/plain": [
       "[<matplotlib.lines.Line2D at 0x225b31d9ee0>]"
      ]
     },
     "execution_count": 10,
     "metadata": {},
     "output_type": "execute_result"
    },
    {
     "data": {
      "image/png": "[encoded data removed]",
      "text/plain": [
       "<Figure size 432x288 with 1 Axes>"
      ]
     },
     "metadata": {
      "needs_background": "light"
     },
     "output_type": "display_data"
    }
   ],
   "source": [
    "plt.scatter(X, y)\n",
    "plt.plot(X, y_predict, c='r')"
   ]
  },
  {
   "cell_type": "code",
   "execution_count": 11,
   "metadata": {},
   "outputs": [
    {
     "data": {
      "text/plain": [
       "32.0"
      ]
     },
     "execution_count": 11,
     "metadata": {},
     "output_type": "execute_result"
    }
   ],
   "source": [
    "'''\n",
    "y_predict - y는 오차\n",
    "오차만큼 bias에 다시 보정(수정)을 해주자\n",
    "'''\n",
    "b = b - (y_predict - y).mean()\n",
    "b"
   ]
  },
  {
   "cell_type": "code",
   "execution_count": 12,
   "metadata": {},
   "outputs": [
    {
     "data": {
      "text/plain": [
       "array([177.8,  57.2, 176. ,  48.2, 159.8, 159.8, 134.6, 179.6,  89.6,\n",
       "       111.2])"
      ]
     },
     "execution_count": 12,
     "metadata": {},
     "output_type": "execute_result"
    }
   ],
   "source": [
    "# 위에서 보정한 bias값으로 예측값을 다시 만든다.\n",
    "y_predict = w*X + b\n",
    "y_predict[:10]"
   ]
  },
  {
   "cell_type": "code",
   "execution_count": 13,
   "metadata": {},
   "outputs": [
    {
     "data": {
      "text/plain": [
       "[<matplotlib.lines.Line2D at 0x225b324a040>]"
      ]
     },
     "execution_count": 13,
     "metadata": {},
     "output_type": "execute_result"
    },
    {
     "data": {
      "image/png": "[encoded data removed]",
      "text/plain": [
       "<Figure size 432x288 with 1 Axes>"
      ]
     },
     "metadata": {
      "needs_background": "light"
     },
     "output_type": "display_data"
    }
   ],
   "source": [
    "plt.scatter(X, y)\n",
    "plt.plot(X, y_predict, c='r')"
   ]
  },
  {
   "cell_type": "markdown",
   "metadata": {},
   "source": [
    "### 가중치(Weight, W), 편향(Bias, B) 찾기"
   ]
  },
  {
   "cell_type": "markdown",
   "metadata": {},
   "source": [
    "#### 정규분포에 해당하는 w,b값을 랜덤하게 지정해서 초기화\n",
    "    실제값과 예측치 결과값과의 차이를 시각화해서 확인\n",
    "    아무리 랜덤한 값으로 학습해도 데이터의 특정한 분포가 없다면 학습이 이뤄지지 않는다.\n",
    "    앞에서와 마찬가지로 w, b에 해당하는 값을 랜덤하게 추출하지만\n",
    "    여전히 uniform() 함수를 이용해서 값을 추출하도록 한다."
   ]
  },
  {
   "cell_type": "code",
   "execution_count": 14,
   "metadata": {},
   "outputs": [],
   "source": [
    "w = np.random.uniform(low=-1.0, high=1.0)\n",
    "b = np.random.uniform(low=-1.0, high=1.0)"
   ]
  },
  {
   "cell_type": "code",
   "execution_count": 15,
   "metadata": {},
   "outputs": [
    {
     "data": {
      "text/plain": [
       "array([-42.38211032,  -6.75197487, -41.85031725,  -4.09300954,\n",
       "       -37.06417965, -37.06417965, -29.61907672, -42.91390338,\n",
       "       -16.32425006, -22.70576686])"
      ]
     },
     "execution_count": 15,
     "metadata": {},
     "output_type": "execute_result"
    }
   ],
   "source": [
    "y_predict = w*X + b\n",
    "y_predict[:10]"
   ]
  },
  {
   "cell_type": "code",
   "execution_count": 16,
   "metadata": {},
   "outputs": [
    {
     "data": {
      "text/plain": [
       "[<matplotlib.lines.Line2D at 0x225b32a6490>]"
      ]
     },
     "execution_count": 16,
     "metadata": {},
     "output_type": "execute_result"
    },
    {
     "data": {
      "image/png": "[encoded data removed]",
      "text/plain": [
       "<Figure size 432x288 with 1 Axes>"
      ]
     },
     "metadata": {
      "needs_background": "light"
     },
     "output_type": "display_data"
    }
   ],
   "source": [
    "plt.scatter(X, y)\n",
    "plt.plot(X, y_predict, c='r')"
   ]
  },
  {
   "cell_type": "markdown",
   "metadata": {},
   "source": [
    "#### <span style=\"color:blue\">선형 회귀의 학습이 끝났으면, 이제 이 머신러닝 알고리즘을 활용하여 변환공식을 완성하고, 주어진 섭씨온도를 화씨온도로 변환(혹은 섭씨온도로 화씨온도를 예측)할 수 있습니다. 앞서 만들어준 데이터를 그대로 활용하여 주어진 섭씨온도(C)로 화씨온도를 예측해보겠습니다.</span>"
   ]
  },
  {
   "cell_type": "markdown",
   "metadata": {},
   "source": [
    "### Gradient Descent"
   ]
  },
  {
   "cell_type": "markdown",
   "metadata": {},
   "source": [
    "####  <span style=\"color:red\">이제 경사하강법(Gradient Descent)을 사용하여 섭씨온도를 화씨온도로 변환해줄 주 있는 공식을 찾아보겠다.</span>\n",
    "공식의 세부내용은 모른다치고, 두 변수(X,y)가 선형(Linear)과 관계있음을 가정(y=X * w + b)하여 가중치(weight)와 편차(bias)를 정의해 둔다. 그리고 경사하강법을 이용해서 선형회귀를 학습시킨다.\n",
    "학습이 완료되면, 얻어진 최적의 가중치와 편차로 섭씨온도를 화씨온도로 변환해주는 공식을 만들어 줄수 있다.\n",
    "학습은 모든 epoch이 끝날 때까지 반복할 수도 있지만, 여기선 오차(error)가 0.1 이하가 되면 학습을 종료하도록 한다."
   ]
  },
  {
   "cell_type": "code",
   "execution_count": 17,
   "metadata": {},
   "outputs": [
    {
     "name": "stdout",
     "output_type": "stream",
     "text": [
      "    0, w=2.697134, b=0.893665, error=176.612369\n",
      "10000, w=2.049508, b=14.797045, error=6.247398\n",
      "20000, w=1.937958, b=22.488107, error=3.454324\n",
      "30000, w=1.876280, b=26.740664, error=1.909972\n",
      "40000, w=1.842177, b=29.091997, error=1.056066\n",
      "50000, w=1.823321, b=30.392101, error=0.583922\n",
      "60000, w=1.812894, b=31.110957, error=0.322863\n",
      "70000, w=1.807130, b=31.508429, error=0.178518\n",
      "----------------------------------------------------------------------------------------------------\n",
      "79781, w=1.803994, b=31.724633, error=0.099996\n"
     ]
    }
   ],
   "source": [
    "num_epoch = 100000 # 학습을 몇 번 반복할지의 횟수를 지정, for문을 몇 번 돌릴지와 연결\n",
    "learning_rate = 0.0003 # 학습시 보폭\n",
    "\n",
    "# 정규분포 안에 랜덤한 값으로 w, b를 얻어온다\n",
    "w = np.random.uniform(low=-1.0, high=1.0) # 가중치\n",
    "b = np.random.uniform(low=-1.0, high=1.0) # 편차\n",
    "\n",
    "for epoch in range(num_epoch):\n",
    "    y_predict = w*X + b # 일단 먼저 예측한 가설이 나온다\n",
    "    error = np.abs(y_predict - y).mean() # 현재 오차를 구한다...오차는 MSE() 사용해도 무방\n",
    "    \n",
    "    # error(loss, cost)가 0에 가까워지면 학습을 멈추도록 한다\n",
    "    if error < 0.1: break\n",
    "        \n",
    "    # if 조건이 만족될 때까지 w, b값을 보정한다\n",
    "    w = w - learning_rate * ((y_predict - y) * X).mean()\n",
    "    b = b - learning_rate * (y_predict - y).mean()\n",
    "    \n",
    "    if epoch % 10000 == 0:\n",
    "        print(f\"{epoch:5}, w={w:.6f}, b={b:.6f}, error={error:.6f}\")\n",
    "        \n",
    "# 최종 결과 출력\n",
    "print(\"----------\"*10)\n",
    "print(f\"{epoch:5}, w={w:.6f}, b={b:.6f}, error={error:.6f}\")"
   ]
  },
  {
   "cell_type": "markdown",
   "metadata": {},
   "source": [
    "### Predict"
   ]
  },
  {
   "cell_type": "code",
   "execution_count": 18,
   "metadata": {},
   "outputs": [
    {
     "data": {
      "text/plain": [
       "array([177.84813544,  56.980547  , 176.04414158,  47.96057772,\n",
       "       159.80819686])"
      ]
     },
     "execution_count": 18,
     "metadata": {},
     "output_type": "execute_result"
    }
   ],
   "source": [
    "# 위에서 Cost 0.099일 때 받은 w, b값으로 가설을 다시 세워보자\n",
    "y_predict = w * X + b\n",
    "y_predict[:5]"
   ]
  },
  {
   "cell_type": "markdown",
   "metadata": {},
   "source": [
    "### DataFrame and Plot Visualization"
   ]
  },
  {
   "cell_type": "code",
   "execution_count": 19,
   "metadata": {},
   "outputs": [
    {
     "data": {
      "text/html": [
       "<div>\n",
       "<style scoped>\n",
       "    .dataframe tbody tr th:only-of-type {\n",
       "        vertical-align: middle;\n",
       "    }\n",
       "\n",
       "    .dataframe tbody tr th {\n",
       "        vertical-align: top;\n",
       "    }\n",
       "\n",
       "    .dataframe thead th {\n",
       "        text-align: right;\n",
       "    }\n",
       "</style>\n",
       "<table border=\"1\" class=\"dataframe\">\n",
       "  <thead>\n",
       "    <tr style=\"text-align: right;\">\n",
       "      <th></th>\n",
       "      <th>C</th>\n",
       "      <th>F</th>\n",
       "      <th>F(Predict)</th>\n",
       "    </tr>\n",
       "  </thead>\n",
       "  <tbody>\n",
       "    <tr>\n",
       "      <th>0</th>\n",
       "      <td>81</td>\n",
       "      <td>177.8</td>\n",
       "      <td>177.848135</td>\n",
       "    </tr>\n",
       "    <tr>\n",
       "      <th>1</th>\n",
       "      <td>14</td>\n",
       "      <td>57.2</td>\n",
       "      <td>56.980547</td>\n",
       "    </tr>\n",
       "    <tr>\n",
       "      <th>2</th>\n",
       "      <td>80</td>\n",
       "      <td>176.0</td>\n",
       "      <td>176.044142</td>\n",
       "    </tr>\n",
       "    <tr>\n",
       "      <th>3</th>\n",
       "      <td>9</td>\n",
       "      <td>48.2</td>\n",
       "      <td>47.960578</td>\n",
       "    </tr>\n",
       "    <tr>\n",
       "      <th>4</th>\n",
       "      <td>71</td>\n",
       "      <td>159.8</td>\n",
       "      <td>159.808197</td>\n",
       "    </tr>\n",
       "    <tr>\n",
       "      <th>5</th>\n",
       "      <td>71</td>\n",
       "      <td>159.8</td>\n",
       "      <td>159.808197</td>\n",
       "    </tr>\n",
       "    <tr>\n",
       "      <th>6</th>\n",
       "      <td>57</td>\n",
       "      <td>134.6</td>\n",
       "      <td>134.552283</td>\n",
       "    </tr>\n",
       "    <tr>\n",
       "      <th>7</th>\n",
       "      <td>82</td>\n",
       "      <td>179.6</td>\n",
       "      <td>179.652129</td>\n",
       "    </tr>\n",
       "    <tr>\n",
       "      <th>8</th>\n",
       "      <td>32</td>\n",
       "      <td>89.6</td>\n",
       "      <td>89.452436</td>\n",
       "    </tr>\n",
       "    <tr>\n",
       "      <th>9</th>\n",
       "      <td>44</td>\n",
       "      <td>111.2</td>\n",
       "      <td>111.100363</td>\n",
       "    </tr>\n",
       "  </tbody>\n",
       "</table>\n",
       "</div>"
      ],
      "text/plain": [
       "    C      F  F(Predict)\n",
       "0  81  177.8  177.848135\n",
       "1  14   57.2   56.980547\n",
       "2  80  176.0  176.044142\n",
       "3   9   48.2   47.960578\n",
       "4  71  159.8  159.808197\n",
       "5  71  159.8  159.808197\n",
       "6  57  134.6  134.552283\n",
       "7  82  179.6  179.652129\n",
       "8  32   89.6   89.452436\n",
       "9  44  111.2  111.100363"
      ]
     },
     "execution_count": 19,
     "metadata": {},
     "output_type": "execute_result"
    }
   ],
   "source": [
    "# 처음에 나왔던 섭씨, 화씨 온도와 표로 예측한 온도를 비교해보자\n",
    "result = pd.DataFrame({\"C\": C, \"F\": F, \"F(Predict)\": y_predict})\n",
    "result.head(10)"
   ]
  },
  {
   "cell_type": "code",
   "execution_count": 20,
   "metadata": {},
   "outputs": [
    {
     "data": {
      "text/plain": [
       "[<matplotlib.lines.Line2D at 0x225b333d5e0>]"
      ]
     },
     "execution_count": 20,
     "metadata": {},
     "output_type": "execute_result"
    },
    {
     "data": {
      "image/png": "[encoded data removed]",
      "text/plain": [
       "<Figure size 432x288 with 1 Axes>"
      ]
     },
     "metadata": {
      "needs_background": "light"
     },
     "output_type": "display_data"
    }
   ],
   "source": [
    "plt.scatter(X, y)\n",
    "plt.plot(X, y_predict, c='r')"
   ]
  }
 ],
 "metadata": {
  "kernelspec": {
   "display_name": "Python 3",
   "language": "python",
   "name": "python3"
  },
  "language_info": {
   "codemirror_mode": {
    "name": "ipython",
    "version": 3
   },
   "file_extension": ".py",
   "mimetype": "text/x-python",
   "name": "python",
   "nbconvert_exporter": "python",
   "pygments_lexer": "ipython3",
   "version": "3.8.5"
  }
 },
 "nbformat": 4,
 "nbformat_minor": 4
}
