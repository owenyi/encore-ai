{
 "cells": [
  {
   "cell_type": "code",
   "execution_count": 1,
   "id": "4ce136d0",
   "metadata": {},
   "outputs": [],
   "source": [
    "from IPython.core.interactiveshell import InteractiveShell\n",
    "InteractiveShell.ast_node_interactivity = \"all\""
   ]
  },
  {
   "cell_type": "markdown",
   "id": "b22d7ed8",
   "metadata": {},
   "source": [
    "### Numpy\n",
    "    Numeric Python의 약자\n",
    "    통계 연산시 사용\n",
    "    과학 계산 컴퓨팅, 데이터 분석에 필요한 기본적인 패키지\n",
    "    \n",
    "    Numpy 배열은 리스트와 거의 흡사\n",
    "    리스트보다 훨씬 빠르고 메모리 효율성이 높다."
   ]
  },
  {
   "cell_type": "markdown",
   "id": "4967017a",
   "metadata": {},
   "source": [
    "#### Numpy 배열 만드는 방법\n",
    "    1) array()\n",
    "    2) random 모듈의 함수 사용"
   ]
  },
  {
   "cell_type": "code",
   "execution_count": 2,
   "id": "19264113",
   "metadata": {},
   "outputs": [],
   "source": [
    "import numpy as np"
   ]
  },
  {
   "cell_type": "code",
   "execution_count": 3,
   "id": "e2d7a389",
   "metadata": {},
   "outputs": [
    {
     "data": {
      "text/plain": [
       "[4, 5, 6, 7]"
      ]
     },
     "execution_count": 3,
     "metadata": {},
     "output_type": "execute_result"
    },
    {
     "data": {
      "text/plain": [
       "list"
      ]
     },
     "execution_count": 3,
     "metadata": {},
     "output_type": "execute_result"
    },
    {
     "data": {
      "text/plain": [
       "'****************************************'"
      ]
     },
     "execution_count": 3,
     "metadata": {},
     "output_type": "execute_result"
    },
    {
     "data": {
      "text/plain": [
       "array([4, 5, 6, 7])"
      ]
     },
     "execution_count": 3,
     "metadata": {},
     "output_type": "execute_result"
    },
    {
     "data": {
      "text/plain": [
       "numpy.ndarray"
      ]
     },
     "execution_count": 3,
     "metadata": {},
     "output_type": "execute_result"
    }
   ],
   "source": [
    "myList = [4, 5, 6, 7]\n",
    "myList\n",
    "type(myList)\n",
    "\n",
    "'*' * 40\n",
    "\n",
    "myArr = np.array(myList)\n",
    "myArr # 출력 결과 [ ] 안에 값이 나열되지만 comma로 구분되지는 않는다(print하면)\n",
    "type(myArr) # ndarray 클래스는 다차원행렬구조를 지원하는 Numpy의 핵심 클래스"
   ]
  },
  {
   "cell_type": "code",
   "execution_count": 4,
   "id": "eba876e0",
   "metadata": {},
   "outputs": [
    {
     "data": {
      "text/plain": [
       "[5, 6]"
      ]
     },
     "execution_count": 4,
     "metadata": {},
     "output_type": "execute_result"
    },
    {
     "data": {
      "text/plain": [
       "[4, 5, 6, 7]"
      ]
     },
     "execution_count": 4,
     "metadata": {},
     "output_type": "execute_result"
    },
    {
     "data": {
      "text/plain": [
       "'****************************************'"
      ]
     },
     "execution_count": 4,
     "metadata": {},
     "output_type": "execute_result"
    },
    {
     "data": {
      "text/plain": [
       "array([5, 6])"
      ]
     },
     "execution_count": 4,
     "metadata": {},
     "output_type": "execute_result"
    },
    {
     "data": {
      "text/plain": [
       "array([ 4, -5,  6,  7])"
      ]
     },
     "execution_count": 4,
     "metadata": {},
     "output_type": "execute_result"
    }
   ],
   "source": [
    "# 슬라이싱에서 리스트와 넘파이 배열의 차이\n",
    "\n",
    "# list-deep copy\n",
    "myList_sub = myList[1:3]\n",
    "myList_sub\n",
    "\n",
    "myList_sub[0] = -5\n",
    "myList\n",
    "\n",
    "'*' * 40\n",
    "\n",
    "# np array-shallow copy\n",
    "myArr_sub = myArr[1:3]\n",
    "myArr_sub\n",
    "\n",
    "myArr_sub[0] = -5\n",
    "myArr"
   ]
  },
  {
   "cell_type": "code",
   "execution_count": 5,
   "id": "fbf18156",
   "metadata": {},
   "outputs": [
    {
     "data": {
      "text/plain": [
       "array([0.83259377, 0.14574401, 0.3868098 , 0.20234381, 0.84830672])"
      ]
     },
     "execution_count": 5,
     "metadata": {},
     "output_type": "execute_result"
    },
    {
     "data": {
      "text/plain": [
       "numpy.ndarray"
      ]
     },
     "execution_count": 5,
     "metadata": {},
     "output_type": "execute_result"
    },
    {
     "data": {
      "text/plain": [
       "9"
      ]
     },
     "execution_count": 5,
     "metadata": {},
     "output_type": "execute_result"
    },
    {
     "data": {
      "text/plain": [
       "int"
      ]
     },
     "execution_count": 5,
     "metadata": {},
     "output_type": "execute_result"
    },
    {
     "data": {
      "text/plain": [
       "array([-0.76007459,  2.10118435, -1.02651768, -1.47240989,  0.76286695,\n",
       "        1.26795945, -0.80848642, -1.22104164,  0.2186491 ,  1.09680125])"
      ]
     },
     "execution_count": 5,
     "metadata": {},
     "output_type": "execute_result"
    },
    {
     "data": {
      "text/plain": [
       "numpy.ndarray"
      ]
     },
     "execution_count": 5,
     "metadata": {},
     "output_type": "execute_result"
    }
   ],
   "source": [
    "# rand() 함수 사용\n",
    "\n",
    "a = np.random.rand(5)\n",
    "a\n",
    "type(a)\n",
    "\n",
    "b = np.random.randint(1, 10)\n",
    "b\n",
    "type(b)\n",
    "\n",
    "c = np.random.randn(10) # 가우시안 표준분포\n",
    "c\n",
    "type(c)"
   ]
  },
  {
   "cell_type": "markdown",
   "id": "36dea16b",
   "metadata": {},
   "source": [
    "#### np 배열의 초기화\n",
    "    arange()\n",
    "    zeros()\n",
    "    full()\n",
    "    ones()\n",
    "    eye()\n",
    "    ..."
   ]
  },
  {
   "cell_type": "code",
   "execution_count": 6,
   "id": "0ee6740d",
   "metadata": {},
   "outputs": [
    {
     "data": {
      "text/plain": [
       "array([0., 0., 0., 0., 0., 0., 0., 0., 0., 0.])"
      ]
     },
     "execution_count": 6,
     "metadata": {},
     "output_type": "execute_result"
    },
    {
     "data": {
      "text/plain": [
       "array([1., 1., 1., 1., 1., 1., 1., 1., 1., 1.])"
      ]
     },
     "execution_count": 6,
     "metadata": {},
     "output_type": "execute_result"
    },
    {
     "data": {
      "text/plain": [
       "array([7., 7., 7., 7., 7., 7., 7., 7., 7., 7.])"
      ]
     },
     "execution_count": 6,
     "metadata": {},
     "output_type": "execute_result"
    },
    {
     "data": {
      "text/plain": [
       "array([7., 7., 7., 7., 7., 7., 7., 7., 7., 7.])"
      ]
     },
     "execution_count": 6,
     "metadata": {},
     "output_type": "execute_result"
    },
    {
     "data": {
      "text/plain": [
       "'****************************************'"
      ]
     },
     "execution_count": 6,
     "metadata": {},
     "output_type": "execute_result"
    },
    {
     "data": {
      "text/plain": [
       "array([[0., 0., 0., 0., 0.],\n",
       "       [0., 0., 0., 0., 0.],\n",
       "       [0., 0., 0., 0., 0.]])"
      ]
     },
     "execution_count": 6,
     "metadata": {},
     "output_type": "execute_result"
    },
    {
     "data": {
      "text/plain": [
       "array([[1., 1., 1., 1., 1.],\n",
       "       [1., 1., 1., 1., 1.],\n",
       "       [1., 1., 1., 1., 1.]])"
      ]
     },
     "execution_count": 6,
     "metadata": {},
     "output_type": "execute_result"
    },
    {
     "data": {
      "text/plain": [
       "array([[7., 7., 7., 7., 7.],\n",
       "       [7., 7., 7., 7., 7.],\n",
       "       [7., 7., 7., 7., 7.]])"
      ]
     },
     "execution_count": 6,
     "metadata": {},
     "output_type": "execute_result"
    },
    {
     "data": {
      "text/plain": [
       "array([[7., 7., 7., 7., 7.],\n",
       "       [7., 7., 7., 7., 7.],\n",
       "       [7., 7., 7., 7., 7.]])"
      ]
     },
     "execution_count": 6,
     "metadata": {},
     "output_type": "execute_result"
    },
    {
     "data": {
      "text/plain": [
       "'****************************************'"
      ]
     },
     "execution_count": 6,
     "metadata": {},
     "output_type": "execute_result"
    },
    {
     "data": {
      "text/plain": [
       "array([[1.]])"
      ]
     },
     "execution_count": 6,
     "metadata": {},
     "output_type": "execute_result"
    },
    {
     "data": {
      "text/plain": [
       "array([[1., 0.],\n",
       "       [0., 1.]])"
      ]
     },
     "execution_count": 6,
     "metadata": {},
     "output_type": "execute_result"
    },
    {
     "data": {
      "text/plain": [
       "array([[1., 0., 0.],\n",
       "       [0., 1., 0.],\n",
       "       [0., 0., 1.]])"
      ]
     },
     "execution_count": 6,
     "metadata": {},
     "output_type": "execute_result"
    },
    {
     "data": {
      "text/plain": [
       "'****************************************'"
      ]
     },
     "execution_count": 6,
     "metadata": {},
     "output_type": "execute_result"
    },
    {
     "data": {
      "text/plain": [
       "array([0, 1, 2])"
      ]
     },
     "execution_count": 6,
     "metadata": {},
     "output_type": "execute_result"
    },
    {
     "data": {
      "text/plain": [
       "array([3, 4, 5, 6])"
      ]
     },
     "execution_count": 6,
     "metadata": {},
     "output_type": "execute_result"
    },
    {
     "data": {
      "text/plain": [
       "array([3, 5, 7, 9])"
      ]
     },
     "execution_count": 6,
     "metadata": {},
     "output_type": "execute_result"
    }
   ],
   "source": [
    "np.zeros(10)\n",
    "np.ones(10)\n",
    "np.zeros(10) + 7\n",
    "np.full(10, 7.)\n",
    "\n",
    "'*' * 40\n",
    "\n",
    "np.zeros((3, 5))\n",
    "np.ones((3, 5))\n",
    "np.zeros((3, 5)) + 7\n",
    "np.full((3, 5), 7.)\n",
    "\n",
    "'*' * 40\n",
    "\n",
    "np.eye(1)\n",
    "np.eye(2)\n",
    "np.eye(3)\n",
    "\n",
    "'*' * 40\n",
    "\n",
    "np.arange(3)\n",
    "np.arange(3, 7)\n",
    "np.arange(3, 10, 2)"
   ]
  },
  {
   "cell_type": "markdown",
   "id": "1c41aea5",
   "metadata": {},
   "source": [
    "### np 배열과 리스트의 차이점\n",
    "    1. np 배열은 원본을 바로 바꿈으로써 메모리 효율성이 뛰어나다.\n",
    "    2. 리스트는 여러가지 자료형이 원소로 올 수 있지만\n",
    "       np 배열은 한 가지 자료형만 원소로 쓰일 수 있다...또 메모리 효율성"
   ]
  },
  {
   "cell_type": "code",
   "execution_count": 7,
   "id": "ccef4a5a",
   "metadata": {},
   "outputs": [
    {
     "data": {
      "text/plain": [
       "[1, 2, 3, '4']"
      ]
     },
     "execution_count": 7,
     "metadata": {},
     "output_type": "execute_result"
    },
    {
     "data": {
      "text/plain": [
       "array(['1', '2', '3', '4'], dtype='<U11')"
      ]
     },
     "execution_count": 7,
     "metadata": {},
     "output_type": "execute_result"
    },
    {
     "data": {
      "text/plain": [
       "array([1., 2., 3., 4.])"
      ]
     },
     "execution_count": 7,
     "metadata": {},
     "output_type": "execute_result"
    },
    {
     "data": {
      "text/plain": [
       "array([1, 2, 3, 4])"
      ]
     },
     "execution_count": 7,
     "metadata": {},
     "output_type": "execute_result"
    },
    {
     "data": {
      "text/plain": [
       "array([1, 2, 3, 4])"
      ]
     },
     "execution_count": 7,
     "metadata": {},
     "output_type": "execute_result"
    }
   ],
   "source": [
    "L = [1, 2, 3, '4']\n",
    "L\n",
    "np.array(L)\n",
    "np.array([1, 2, 3, 4.])\n",
    "np.array([1, 2, 3, 4.], dtype='int')\n",
    "np.array([1, 2, 3, 4.], dtype=np.int32)"
   ]
  },
  {
   "cell_type": "markdown",
   "id": "1378e824",
   "metadata": {},
   "source": [
    "### np 배열에서 사용되는 속성, 함수\n",
    "    ndim shape size type dtype\n",
    "    astype() reshape()"
   ]
  },
  {
   "cell_type": "code",
   "execution_count": 8,
   "id": "4d4c401e",
   "metadata": {},
   "outputs": [
    {
     "data": {
      "text/plain": [
       "array([[1, 2, 3],\n",
       "       [4, 5, 6]])"
      ]
     },
     "execution_count": 8,
     "metadata": {},
     "output_type": "execute_result"
    },
    {
     "data": {
      "text/plain": [
       "numpy.ndarray"
      ]
     },
     "execution_count": 8,
     "metadata": {},
     "output_type": "execute_result"
    },
    {
     "data": {
      "text/plain": [
       "'**************************************************'"
      ]
     },
     "execution_count": 8,
     "metadata": {},
     "output_type": "execute_result"
    },
    {
     "data": {
      "text/plain": [
       "2"
      ]
     },
     "execution_count": 8,
     "metadata": {},
     "output_type": "execute_result"
    },
    {
     "data": {
      "text/plain": [
       "(2, 3)"
      ]
     },
     "execution_count": 8,
     "metadata": {},
     "output_type": "execute_result"
    },
    {
     "data": {
      "text/plain": [
       "6"
      ]
     },
     "execution_count": 8,
     "metadata": {},
     "output_type": "execute_result"
    },
    {
     "data": {
      "text/plain": [
       "'**************************************************'"
      ]
     },
     "execution_count": 8,
     "metadata": {},
     "output_type": "execute_result"
    },
    {
     "data": {
      "text/plain": [
       "dtype('int32')"
      ]
     },
     "execution_count": 8,
     "metadata": {},
     "output_type": "execute_result"
    },
    {
     "data": {
      "text/plain": [
       "2"
      ]
     },
     "execution_count": 8,
     "metadata": {},
     "output_type": "execute_result"
    },
    {
     "data": {
      "text/plain": [
       "(2, 3)"
      ]
     },
     "execution_count": 8,
     "metadata": {},
     "output_type": "execute_result"
    },
    {
     "data": {
      "text/plain": [
       "6"
      ]
     },
     "execution_count": 8,
     "metadata": {},
     "output_type": "execute_result"
    },
    {
     "data": {
      "text/plain": [
       "'**************************************************'"
      ]
     },
     "execution_count": 8,
     "metadata": {},
     "output_type": "execute_result"
    },
    {
     "data": {
      "text/plain": [
       "dtype('int32')"
      ]
     },
     "execution_count": 8,
     "metadata": {},
     "output_type": "execute_result"
    },
    {
     "data": {
      "text/plain": [
       "dtype('float32')"
      ]
     },
     "execution_count": 8,
     "metadata": {},
     "output_type": "execute_result"
    }
   ],
   "source": [
    "arr1 = np.array([[1.0, 2, 3], [4, 5, 6]], dtype=np.int32)\n",
    "arr1\n",
    "type(arr1)\n",
    "\n",
    "'*' * 50\n",
    "\n",
    "# np.dtype(arr1) # 이건 안 됨\n",
    "np.ndim(arr1)\n",
    "np.shape(arr1)\n",
    "np.size(arr1)\n",
    "\n",
    "'*' * 50\n",
    "\n",
    "arr1.dtype\n",
    "arr1.ndim\n",
    "arr1.shape\n",
    "arr1.size\n",
    "\n",
    "'*' * 50\n",
    "\n",
    "arr1_1 = arr1.astype(np.float32)\n",
    "arr1.dtype # arr1을 바꾸는 게 아니라 리턴한다\n",
    "arr1_1.dtype"
   ]
  },
  {
   "cell_type": "code",
   "execution_count": 9,
   "id": "6e12ad3b",
   "metadata": {},
   "outputs": [
    {
     "data": {
      "text/plain": [
       "array([[ 0,  1,  2,  3,  4,  5,  6,  7],\n",
       "       [ 8,  9, 10, 11, 12, 13, 14, 15],\n",
       "       [16, 17, 18, 19, 20, 21, 22, 23],\n",
       "       [24, 25, 26, 27, 28, 29, 30, 31]])"
      ]
     },
     "execution_count": 9,
     "metadata": {},
     "output_type": "execute_result"
    }
   ],
   "source": [
    "arr2 = np.arange(0, 32)\n",
    "arr2.reshape(4, 8)"
   ]
  }
 ],
 "metadata": {
  "kernelspec": {
   "display_name": "Python 3",
   "language": "python",
   "name": "python3"
  },
  "language_info": {
   "codemirror_mode": {
    "name": "ipython",
    "version": 3
   },
   "file_extension": ".py",
   "mimetype": "text/x-python",
   "name": "python",
   "nbconvert_exporter": "python",
   "pygments_lexer": "ipython3",
   "version": "3.8.5"
  }
 },
 "nbformat": 4,
 "nbformat_minor": 5
}
