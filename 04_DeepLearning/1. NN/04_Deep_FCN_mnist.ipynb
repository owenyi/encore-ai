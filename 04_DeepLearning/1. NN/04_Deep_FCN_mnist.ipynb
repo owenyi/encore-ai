{
 "cells": [
  {
   "cell_type": "code",
   "execution_count": 12,
   "metadata": {
    "executionInfo": {
     "elapsed": 307,
     "status": "ok",
     "timestamp": 1622618557428,
     "user": {
      "displayName": "Owen Yi",
      "photoUrl": "",
      "userId": "09039741801109834648"
     },
     "user_tz": -540
    },
    "id": "XZX7npqDN3vQ"
   },
   "outputs": [],
   "source": [
    "import torch\n",
    "import torchvision\n",
    "import numpy as np\n",
    "from torch import nn\n",
    "from torchvision import transforms\n",
    "import matplotlib.pyplot as plt"
   ]
  },
  {
   "cell_type": "code",
   "execution_count": 13,
   "metadata": {
    "colab": {
     "base_uri": "https://localhost:8080/"
    },
    "executionInfo": {
     "elapsed": 8,
     "status": "ok",
     "timestamp": 1622618557920,
     "user": {
      "displayName": "Owen Yi",
      "photoUrl": "",
      "userId": "09039741801109834648"
     },
     "user_tz": -540
    },
    "id": "xJOR0xZVQM5l",
    "outputId": "a2ea2a2a-3618-4dab-e8d8-9ca43dcf5fd9"
   },
   "outputs": [
    {
     "data": {
      "text/plain": [
       "device(type='cuda')"
      ]
     },
     "execution_count": 13,
     "metadata": {
      "tags": []
     },
     "output_type": "execute_result"
    }
   ],
   "source": [
    "# 우리가 사용할 컴퓨터를 check하는 부분\n",
    "device = torch.device('cuda' if torch.cuda.is_available else 'cpu')\n",
    "device"
   ]
  },
  {
   "cell_type": "code",
   "execution_count": 14,
   "metadata": {
    "executionInfo": {
     "elapsed": 6,
     "status": "ok",
     "timestamp": 1622618557921,
     "user": {
      "displayName": "Owen Yi",
      "photoUrl": "",
      "userId": "09039741801109834648"
     },
     "user_tz": -540
    },
    "id": "2OMUlve4Q20f"
   },
   "outputs": [],
   "source": [
    "input_size = 784\n",
    "hidden_size = 500\n",
    "num_classes = 10\n",
    "num_epochs = 5\n",
    "batch_size = 100\n",
    "learning_rate = 0.001"
   ]
  },
  {
   "cell_type": "code",
   "execution_count": 15,
   "metadata": {
    "executionInfo": {
     "elapsed": 5,
     "status": "ok",
     "timestamp": 1622618557921,
     "user": {
      "displayName": "Owen Yi",
      "photoUrl": "",
      "userId": "09039741801109834648"
     },
     "user_tz": -540
    },
    "id": "ZLtmJkeUUkZU"
   },
   "outputs": [],
   "source": [
    "# 데이터 셋 로딩 -- 2번에 걸쳐서 로딩\n",
    "# 1step...download\n",
    "train_dataset = torchvision.datasets.MNIST(root='../../data', \n",
    "                                           train=True, \n",
    "                                           transform=transforms.ToTensor(), \n",
    "                                           download=True)\n",
    "test_dataset = torchvision.datasets.MNIST(root='../../data', \n",
    "                                           train=False,                      # test 데이터\n",
    "                                           transform=transforms.ToTensor())\n",
    "\n",
    "# 2step...DataLoader...BatchSize를 사용\n",
    "train_loader = torch.utils.data.DataLoader(dataset=train_dataset, \n",
    "                                           batch_size=batch_size, \n",
    "                                           shuffle=True)\n",
    "test_loader = torch.utils.data.DataLoader(dataset=test_dataset, \n",
    "                                          batch_size=batch_size, \n",
    "                                          shuffle=False)                     # test 데이터는 섞을 필요 없음"
   ]
  },
  {
   "cell_type": "markdown",
   "metadata": {
    "id": "m-qRPHT2WVNA"
   },
   "source": [
    "### Model 생성하기"
   ]
  },
  {
   "cell_type": "code",
   "execution_count": 16,
   "metadata": {
    "colab": {
     "base_uri": "https://localhost:8080/"
    },
    "executionInfo": {
     "elapsed": 19894,
     "status": "ok",
     "timestamp": 1622618577811,
     "user": {
      "displayName": "Owen Yi",
      "photoUrl": "",
      "userId": "09039741801109834648"
     },
     "user_tz": -540
    },
    "id": "L5g5_IQlXGMb",
    "outputId": "ff6449db-eafc-4d00-ce05-eb6a60c884d2"
   },
   "outputs": [
    {
     "name": "stdout",
     "output_type": "stream",
     "text": [
      "Epoch : [1/5], Step : [100/600], Loss : 0.2681\n",
      "Epoch : [1/5], Step : [200/600], Loss : 0.1923\n",
      "Epoch : [1/5], Step : [300/600], Loss : 0.1593\n",
      "Epoch : [1/5], Step : [400/600], Loss : 0.1670\n",
      "Epoch : [1/5], Step : [500/600], Loss : 0.0962\n",
      "Epoch : [1/5], Step : [600/600], Loss : 0.1329\n",
      "Epoch : [2/5], Step : [100/600], Loss : 0.1436\n",
      "Epoch : [2/5], Step : [200/600], Loss : 0.1181\n",
      "Epoch : [2/5], Step : [300/600], Loss : 0.0733\n",
      "Epoch : [2/5], Step : [400/600], Loss : 0.0833\n",
      "Epoch : [2/5], Step : [500/600], Loss : 0.1018\n",
      "Epoch : [2/5], Step : [600/600], Loss : 0.0524\n",
      "Epoch : [3/5], Step : [100/600], Loss : 0.1573\n",
      "Epoch : [3/5], Step : [200/600], Loss : 0.0653\n",
      "Epoch : [3/5], Step : [300/600], Loss : 0.0658\n",
      "Epoch : [3/5], Step : [400/600], Loss : 0.0350\n",
      "Epoch : [3/5], Step : [500/600], Loss : 0.0365\n",
      "Epoch : [3/5], Step : [600/600], Loss : 0.1246\n",
      "Epoch : [4/5], Step : [100/600], Loss : 0.0462\n",
      "Epoch : [4/5], Step : [200/600], Loss : 0.0424\n",
      "Epoch : [4/5], Step : [300/600], Loss : 0.0790\n",
      "Epoch : [4/5], Step : [400/600], Loss : 0.0841\n",
      "Epoch : [4/5], Step : [500/600], Loss : 0.0228\n",
      "Epoch : [4/5], Step : [600/600], Loss : 0.0204\n",
      "Epoch : [5/5], Step : [100/600], Loss : 0.0065\n",
      "Epoch : [5/5], Step : [200/600], Loss : 0.0489\n",
      "Epoch : [5/5], Step : [300/600], Loss : 0.0490\n",
      "Epoch : [5/5], Step : [400/600], Loss : 0.0243\n",
      "Epoch : [5/5], Step : [500/600], Loss : 0.0491\n",
      "Epoch : [5/5], Step : [600/600], Loss : 0.0329\n"
     ]
    }
   ],
   "source": [
    "class NeuralNet(nn.Module):\n",
    "\n",
    "  def __init__(self, input_size, hidden_size, num_classes):\n",
    "    super(NeuralNet, self).__init__()\n",
    "    self.fc1 = nn.Linear(input_size, hidden_size)\n",
    "    self.relu = nn.ReLU()\n",
    "    self.fc2 = nn.Linear(hidden_size, num_classes)\n",
    "\n",
    "  # 모델의 Forward Path를 정의\n",
    "  def forward(self, x):\n",
    "    out = self.fc1(x)\n",
    "    out = self.relu(out)\n",
    "    out = self.fc2(out)\n",
    "    \n",
    "    return out\n",
    "\n",
    "# 위에서 정의한 클래스를 인스턴스화 시킴\n",
    "model = NeuralNet(input_size, hidden_size, num_classes).to(device) # to(device) : 이 모델을 gpu 서버에서 돌린다는 뜻\n",
    "# loss, optimizer를 선정의\n",
    "loss_function = nn.CrossEntropyLoss() # Loss 기능 안에 Softmax 함수 기능 포함되어져 있다.\n",
    "optimizer = torch.optim.Adam(model.parameters(), lr=learning_rate)\n",
    "\n",
    "total_step = len(train_loader) # 6만 / 100 = 600\n",
    "\n",
    "for epoch in range(num_epochs): # 5번\n",
    "  for i, (images, labels) in enumerate(train_loader):\n",
    "    # 네트워크에 넣어줄 때는 1차원으로 펼쳐서 넣는다.\n",
    "    images = images.reshape(-1, 28*28).to(device) # gpu로 돌린다.\n",
    "    labels = labels.to(device)\n",
    "\n",
    "    # Forward Pass\n",
    "    pred = model(images)\n",
    "    loss = loss_function(pred, labels)\n",
    "\n",
    "    optimizer.zero_grad()\n",
    "    loss.backward()\n",
    "\n",
    "    optimizer.step()\n",
    "\n",
    "    if (i + 1) % 100 == 0:\n",
    "      print(f\"Epoch : [{epoch + 1}/{num_epochs}], Step : [{i + 1}/{total_step}], Loss : {loss.item():.4f}\")"
   ]
  },
  {
   "cell_type": "code",
   "execution_count": 17,
   "metadata": {
    "colab": {
     "base_uri": "https://localhost:8080/"
    },
    "executionInfo": {
     "elapsed": 504,
     "status": "ok",
     "timestamp": 1622618578313,
     "user": {
      "displayName": "Owen Yi",
      "photoUrl": "",
      "userId": "09039741801109834648"
     },
     "user_tz": -540
    },
    "id": "5UJ61slLeOLh",
    "outputId": "b67a25d8-ef0d-4934-dd67-760e6ef47755"
   },
   "outputs": [
    {
     "name": "stdout",
     "output_type": "stream",
     "text": [
      "Accuracy of the Network on the Test Images : 97.97%\n"
     ]
    }
   ],
   "source": [
    "# Test\n",
    "'''\n",
    "1) with torch.no_grad():\n",
    "  some code\n",
    "  --> backward를 하지 않겠다.\n",
    "2) with torch.set_grad_enabled(False)\n",
    "\n",
    "안 해주면 기본적으로 BackPropagation 진행에 필요한 메모리를 따로 빼둔다.\n",
    "'''\n",
    "with torch.no_grad(): # 미분 안하겠다...실제로 학습할 필요가 없을 때 이 구문을 반드시 작성\n",
    "  correct = 0\n",
    "  total = 0\n",
    "\n",
    "  for images, labels in test_loader:\n",
    "    images = images.reshape(-1, 28*28).to(device)\n",
    "    labels = labels.to(device)\n",
    "\n",
    "    outputs = model(images)\n",
    "    _, predicted = torch.max(outputs.data, 1)\n",
    "\n",
    "    total += labels.size(0)\n",
    "    correct += (predicted == labels).sum().item()\n",
    "\n",
    "  print(f\"Accuracy of the Network on the Test Images : {100*correct/total}%\")\n",
    "  \n",
    "torch.save(model.state_dict(), 'model.ckpt')"
   ]
  }
 ],
 "metadata": {
  "accelerator": "GPU",
  "colab": {
   "authorship_tag": "ABX9TyMpTyXRRoyt8o10w2Q3oQqW",
   "collapsed_sections": [],
   "name": "04_Deep_FCN_mnist.ipynb",
   "provenance": []
  },
  "kernelspec": {
   "display_name": "Python 3",
   "language": "python",
   "name": "python3"
  },
  "language_info": {
   "codemirror_mode": {
    "name": "ipython",
    "version": 3
   },
   "file_extension": ".py",
   "mimetype": "text/x-python",
   "name": "python",
   "nbconvert_exporter": "python",
   "pygments_lexer": "ipython3",
   "version": "3.8.5"
  }
 },
 "nbformat": 4,
 "nbformat_minor": 1
}
