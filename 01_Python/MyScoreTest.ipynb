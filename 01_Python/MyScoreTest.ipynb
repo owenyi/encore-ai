{
 "cells": [
  {
   "cell_type": "markdown",
   "id": "b756f603",
   "metadata": {},
   "source": [
    "### __name__ 변수란?\n",
    "    파이썬에서 __name__ 변수는 내부적으로 사용되는 특별한 변수다.\n",
    "    직접적으로 실행되는 파일의 __name__ 변수 값에는 __main__ 이름이 저장된다.\n",
    "    반대로 간접적으로 실행되는 파일(import) 모듈명이 저장된다."
   ]
  },
  {
   "cell_type": "code",
   "execution_count": 1,
   "id": "c53564a9",
   "metadata": {},
   "outputs": [
    {
     "name": "stdout",
     "output_type": "stream",
     "text": [
      "값 입력 : 1, 2, 3\n",
      "['1', '2', '3']\n",
      "[1, 2, 3]\n",
      "총합 : 6\n",
      "__main__\n"
     ]
    }
   ],
   "source": [
    "from MyScoreMod import *\n",
    "\n",
    "dataL = input(\"값 입력 : \").split(', ')\n",
    "print(dataL)\n",
    "\n",
    "intDataL = [int(x) for x in dataL]\n",
    "print(intDataL)\n",
    "\n",
    "print(\"총합 :\", getSum(intDataL))\n",
    "\n",
    "if __name__ == \"__main__\": # 직접 실행되고 있는 파일이라면\n",
    "    print(__name__) # 보통 여기에 단위 테스트를 함"
   ]
  },
  {
   "cell_type": "code",
   "execution_count": 2,
   "id": "02117390",
   "metadata": {},
   "outputs": [
    {
     "name": "stdout",
     "output_type": "stream",
     "text": [
      "평균 : 2.0\n",
      "최댓값 : 3\n",
      "최솟값 : 1\n"
     ]
    }
   ],
   "source": [
    "print(\"평균 :\", getMean(intDataL))\n",
    "print(\"최댓값 :\", getMax(intDataL))\n",
    "print(\"최솟값 :\", getMin(intDataL))"
   ]
  },
  {
   "cell_type": "code",
   "execution_count": 3,
   "id": "888c4c56",
   "metadata": {},
   "outputs": [
    {
     "name": "stdout",
     "output_type": "stream",
     "text": [
      "55\n",
      "55\n"
     ]
    }
   ],
   "source": [
    "print(getTwoSum(1, 10))\n",
    "print(getTwoSum(10, 1))"
   ]
  }
 ],
 "metadata": {
  "kernelspec": {
   "display_name": "Python 3",
   "language": "python",
   "name": "python3"
  },
  "language_info": {
   "codemirror_mode": {
    "name": "ipython",
    "version": 3
   },
   "file_extension": ".py",
   "mimetype": "text/x-python",
   "name": "python",
   "nbconvert_exporter": "python",
   "pygments_lexer": "ipython3",
   "version": "3.8.5"
  }
 },
 "nbformat": 4,
 "nbformat_minor": 5
}
