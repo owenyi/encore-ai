{
 "cells": [
  {
   "cell_type": "code",
   "execution_count": 1,
   "id": "780c0a8c",
   "metadata": {},
   "outputs": [],
   "source": [
    "from IPython.core.interactiveshell import InteractiveShell\n",
    "InteractiveShell.ast_node_interactivity = \"all\""
   ]
  },
  {
   "cell_type": "markdown",
   "id": "c331be49",
   "metadata": {},
   "source": [
    "### Pandas\n",
    "    Pandas는 Panel Datas의 약자\n",
    "    파이썬을 이용한 데이터 분석에서 가장 많이 사용되는 라이브러리\n",
    "    \n",
    "    Pandas 자료구조\n",
    "    1. Series - 1차원 배열(벡터)\n",
    "    2. DataFrame - 2차원 배열(매트릭스) 가장 중요(표 형식)\n",
    "    3. Panel - 3차원(대상 아님)"
   ]
  },
  {
   "cell_type": "markdown",
   "id": "ef42b963",
   "metadata": {},
   "source": [
    "#### Series\n",
    "    시리즈 생성\n",
    "    구조 확인"
   ]
  },
  {
   "cell_type": "code",
   "execution_count": 2,
   "id": "24704ee0",
   "metadata": {},
   "outputs": [],
   "source": [
    "import numpy as np\n",
    "import pandas as pd\n",
    "from pandas import Series\n",
    "import matplotlib.pyplot as plt"
   ]
  },
  {
   "cell_type": "code",
   "execution_count": 3,
   "id": "3591103b",
   "metadata": {},
   "outputs": [
    {
     "data": {
      "text/plain": [
       "a    12\n",
       "b    19\n",
       "c    12\n",
       "d    10\n",
       "e    18\n",
       "dtype: int32"
      ]
     },
     "execution_count": 3,
     "metadata": {},
     "output_type": "execute_result"
    },
    {
     "data": {
      "text/plain": [
       "Index(['a', 'b', 'c', 'd', 'e'], dtype='object')"
      ]
     },
     "execution_count": 3,
     "metadata": {},
     "output_type": "execute_result"
    },
    {
     "data": {
      "text/plain": [
       "array([12, 19, 12, 10, 18])"
      ]
     },
     "execution_count": 3,
     "metadata": {},
     "output_type": "execute_result"
    },
    {
     "data": {
      "text/plain": [
       "dtype('int32')"
      ]
     },
     "execution_count": 3,
     "metadata": {},
     "output_type": "execute_result"
    }
   ],
   "source": [
    "ser1 = Series(np.random.randint(10, 20, 5), index=list('abcde'))\n",
    "ser1\n",
    "ser1.index\n",
    "ser1.values\n",
    "ser1.dtype"
   ]
  },
  {
   "cell_type": "markdown",
   "id": "e30da036",
   "metadata": {},
   "source": [
    "#### 시리즈 값 조회\n",
    "    단일 값을 선택하거나 여러 값을 선택할 때\n",
    "    1) 인덱스\n",
    "     - number\n",
    "     - label\n",
    "    2) 슬라이싱\n",
    "     - number\n",
    "     - label : 마지막 라벨 포함됨"
   ]
  },
  {
   "cell_type": "code",
   "execution_count": 4,
   "id": "61fca86b",
   "metadata": {},
   "outputs": [
    {
     "data": {
      "text/plain": [
       "12"
      ]
     },
     "execution_count": 4,
     "metadata": {},
     "output_type": "execute_result"
    },
    {
     "data": {
      "text/plain": [
       "12"
      ]
     },
     "execution_count": 4,
     "metadata": {},
     "output_type": "execute_result"
    }
   ],
   "source": [
    "ser1[0]\n",
    "ser1['a']"
   ]
  },
  {
   "cell_type": "code",
   "execution_count": 5,
   "id": "4d0d9307",
   "metadata": {},
   "outputs": [
    {
     "data": {
      "text/plain": [
       "b    19\n",
       "c    12\n",
       "dtype: int32"
      ]
     },
     "execution_count": 5,
     "metadata": {},
     "output_type": "execute_result"
    },
    {
     "data": {
      "text/plain": [
       "b    19\n",
       "c    12\n",
       "d    10\n",
       "dtype: int32"
      ]
     },
     "execution_count": 5,
     "metadata": {},
     "output_type": "execute_result"
    }
   ],
   "source": [
    "ser1[1:3]\n",
    "ser1['b':'d']"
   ]
  },
  {
   "cell_type": "code",
   "execution_count": 6,
   "id": "149db437",
   "metadata": {},
   "outputs": [
    {
     "data": {
      "text/plain": [
       "a    12\n",
       "c    12\n",
       "e    18\n",
       "dtype: int32"
      ]
     },
     "execution_count": 6,
     "metadata": {},
     "output_type": "execute_result"
    },
    {
     "data": {
      "text/plain": [
       "a    12\n",
       "c    12\n",
       "e    18\n",
       "dtype: int32"
      ]
     },
     "execution_count": 6,
     "metadata": {},
     "output_type": "execute_result"
    },
    {
     "data": {
      "text/plain": [
       "a    12\n",
       "c    12\n",
       "e    18\n",
       "dtype: int32"
      ]
     },
     "execution_count": 6,
     "metadata": {},
     "output_type": "execute_result"
    }
   ],
   "source": [
    "# 건너서 출력\n",
    "ser1[0::2]\n",
    "ser1['a'::2]\n",
    "ser1[::2]"
   ]
  },
  {
   "cell_type": "markdown",
   "id": "a8468c20",
   "metadata": {},
   "source": [
    "#### 시리즈 간의 연산"
   ]
  },
  {
   "cell_type": "code",
   "execution_count": 7,
   "id": "de7621d8",
   "metadata": {},
   "outputs": [
    {
     "data": {
      "text/plain": [
       "a    12\n",
       "b    19\n",
       "c    12\n",
       "d    10\n",
       "e    18\n",
       "dtype: int32"
      ]
     },
     "execution_count": 7,
     "metadata": {},
     "output_type": "execute_result"
    },
    {
     "data": {
      "text/plain": [
       "a    24.0\n",
       "b     NaN\n",
       "c    24.0\n",
       "d     NaN\n",
       "e    36.0\n",
       "dtype: float64"
      ]
     },
     "execution_count": 7,
     "metadata": {},
     "output_type": "execute_result"
    }
   ],
   "source": [
    "ser1\n",
    "resSer = ser1 + ser1[::2] # Nan : 결측치, 누락 데이터 나온다...전처리 과정의 핵심\n",
    "resSer # NaN 때문에 dtype이 flaot64가 된다."
   ]
  },
  {
   "cell_type": "markdown",
   "id": "4eb0d4d5",
   "metadata": {},
   "source": [
    "#### 누락 데이터 조회\n",
    "    isnull()\n",
    "    notnull()"
   ]
  },
  {
   "cell_type": "code",
   "execution_count": 8,
   "id": "49d8f85a",
   "metadata": {},
   "outputs": [
    {
     "data": {
      "text/plain": [
       "a    False\n",
       "b     True\n",
       "c    False\n",
       "d     True\n",
       "e    False\n",
       "dtype: bool"
      ]
     },
     "execution_count": 8,
     "metadata": {},
     "output_type": "execute_result"
    },
    {
     "data": {
      "text/plain": [
       "a     True\n",
       "b    False\n",
       "c     True\n",
       "d    False\n",
       "e     True\n",
       "dtype: bool"
      ]
     },
     "execution_count": 8,
     "metadata": {},
     "output_type": "execute_result"
    },
    {
     "data": {
      "text/plain": [
       "2"
      ]
     },
     "execution_count": 8,
     "metadata": {},
     "output_type": "execute_result"
    }
   ],
   "source": [
    "resSer.isnull()\n",
    "resSer.notnull()\n",
    "resSer.isnull().sum()"
   ]
  },
  {
   "cell_type": "code",
   "execution_count": 9,
   "id": "678fdbf9",
   "metadata": {},
   "outputs": [
    {
     "data": {
      "text/plain": [
       "b   NaN\n",
       "d   NaN\n",
       "dtype: float64"
      ]
     },
     "execution_count": 9,
     "metadata": {},
     "output_type": "execute_result"
    },
    {
     "data": {
      "text/plain": [
       "a    24.0\n",
       "c    24.0\n",
       "e    36.0\n",
       "dtype: float64"
      ]
     },
     "execution_count": 9,
     "metadata": {},
     "output_type": "execute_result"
    }
   ],
   "source": [
    "resSer[resSer.isnull()]\n",
    "resSer[resSer.notnull()]"
   ]
  },
  {
   "cell_type": "markdown",
   "id": "1c2bff7e",
   "metadata": {},
   "source": [
    "#### Pandas를 이용한 시각화\n",
    "    누락 데이터가 아닌 데이터를 한 눈에 보여준다."
   ]
  },
  {
   "cell_type": "code",
   "execution_count": 10,
   "id": "29c64ab3",
   "metadata": {},
   "outputs": [
    {
     "data": {
      "text/plain": [
       "<AxesSubplot:>"
      ]
     },
     "execution_count": 10,
     "metadata": {},
     "output_type": "execute_result"
    },
    {
     "data": {
      "image/png": "[encoded data removed]",
      "text/plain": [
       "<Figure size 432x288 with 1 Axes>"
      ]
     },
     "metadata": {
      "needs_background": "light"
     },
     "output_type": "display_data"
    }
   ],
   "source": [
    "resSer[resSer.notnull()].plot(kind='bar')\n",
    "plt.show()"
   ]
  },
  {
   "cell_type": "code",
   "execution_count": 11,
   "id": "40b075ba",
   "metadata": {},
   "outputs": [
    {
     "data": {
      "text/plain": [
       "<AxesSubplot:>"
      ]
     },
     "execution_count": 11,
     "metadata": {},
     "output_type": "execute_result"
    },
    {
     "data": {
      "image/png": "[encoded data removed]",
      "text/plain": [
       "<Figure size 432x288 with 1 Axes>"
      ]
     },
     "metadata": {
      "needs_background": "light"
     },
     "output_type": "display_data"
    }
   ],
   "source": [
    "resSer[resSer.isnull()].plot(kind='bar')\n",
    "plt.show()"
   ]
  }
 ],
 "metadata": {
  "kernelspec": {
   "display_name": "Python 3",
   "language": "python",
   "name": "python3"
  },
  "language_info": {
   "codemirror_mode": {
    "name": "ipython",
    "version": 3
   },
   "file_extension": ".py",
   "mimetype": "text/x-python",
   "name": "python",
   "nbconvert_exporter": "python",
   "pygments_lexer": "ipython3",
   "version": "3.8.5"
  }
 },
 "nbformat": 4,
 "nbformat_minor": 5
}
