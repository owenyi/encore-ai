{
 "cells": [
  {
   "cell_type": "code",
   "execution_count": 1,
   "id": "85f284f6",
   "metadata": {},
   "outputs": [],
   "source": [
    "from IPython.core.interactiveshell import InteractiveShell\n",
    "InteractiveShell.ast_node_interactivity = \"all\""
   ]
  },
  {
   "cell_type": "markdown",
   "id": "6393f026",
   "metadata": {},
   "source": [
    "# 문자열\n",
    "    인덱싱과 슬라이싱\n",
    "    split(), join()"
   ]
  },
  {
   "cell_type": "code",
   "execution_count": 2,
   "id": "217a8e7d",
   "metadata": {},
   "outputs": [
    {
     "data": {
      "text/plain": [
       "'20210510'"
      ]
     },
     "execution_count": 2,
     "metadata": {},
     "output_type": "execute_result"
    },
    {
     "data": {
      "text/plain": [
       "'Cloudy'"
      ]
     },
     "execution_count": 2,
     "metadata": {},
     "output_type": "execute_result"
    },
    {
     "data": {
      "text/plain": [
       "'20210510Cloudy'"
      ]
     },
     "execution_count": 2,
     "metadata": {},
     "output_type": "execute_result"
    }
   ],
   "source": [
    "mystr = \"20210510Cloudy\"\n",
    "\n",
    "# 인덱스와 슬라이싱을 이용해서 날짜와 날씨를 각각 할당하세요\n",
    "mydate = mystr[0:8]\n",
    "weather = mystr[8:]\n",
    "all = mystr[:]\n",
    "\n",
    "mydate\n",
    "weather\n",
    "all"
   ]
  },
  {
   "cell_type": "code",
   "execution_count": 3,
   "id": "ebd217cc",
   "metadata": {},
   "outputs": [
    {
     "data": {
      "text/plain": [
       "'미나리, 경계선, 기생충, 메트릭스'"
      ]
     },
     "execution_count": 3,
     "metadata": {},
     "output_type": "execute_result"
    },
    {
     "data": {
      "text/plain": [
       "['미나리', '경계선', '기생충', '메트릭스']"
      ]
     },
     "execution_count": 3,
     "metadata": {},
     "output_type": "execute_result"
    },
    {
     "data": {
      "text/plain": [
       "'미나리, 경계선, 기생충, 메트릭스'"
      ]
     },
     "execution_count": 3,
     "metadata": {},
     "output_type": "execute_result"
    }
   ],
   "source": [
    "movies = \"미나리, 경계선, 기생충, 메트릭스\"\n",
    "movies\n",
    "\n",
    "moviesL = movies.split(\", \")\n",
    "moviesL\n",
    "\n",
    "# join()은 str의 메소드\n",
    "# 구문자.join(리스트)\n",
    "movies = ', '.join(moviesL)\n",
    "movies"
   ]
  },
  {
   "cell_type": "markdown",
   "id": "b4cff3c3",
   "metadata": {},
   "source": [
    "### 리스트 CRUD"
   ]
  },
  {
   "cell_type": "markdown",
   "id": "2255d9e2",
   "metadata": {},
   "source": [
    "#### 1. 리스트 생성하기 "
   ]
  },
  {
   "cell_type": "code",
   "execution_count": 4,
   "id": "48a29e9b",
   "metadata": {},
   "outputs": [
    {
     "data": {
      "text/plain": [
       "[2, 5, 3, 10, 4]"
      ]
     },
     "execution_count": 4,
     "metadata": {},
     "output_type": "execute_result"
    },
    {
     "data": {
      "text/plain": [
       "[]"
      ]
     },
     "execution_count": 4,
     "metadata": {},
     "output_type": "execute_result"
    },
    {
     "data": {
      "text/plain": [
       "[]"
      ]
     },
     "execution_count": 4,
     "metadata": {},
     "output_type": "execute_result"
    },
    {
     "data": {
      "text/plain": [
       "5"
      ]
     },
     "execution_count": 4,
     "metadata": {},
     "output_type": "execute_result"
    },
    {
     "data": {
      "text/plain": [
       "0"
      ]
     },
     "execution_count": 4,
     "metadata": {},
     "output_type": "execute_result"
    },
    {
     "data": {
      "text/plain": [
       "0"
      ]
     },
     "execution_count": 4,
     "metadata": {},
     "output_type": "execute_result"
    }
   ],
   "source": [
    "mylist1 = [2, 5, 3, 10, 4]\n",
    "mylist2 = []\n",
    "mylist3 = list()\n",
    "\n",
    "mylist1\n",
    "mylist2\n",
    "mylist3\n",
    "\n",
    "len(mylist1)\n",
    "len(mylist2)\n",
    "len(mylist3)"
   ]
  },
  {
   "cell_type": "code",
   "execution_count": 5,
   "id": "d318a5ea",
   "metadata": {},
   "outputs": [
    {
     "data": {
      "text/plain": [
       "[1, 2, 3, 4]"
      ]
     },
     "execution_count": 5,
     "metadata": {},
     "output_type": "execute_result"
    }
   ],
   "source": [
    "mylist1 = [1, 2]\n",
    "mylist2 = [3, 4]\n",
    "\n",
    "mylist1.extend(mylist2)\n",
    "mylist1"
   ]
  },
  {
   "cell_type": "markdown",
   "id": "689a63ce",
   "metadata": {},
   "source": [
    "### 2. 리스트 수정하기"
   ]
  },
  {
   "cell_type": "code",
   "execution_count": 6,
   "id": "b5bcede8",
   "metadata": {},
   "outputs": [
    {
     "data": {
      "text/plain": [
       "[1, 2, 3, 4]"
      ]
     },
     "execution_count": 6,
     "metadata": {},
     "output_type": "execute_result"
    },
    {
     "data": {
      "text/plain": [
       "[1, 2, 0, 4]"
      ]
     },
     "execution_count": 6,
     "metadata": {},
     "output_type": "execute_result"
    }
   ],
   "source": [
    "mylist = [1, 2, 3, 4]\n",
    "mylist\n",
    "\n",
    "mylist[2] = 0\n",
    "mylist # 갑 변경 가능"
   ]
  },
  {
   "cell_type": "markdown",
   "id": "629d899f",
   "metadata": {},
   "source": [
    "### 3. 리스트 추가하기\n",
    "    append()\n",
    "    insert()"
   ]
  },
  {
   "cell_type": "code",
   "execution_count": 7,
   "id": "0c859cdd",
   "metadata": {},
   "outputs": [],
   "source": [
    "mylist1.append?"
   ]
  },
  {
   "cell_type": "code",
   "execution_count": 8,
   "id": "b6ea35a6",
   "metadata": {},
   "outputs": [],
   "source": [
    "mylist1.insert?"
   ]
  },
  {
   "cell_type": "code",
   "execution_count": 9,
   "id": "6f0b8caf",
   "metadata": {},
   "outputs": [
    {
     "data": {
      "text/plain": [
       "[1, 2, 3, 4, 5]"
      ]
     },
     "execution_count": 9,
     "metadata": {},
     "output_type": "execute_result"
    }
   ],
   "source": [
    "mylist = [1, 2, 3, 4]\n",
    "mylist.append(5)\n",
    "mylist"
   ]
  },
  {
   "cell_type": "code",
   "execution_count": 10,
   "id": "214c41c5",
   "metadata": {},
   "outputs": [
    {
     "data": {
      "text/plain": [
       "[1, 2, 3, 200, 4, 5]"
      ]
     },
     "execution_count": 10,
     "metadata": {},
     "output_type": "execute_result"
    }
   ],
   "source": [
    "mylist.insert(3, 200)\n",
    "mylist"
   ]
  },
  {
   "cell_type": "code",
   "execution_count": 11,
   "id": "ae43a688",
   "metadata": {},
   "outputs": [
    {
     "data": {
      "text/plain": [
       "[1, 2, 3, 200, 4, -200, 5]"
      ]
     },
     "execution_count": 11,
     "metadata": {},
     "output_type": "execute_result"
    }
   ],
   "source": [
    "# 리스트 가장 마지막에 -200을 추가...insert()를 사용...마지막을 의미하는 인덱스를 적용\n",
    "mylist.insert(-1, -200)\n",
    "mylist # before index...원하는대로 안 나온다."
   ]
  },
  {
   "cell_type": "code",
   "execution_count": 12,
   "id": "4b3e1dde",
   "metadata": {},
   "outputs": [
    {
     "data": {
      "text/plain": [
       "[1, 2, 3, 200, 4, 5]"
      ]
     },
     "execution_count": 12,
     "metadata": {},
     "output_type": "execute_result"
    }
   ],
   "source": [
    "mylist.remove(-200)\n",
    "mylist"
   ]
  },
  {
   "cell_type": "code",
   "execution_count": 13,
   "id": "99be98e0",
   "metadata": {},
   "outputs": [
    {
     "data": {
      "text/plain": [
       "[1, 2, 3, 200, 4, 5, -200]"
      ]
     },
     "execution_count": 13,
     "metadata": {},
     "output_type": "execute_result"
    },
    {
     "data": {
      "text/plain": [
       "[1, 2, 3, 200, 4, 5, -200, -200]"
      ]
     },
     "execution_count": 13,
     "metadata": {},
     "output_type": "execute_result"
    }
   ],
   "source": [
    "# 리스트 가장 마지막에 -200을 추가...append 사용하지 말고\n",
    "mylist.insert(len(mylist), -200)\n",
    "mylist\n",
    "\n",
    "# 사실 길이보다 크기만 하면 된다.\n",
    "mylist.insert(999999, -200)\n",
    "mylist"
   ]
  },
  {
   "cell_type": "markdown",
   "id": "1ab3e80e",
   "metadata": {},
   "source": [
    "### 4. 리스트 삭제하기\n",
    "    del : 인덱스로 삭제\n",
    "    remove : 삭제할 값을 직접 입력\n",
    "    pop : 맨 마지막 값을 삭제한 후 리턴함"
   ]
  },
  {
   "cell_type": "code",
   "execution_count": 14,
   "id": "7ce9b059",
   "metadata": {},
   "outputs": [
    {
     "data": {
      "text/plain": [
       "[1, 2, 4, 5, 4]"
      ]
     },
     "execution_count": 14,
     "metadata": {},
     "output_type": "execute_result"
    },
    {
     "data": {
      "text/plain": [
       "[4, 5, 4]"
      ]
     },
     "execution_count": 14,
     "metadata": {},
     "output_type": "execute_result"
    },
    {
     "data": {
      "text/plain": [
       "[5, 4]"
      ]
     },
     "execution_count": 14,
     "metadata": {},
     "output_type": "execute_result"
    },
    {
     "data": {
      "text/plain": [
       "4"
      ]
     },
     "execution_count": 14,
     "metadata": {},
     "output_type": "execute_result"
    },
    {
     "data": {
      "text/plain": [
       "[5]"
      ]
     },
     "execution_count": 14,
     "metadata": {},
     "output_type": "execute_result"
    }
   ],
   "source": [
    "mylist = [1, 2, 3, 4, 5, 4]\n",
    "\n",
    "del mylist[2]\n",
    "mylist\n",
    "\n",
    "del mylist[0:2]\n",
    "mylist\n",
    "\n",
    "mylist.remove(4)\n",
    "mylist\n",
    "\n",
    "mylist.pop() # 제거한 걸 리턴함\n",
    "mylist"
   ]
  },
  {
   "cell_type": "markdown",
   "id": "8e9719f5",
   "metadata": {},
   "source": [
    "### 5. 리스트 정렬하기"
   ]
  },
  {
   "cell_type": "code",
   "execution_count": 15,
   "id": "b53a28c0",
   "metadata": {},
   "outputs": [
    {
     "data": {
      "text/plain": [
       "[1, 2, 3, 4, 5, 6, 7, 8]"
      ]
     },
     "execution_count": 15,
     "metadata": {},
     "output_type": "execute_result"
    },
    {
     "data": {
      "text/plain": [
       "[8, 7, 6, 5, 4, 3, 2, 1]"
      ]
     },
     "execution_count": 15,
     "metadata": {},
     "output_type": "execute_result"
    }
   ],
   "source": [
    "myL = [7, 2, 3, 8, 4, 1, 5, 6]\n",
    "\n",
    "myL.sort()\n",
    "myL\n",
    "\n",
    "myL.sort(reverse=True)\n",
    "myL"
   ]
  },
  {
   "cell_type": "markdown",
   "id": "6c6c42c8",
   "metadata": {},
   "source": [
    "### 문제1.\n",
    "    100, 200, [10, 20, 30], 400, 500으로 리스트를 변경\n",
    "    ...indexing, slicing으로"
   ]
  },
  {
   "cell_type": "code",
   "execution_count": 16,
   "id": "3a190254",
   "metadata": {},
   "outputs": [
    {
     "data": {
      "text/plain": [
       "[100, 200, [10, 20, 30], 400, 500]"
      ]
     },
     "execution_count": 16,
     "metadata": {},
     "output_type": "execute_result"
    },
    {
     "data": {
      "text/plain": [
       "[100, 200, 10, 20, 30, 400, 500]"
      ]
     },
     "execution_count": 16,
     "metadata": {},
     "output_type": "execute_result"
    }
   ],
   "source": [
    "a = [100, 200, 300, 400, 500]\n",
    "b = [10, 20, 30]\n",
    "\n",
    "a[2] = b\n",
    "a\n",
    "\n",
    "a[2:3] = b # slicing에는 iterable만 넣을 수 있다.\n",
    "a"
   ]
  },
  {
   "cell_type": "code",
   "execution_count": 17,
   "id": "74b00e11",
   "metadata": {},
   "outputs": [
    {
     "name": "stdout",
     "output_type": "stream",
     "text": [
      "InteractiveShell\t a\t all\t b\t movies\t moviesL\t myL\t mydate\t mylist\t \n",
      "mylist1\t mylist2\t mylist3\t mystr\t weather\t \n",
      "Variable           Type             Data/Info\n",
      "---------------------------------------------\n",
      "InteractiveShell   MetaHasTraits    <class 'IPython.core.inte<...>eshell.InteractiveShell'>\n",
      "a                  list             n=7\n",
      "all                str              20210510Cloudy\n",
      "b                  list             n=3\n",
      "movies             str              미나리, 경계선, 기생충, 메트릭스\n",
      "moviesL            list             n=4\n",
      "myL                list             n=8\n",
      "mydate             str              20210510\n",
      "mylist             list             n=1\n",
      "mylist1            list             n=4\n",
      "mylist2            list             n=2\n",
      "mylist3            list             n=0\n",
      "mystr              str              20210510Cloudy\n",
      "weather            str              Cloudy\n"
     ]
    }
   ],
   "source": [
    "# 파이썬에서 모든 변수는 객체이다.\n",
    "# who옵션을 사용하면 지금까지 사용한 변수 이름을 출력\n",
    "# 동시에 간단한 정보도 확인\n",
    "%who\n",
    "# whos옵션을 사용하면 타입과 값도 함께 출력\n",
    "%whos"
   ]
  },
  {
   "cell_type": "markdown",
   "id": "48a37e9a",
   "metadata": {},
   "source": [
    "### 변수 이름 내장함수 유의\n",
    "    1)로컬변수는 로컬영역에 저장 --- 가장 먼저 뒤진다\n",
    "    2)전역변수는 전역영역에 저장 --- 두번째로 뒤진다   \n",
    "    3)내장변수는 내장영역에 저장 --- 마지막으로 뒤진다"
   ]
  },
  {
   "cell_type": "code",
   "execution_count": 18,
   "id": "20b9572a",
   "metadata": {},
   "outputs": [
    {
     "name": "stdout",
     "output_type": "stream",
     "text": [
      "[3, 4, 5]\n"
     ]
    },
    {
     "data": {
      "text/plain": [
       "['a', 'b', 'c', 'd']"
      ]
     },
     "execution_count": 18,
     "metadata": {},
     "output_type": "execute_result"
    }
   ],
   "source": [
    "# list = [3, 4, 5]\n",
    "# print(list)\n",
    "list_data = [3, 4, 5]\n",
    "print(list_data)\n",
    "\n",
    "aList = list('abcd')\n",
    "aList"
   ]
  },
  {
   "cell_type": "markdown",
   "id": "1ee0097c",
   "metadata": {},
   "source": [
    "### 6. 2차원 배열에서 데이터 추출하기"
   ]
  },
  {
   "cell_type": "code",
   "execution_count": 20,
   "id": "314ac89e",
   "metadata": {},
   "outputs": [
    {
     "data": {
      "text/plain": [
       "[[1, 3], [4, 6]]"
      ]
     },
     "execution_count": 20,
     "metadata": {},
     "output_type": "execute_result"
    },
    {
     "data": {
      "text/plain": [
       "6"
      ]
     },
     "execution_count": 20,
     "metadata": {},
     "output_type": "execute_result"
    }
   ],
   "source": [
    "test2D = [[1, 3], [4, 6]]\n",
    "test2D\n",
    "# 6 출력해보기\n",
    "test2D[1][1]"
   ]
  },
  {
   "cell_type": "code",
   "execution_count": 24,
   "id": "208d9a49",
   "metadata": {},
   "outputs": [
    {
     "data": {
      "text/plain": [
       "[['hello', 'python'], ['good-bye', 'c']]"
      ]
     },
     "execution_count": 24,
     "metadata": {},
     "output_type": "execute_result"
    },
    {
     "data": {
      "text/plain": [
       "'good'"
      ]
     },
     "execution_count": 24,
     "metadata": {},
     "output_type": "execute_result"
    },
    {
     "data": {
      "text/plain": [
       "['good', 'bye']"
      ]
     },
     "execution_count": 24,
     "metadata": {},
     "output_type": "execute_result"
    },
    {
     "data": {
      "text/plain": [
       "'good'"
      ]
     },
     "execution_count": 24,
     "metadata": {},
     "output_type": "execute_result"
    }
   ],
   "source": [
    "myLang = [[\"hello\", \"python\"], [\"good-bye\", \"c\"]]\n",
    "myLang\n",
    "# good만 출력하기-slicing\n",
    "myLang[1][0][:4]\n",
    "# good만 출력하기-split\n",
    "myLang[1][0].split('-') # 리스트+\n",
    "myLang[1][0].split('-')[0]"
   ]
  }
 ],
 "metadata": {
  "kernelspec": {
   "display_name": "Python 3",
   "language": "python",
   "name": "python3"
  },
  "language_info": {
   "codemirror_mode": {
    "name": "ipython",
    "version": 3
   },
   "file_extension": ".py",
   "mimetype": "text/x-python",
   "name": "python",
   "nbconvert_exporter": "python",
   "pygments_lexer": "ipython3",
   "version": "3.8.5"
  }
 },
 "nbformat": 4,
 "nbformat_minor": 5
}
