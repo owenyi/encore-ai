{
 "cells": [
  {
   "cell_type": "code",
   "execution_count": 1,
   "metadata": {},
   "outputs": [],
   "source": [
    "import torch\n",
    "import torch.nn as nn\n",
    "import numpy as np\n",
    "import matplotlib.pyplot as plt"
   ]
  },
  {
   "cell_type": "markdown",
   "metadata": {},
   "source": [
    "#### Hyper-Parameters"
   ]
  },
  {
   "cell_type": "code",
   "execution_count": 2,
   "metadata": {},
   "outputs": [],
   "source": [
    "input_size = 1 # 1차원 데이터\n",
    "output_size = 1 # 1차원 데이터\n",
    "num_epochs = 100 # 학습횟수\n",
    "learning_rate = 0.001"
   ]
  },
  {
   "cell_type": "markdown",
   "metadata": {},
   "source": [
    "#### Toy DataSets"
   ]
  },
  {
   "cell_type": "code",
   "execution_count": 3,
   "metadata": {
    "scrolled": true
   },
   "outputs": [
    {
     "data": {
      "text/plain": [
       "array([[1.7  ],\n",
       "       [2.76 ],\n",
       "       [2.09 ],\n",
       "       [3.19 ],\n",
       "       [1.694],\n",
       "       [1.573],\n",
       "       [3.366],\n",
       "       [2.596],\n",
       "       [2.53 ],\n",
       "       [1.221],\n",
       "       [2.827],\n",
       "       [3.465],\n",
       "       [1.65 ],\n",
       "       [2.904],\n",
       "       [1.3  ]], dtype=float32)"
      ]
     },
     "execution_count": 3,
     "metadata": {},
     "output_type": "execute_result"
    }
   ],
   "source": [
    "x_train = np.array([[3.3], [4.4], [5.5], [6.71], [6.93], [4.168], \n",
    "                    [9.779], [6.182], [7.59], [2.167], [7.042], \n",
    "                    [10.791], [5.313], [7.997], [3.1]], dtype=np.float32)\n",
    "\n",
    "y_train = np.array([[1.7], [2.76], [2.09], [3.19], [1.694], [1.573], \n",
    "                    [3.366], [2.596], [2.53], [1.221], [2.827], \n",
    "                    [3.465], [1.65], [2.904], [1.3]], dtype=np.float32)\n",
    "\n",
    "x_train\n",
    "y_train"
   ]
  },
  {
   "cell_type": "markdown",
   "metadata": {},
   "source": [
    "  1. 모델 생성\n",
    "  2. loss, optimizer 미리 정의\n",
    "  3. 모델에 데이터를 입력하고 그 결과로 예측 값을 반환받는다.\n",
    "  4. 예측 값이 반환되면 Loss를 알 수 있다.(이 때 2번에 미리 정의된 loss 함수를 호출)\n",
    "  5. loss, backward() --> Loss에 대한 책임을 W에게 묻는다. --> 편미분이 적용된다.\n",
    "  6. 5번의 결과를 가지고 학습을 진행\n",
    "    \n",
    "3~6번의 과정을 총 100번 진행한다. num_epochs = 100"
   ]
  },
  {
   "cell_type": "markdown",
   "metadata": {},
   "source": [
    "#### Linear Regression Model"
   ]
  },
  {
   "cell_type": "code",
   "execution_count": 4,
   "metadata": {},
   "outputs": [],
   "source": [
    "model = nn.Linear(input_size, output_size)"
   ]
  },
  {
   "cell_type": "markdown",
   "metadata": {},
   "source": [
    "#### Loss Function and Optimizer"
   ]
  },
  {
   "cell_type": "code",
   "execution_count": 5,
   "metadata": {},
   "outputs": [],
   "source": [
    "loss_function = nn.MSELoss()\n",
    "optimizer = torch.optim.SGD(model.parameters(), lr=learning_rate)"
   ]
  },
  {
   "cell_type": "markdown",
   "metadata": {},
   "source": [
    "#### Train Model"
   ]
  },
  {
   "cell_type": "code",
   "execution_count": 6,
   "metadata": {},
   "outputs": [
    {
     "name": "stdout",
     "output_type": "stream",
     "text": [
      "Epoch : [5/100], Loss : 25.0247\n",
      "Epoch : [10/100], Loss : 10.2489\n",
      "Epoch : [15/100], Loss : 4.2630\n",
      "Epoch : [20/100], Loss : 1.8379\n",
      "Epoch : [25/100], Loss : 0.8555\n",
      "Epoch : [30/100], Loss : 0.4575\n",
      "Epoch : [35/100], Loss : 0.2962\n",
      "Epoch : [40/100], Loss : 0.2308\n",
      "Epoch : [45/100], Loss : 0.2043\n",
      "Epoch : [50/100], Loss : 0.1936\n",
      "Epoch : [55/100], Loss : 0.1892\n",
      "Epoch : [60/100], Loss : 0.1874\n",
      "Epoch : [65/100], Loss : 0.1866\n",
      "Epoch : [70/100], Loss : 0.1863\n",
      "Epoch : [75/100], Loss : 0.1861\n",
      "Epoch : [80/100], Loss : 0.1860\n",
      "Epoch : [85/100], Loss : 0.1860\n",
      "Epoch : [90/100], Loss : 0.1859\n",
      "Epoch : [95/100], Loss : 0.1859\n",
      "Epoch : [100/100], Loss : 0.1858\n"
     ]
    }
   ],
   "source": [
    "for epoch in range(num_epochs): # 100번 학습한다...for를 100번 반복\n",
    "    # numpy array를 torch의 Tensor로 만들어서 머신에 입력해야 한다.\n",
    "    inputs = torch.from_numpy(x_train) # X\n",
    "    targets = torch.from_numpy(y_train) # y\n",
    "    \n",
    "    # Forward Pass\n",
    "    pred = model(inputs)\n",
    "    loss = loss_function(pred, targets)\n",
    "    \n",
    "    # Backward and Optimization\n",
    "    optimizer.zero_grad() # 이 부분이 가장 먼저 나와야 한다...초기화\n",
    "    loss.backward()\n",
    "    optimizer.step()\n",
    "    \n",
    "    if (epoch + 1) % 5 == 0:\n",
    "        print(f\"Epoch : [{epoch + 1}/{num_epochs}], Loss : {loss.item():.4f}\")"
   ]
  },
  {
   "cell_type": "markdown",
   "metadata": {},
   "source": [
    "#### Plot the Graph"
   ]
  },
  {
   "cell_type": "code",
   "execution_count": 7,
   "metadata": {},
   "outputs": [
    {
     "data": {
      "image/png": "[encoded data removed]",
      "text/plain": [
       "<Figure size 432x288 with 1 Axes>"
      ]
     },
     "metadata": {
      "needs_background": "light"
     },
     "output_type": "display_data"
    }
   ],
   "source": [
    "# 시각화 할 때는 다시 Tensor에서 Numpy로\n",
    "predict = model(torch.from_numpy(x_train)).detach().numpy()\n",
    "\n",
    "plt.plot(x_train, y_train, 'ro', label='Original Data')\n",
    "plt.plot(x_train, predict, label='Predict Line')\n",
    "plt.legend()\n",
    "plt.show()\n",
    "\n",
    "torch.save(model.state_dict(), 'model.ckpt') # check point에 가중치 저장"
   ]
  }
 ],
 "metadata": {
  "kernelspec": {
   "display_name": "Python 3",
   "language": "python",
   "name": "python3"
  },
  "language_info": {
   "codemirror_mode": {
    "name": "ipython",
    "version": 3
   },
   "file_extension": ".py",
   "mimetype": "text/x-python",
   "name": "python",
   "nbconvert_exporter": "python",
   "pygments_lexer": "ipython3",
   "version": "3.8.5"
  }
 },
 "nbformat": 4,
 "nbformat_minor": 4
}
