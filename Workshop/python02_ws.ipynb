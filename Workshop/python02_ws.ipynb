{
 "cells": [
  {
   "cell_type": "markdown",
   "metadata": {},
   "source": [
    "## Problem\n",
    "### 1. 리스트\n",
    "    출력 결과를 보고 나머지 코드를 완성하세요\n"
   ]
  },
  {
   "cell_type": "code",
   "execution_count": 5,
   "metadata": {},
   "outputs": [
    {
     "data": {
      "text/plain": [
       "[5, 7, 10, 6, 9, 3]"
      ]
     },
     "execution_count": 5,
     "metadata": {},
     "output_type": "execute_result"
    }
   ],
   "source": [
    "myList = [3,9,6,10,7,5]\n",
    "list(reversed(myList))"
   ]
  },
  {
   "cell_type": "code",
   "execution_count": 7,
   "metadata": {},
   "outputs": [],
   "source": [
    "tempL=[0,1,2]"
   ]
  },
  {
   "cell_type": "code",
   "execution_count": 8,
   "metadata": {},
   "outputs": [
    {
     "data": {
      "text/plain": [
       "[3, 9, 6, 10, 7, 5, 0, 1, 2]"
      ]
     },
     "execution_count": 8,
     "metadata": {},
     "output_type": "execute_result"
    }
   ],
   "source": [
    "myList += tempL\n",
    "myList"
   ]
  },
  {
   "cell_type": "markdown",
   "metadata": {},
   "source": [
    "### 2. 딕셔너리\n",
    "    출력 결과를 보고 나머지 코드를 완성하세요"
   ]
  },
  {
   "cell_type": "code",
   "execution_count": 14,
   "metadata": {},
   "outputs": [
    {
     "data": {
      "text/plain": [
       "{'철수': '95', '영희': '88', '길동': '92'}"
      ]
     },
     "execution_count": 14,
     "metadata": {},
     "output_type": "execute_result"
    }
   ],
   "source": [
    "score={\n",
    "    \"철수\":\"95\",\n",
    "    \"영희\":\"88\",\n",
    "    \"길동\":\"92\"\n",
    "}\n",
    "score"
   ]
  },
  {
   "cell_type": "code",
   "execution_count": 15,
   "metadata": {},
   "outputs": [
    {
     "data": {
      "text/plain": [
       "'92'"
      ]
     },
     "execution_count": 15,
     "metadata": {},
     "output_type": "execute_result"
    }
   ],
   "source": [
    "# 수지 : 87  추가\n",
    "# 길동은 삭제\n",
    "score[\"수지\"] = \"87\"\n",
    "score.pop(\"길동\")"
   ]
  },
  {
   "cell_type": "code",
   "execution_count": 16,
   "metadata": {},
   "outputs": [
    {
     "data": {
      "text/plain": [
       "{'철수': '95', '영희': '88', '수지': 87}"
      ]
     },
     "execution_count": 16,
     "metadata": {},
     "output_type": "execute_result"
    }
   ],
   "source": [
    "score"
   ]
  },
  {
   "cell_type": "code",
   "execution_count": 18,
   "metadata": {},
   "outputs": [
    {
     "data": {
      "text/plain": [
       "{'철수': '95', '영희': '88', '수지': 87, '민영': '85', '두리': '55', '남일': '69'}"
      ]
     },
     "execution_count": 18,
     "metadata": {},
     "output_type": "execute_result"
    }
   ],
   "source": [
    "# 민영,두리, 남일 한꺼번에 추가\n",
    "score.update({'민영': '85', '두리': '55', '남일': '69'})\n",
    "score"
   ]
  },
  {
   "cell_type": "code",
   "execution_count": 19,
   "metadata": {},
   "outputs": [
    {
     "name": "stdout",
     "output_type": "stream",
     "text": [
      "이름과 점수를 입력하시오 : ex)민호, 88민호, 88\n"
     ]
    },
    {
     "data": {
      "text/plain": [
       "{'철수': '95',\n",
       " '영희': '88',\n",
       " '수지': 87,\n",
       " '민영': '85',\n",
       " '두리': '55',\n",
       " '남일': '69',\n",
       " '민호': '88'}"
      ]
     },
     "execution_count": 19,
     "metadata": {},
     "output_type": "execute_result"
    }
   ],
   "source": [
    "# 다음은 input()을 사용해서 이름 점수를 ,를 기준으로 각각 입력하고\n",
    "# score에 들어있지 않은 키값이라면 score에 추가하는 로직을 작성\n",
    "# 최종적으로 결과를 출력받는다.\n",
    "\n",
    "# ex) 이름과 점수를 , 기준으로 입력하세요 >> 민호, 88\n",
    "\n",
    "n, s = input(\"이름과 점수를 입력하시오 : ex)민호, 88\").split(', ')\n",
    "score[n] = s\n",
    "score"
   ]
  },
  {
   "cell_type": "markdown",
   "metadata": {},
   "source": [
    "### 3. for문\n",
    "   "
   ]
  },
  {
   "cell_type": "code",
   "execution_count": 20,
   "metadata": {},
   "outputs": [
    {
     "name": "stdout",
     "output_type": "stream",
     "text": [
      "result.h\n",
      "intra.c\n"
     ]
    }
   ],
   "source": [
    "filenames = ['result.h', 'intra.c', 'run.py']\n",
    "\n",
    "# filenames 에서 파일의 확장자가 'h' 이거나 'c' 인 파일만 출력\n",
    "for f in filenames:\n",
    "    if f[-1] in ['h', 'c']: print(f)"
   ]
  },
  {
   "cell_type": "code",
   "execution_count": 25,
   "metadata": {},
   "outputs": [
    {
     "data": {
      "text/plain": [
       "220"
      ]
     },
     "execution_count": 25,
     "metadata": {},
     "output_type": "execute_result"
    }
   ],
   "source": [
    "total=0\n",
    "\n",
    "for i in range(2, 12):\n",
    "    subTotal=0\n",
    "    for j in range(1, i):\n",
    "        subTotal += j\n",
    "    total += subTotal\n",
    "total"
   ]
  }
 ],
 "metadata": {
  "kernelspec": {
   "display_name": "Python 3",
   "language": "python",
   "name": "python3"
  },
  "language_info": {
   "codemirror_mode": {
    "name": "ipython",
    "version": 3
   },
   "file_extension": ".py",
   "mimetype": "text/x-python",
   "name": "python",
   "nbconvert_exporter": "python",
   "pygments_lexer": "ipython3",
   "version": "3.8.5"
  }
 },
 "nbformat": 4,
 "nbformat_minor": 4
}
